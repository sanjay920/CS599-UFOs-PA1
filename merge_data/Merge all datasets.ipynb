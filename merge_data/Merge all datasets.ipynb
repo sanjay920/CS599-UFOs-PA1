{
 "cells": [
  {
   "cell_type": "code",
   "execution_count": 16,
   "metadata": {},
   "outputs": [],
   "source": [
    "import pandas as pd"
   ]
  },
  {
   "cell_type": "code",
   "execution_count": 17,
   "metadata": {},
   "outputs": [],
   "source": [
    "import sys\n",
    "stdout = sys.stdout\n",
    "reload(sys)\n",
    "sys.setdefaultencoding('utf-8')\n",
    "sys.stdout = stdout"
   ]
  },
  {
   "cell_type": "markdown",
   "metadata": {},
   "source": [
    "----"
   ]
  },
  {
   "cell_type": "code",
   "execution_count": 35,
   "metadata": {},
   "outputs": [],
   "source": [
    "airports_df = pd.read_csv('../data/airport_dataset/reference_w_airports.csv')\n",
    "sports_df = pd.read_csv('../data/sports_dataset/reference_w_sports.csv')\n",
    "population_df = pd.read_csv('../data/population_dataset/reference_w_population.csv')\n",
    "meteorite_df = pd.read_csv('../data/meteorite_dataset/reference_w_meteorite.csv')"
   ]
  },
  {
   "cell_type": "code",
   "execution_count": 36,
   "metadata": {},
   "outputs": [],
   "source": [
    "ref_df = pd.read_csv('../data/reference_w_loc.csv')"
   ]
  },
  {
   "cell_type": "markdown",
   "metadata": {},
   "source": [
    "#### Sanity check: make sure all DFs have same number of rows"
   ]
  },
  {
   "cell_type": "code",
   "execution_count": 37,
   "metadata": {},
   "outputs": [
    {
     "data": {
      "text/plain": [
       "False"
      ]
     },
     "execution_count": 37,
     "metadata": {},
     "output_type": "execute_result"
    }
   ],
   "source": [
    "len(ref_df.index) == len(airports_df.index) == len(sports_df.index) == len(population_df.index) == len(meteorite_df.index)"
   ]
  },
  {
   "cell_type": "code",
   "execution_count": 38,
   "metadata": {},
   "outputs": [
    {
     "data": {
      "text/plain": [
       "(38511, 12)"
      ]
     },
     "execution_count": 38,
     "metadata": {},
     "output_type": "execute_result"
    }
   ],
   "source": [
    "ref_df.shape"
   ]
  },
  {
   "cell_type": "code",
   "execution_count": 39,
   "metadata": {},
   "outputs": [
    {
     "data": {
      "text/plain": [
       "(38511, 20)"
      ]
     },
     "execution_count": 39,
     "metadata": {},
     "output_type": "execute_result"
    }
   ],
   "source": [
    "airports_df.shape"
   ]
  },
  {
   "cell_type": "code",
   "execution_count": 40,
   "metadata": {},
   "outputs": [
    {
     "data": {
      "text/plain": [
       "(38511, 17)"
      ]
     },
     "execution_count": 40,
     "metadata": {},
     "output_type": "execute_result"
    }
   ],
   "source": [
    "sports_df.shape"
   ]
  },
  {
   "cell_type": "code",
   "execution_count": 41,
   "metadata": {},
   "outputs": [
    {
     "data": {
      "text/plain": [
       "(38439, 14)"
      ]
     },
     "execution_count": 41,
     "metadata": {},
     "output_type": "execute_result"
    }
   ],
   "source": [
    "population_df.shape"
   ]
  },
  {
   "cell_type": "code",
   "execution_count": 42,
   "metadata": {},
   "outputs": [
    {
     "data": {
      "text/plain": [
       "(38511, 17)"
      ]
     },
     "execution_count": 42,
     "metadata": {},
     "output_type": "execute_result"
    }
   ],
   "source": [
    "meteorite_df.shape"
   ]
  },
  {
   "cell_type": "markdown",
   "metadata": {},
   "source": [
    "### Merge ref with airports"
   ]
  },
  {
   "cell_type": "code",
   "execution_count": 43,
   "metadata": {},
   "outputs": [
    {
     "data": {
      "text/plain": [
       "Index([u'id', u'description', u'duration', u'location', u'reported_at',\n",
       "       u'shape', u'sighted_at', u'geocoded_latitude', u'geocoded_longitude',\n",
       "       u'city', u'state', u'country', u'closest_LARGE_airport_name',\n",
       "       u'closest_LARGE_airport_distance', u'closest_MEDIUM_airport_name',\n",
       "       u'closest_MEDIUM_airport_distance', u'closest_SMALL_airport_name',\n",
       "       u'closest_SMALL_airport_distance', u'closest_CLOSED_airport_name',\n",
       "       u'closest_CLOSED_airport_distance'],\n",
       "      dtype='object')"
      ]
     },
     "execution_count": 43,
     "metadata": {},
     "output_type": "execute_result"
    }
   ],
   "source": [
    "airports_df.columns"
   ]
  },
  {
   "cell_type": "code",
   "execution_count": 45,
   "metadata": {},
   "outputs": [],
   "source": [
    "airports_subset_df = airports_df[['id','geocoded_latitude','geocoded_longitude','closest_LARGE_airport_distance', 'closest_MEDIUM_airport_distance','closest_SMALL_airport_distance']]"
   ]
  },
  {
   "cell_type": "code",
   "execution_count": 48,
   "metadata": {},
   "outputs": [],
   "source": [
    "airports_subset_df.columns.values[1] = 'airport_lat'\n",
    "airports_subset_df.columns.values[2] = 'airport_lon'"
   ]
  },
  {
   "cell_type": "code",
   "execution_count": 49,
   "metadata": {},
   "outputs": [
    {
     "data": {
      "text/html": [
       "<div>\n",
       "<table border=\"1\" class=\"dataframe\">\n",
       "  <thead>\n",
       "    <tr style=\"text-align: right;\">\n",
       "      <th></th>\n",
       "      <th>id</th>\n",
       "      <th>airport_lat</th>\n",
       "      <th>airport_lon</th>\n",
       "      <th>closest_LARGE_airport_distance</th>\n",
       "      <th>closest_MEDIUM_airport_distance</th>\n",
       "      <th>closest_SMALL_airport_distance</th>\n",
       "    </tr>\n",
       "  </thead>\n",
       "  <tbody>\n",
       "    <tr>\n",
       "      <th>0</th>\n",
       "      <td>0</td>\n",
       "      <td>41.661256</td>\n",
       "      <td>-91.529911</td>\n",
       "      <td>12.498008</td>\n",
       "      <td>6.616011</td>\n",
       "      <td>0.683006</td>\n",
       "    </tr>\n",
       "  </tbody>\n",
       "</table>\n",
       "</div>"
      ],
      "text/plain": [
       "   id  airport_lat  airport_lon  closest_LARGE_airport_distance  \\\n",
       "0   0    41.661256   -91.529911                       12.498008   \n",
       "\n",
       "   closest_MEDIUM_airport_distance  closest_SMALL_airport_distance  \n",
       "0                         6.616011                        0.683006  "
      ]
     },
     "execution_count": 49,
     "metadata": {},
     "output_type": "execute_result"
    }
   ],
   "source": [
    "airports_subset_df.head(1)"
   ]
  },
  {
   "cell_type": "code",
   "execution_count": 50,
   "metadata": {},
   "outputs": [],
   "source": [
    "ref_airports = ref_df.merge(airports_subset_df, on='id')"
   ]
  },
  {
   "cell_type": "markdown",
   "metadata": {},
   "source": [
    "### Merge ref_airports with sports"
   ]
  },
  {
   "cell_type": "code",
   "execution_count": 51,
   "metadata": {},
   "outputs": [
    {
     "data": {
      "text/plain": [
       "Index([u'id', u'description', u'duration', u'location', u'reported_at',\n",
       "       u'shape', u'sighted_at', u'geocoded_latitude', u'geocoded_longitude',\n",
       "       u'city', u'state', u'country', u'closest_metro_name',\n",
       "       u'closest_metro_distance', u'closest_metro_pop', u'closest_metro_m4',\n",
       "       u'closest_metro_m6'],\n",
       "      dtype='object')"
      ]
     },
     "execution_count": 51,
     "metadata": {},
     "output_type": "execute_result"
    }
   ],
   "source": [
    "sports_df.columns"
   ]
  },
  {
   "cell_type": "code",
   "execution_count": 52,
   "metadata": {},
   "outputs": [],
   "source": [
    "sports_df.closest_metro_pop = sports_df.closest_metro_pop.str.replace(\",\",\"\").astype(float)"
   ]
  },
  {
   "cell_type": "code",
   "execution_count": 54,
   "metadata": {},
   "outputs": [],
   "source": [
    "sports_subset_df = sports_df[['id', 'geocoded_latitude', 'geocoded_longitude', 'closest_metro_distance', 'closest_metro_pop', 'closest_metro_m4', 'closest_metro_m6']]"
   ]
  },
  {
   "cell_type": "code",
   "execution_count": 55,
   "metadata": {},
   "outputs": [],
   "source": [
    "sports_subset_df.columns.values[1] = 'sports_metro_lat'\n",
    "sports_subset_df.columns.values[2] = 'sports_metro_lon'"
   ]
  },
  {
   "cell_type": "code",
   "execution_count": 56,
   "metadata": {},
   "outputs": [],
   "source": [
    "ref_airports_sports = ref_airports.merge(sports_subset_df, on='id')"
   ]
  },
  {
   "cell_type": "markdown",
   "metadata": {},
   "source": [
    "### Merge ref_airports_sports with population"
   ]
  },
  {
   "cell_type": "code",
   "execution_count": 57,
   "metadata": {},
   "outputs": [
    {
     "data": {
      "text/plain": [
       "Index([u'id', u'description', u'duration', u'location', u'reported_at',\n",
       "       u'shape', u'sighted_at', u'geocoded_latitude', u'geocoded_longitude',\n",
       "       u'city', u'state', u'country', u'year', u'population'],\n",
       "      dtype='object')"
      ]
     },
     "execution_count": 57,
     "metadata": {},
     "output_type": "execute_result"
    }
   ],
   "source": [
    "population_df.columns"
   ]
  },
  {
   "cell_type": "code",
   "execution_count": 58,
   "metadata": {},
   "outputs": [],
   "source": [
    "pop_df = population_df[['id','population']]"
   ]
  },
  {
   "cell_type": "code",
   "execution_count": 59,
   "metadata": {},
   "outputs": [
    {
     "data": {
      "text/plain": [
       "Index([u'id', u'population'], dtype='object')"
      ]
     },
     "execution_count": 59,
     "metadata": {},
     "output_type": "execute_result"
    }
   ],
   "source": [
    "pop_df.columns"
   ]
  },
  {
   "cell_type": "code",
   "execution_count": 60,
   "metadata": {},
   "outputs": [],
   "source": [
    "ref_airports_sports_population = ref_airports_sports.merge(pop_df, on='id')"
   ]
  },
  {
   "cell_type": "code",
   "execution_count": 65,
   "metadata": {},
   "outputs": [
    {
     "data": {
      "text/plain": [
       "(38439, 24)"
      ]
     },
     "execution_count": 65,
     "metadata": {},
     "output_type": "execute_result"
    }
   ],
   "source": [
    "ref_airports_sports_population.shape"
   ]
  },
  {
   "cell_type": "markdown",
   "metadata": {},
   "source": [
    "### Merge ref_airports_sports_population with meteorite"
   ]
  },
  {
   "cell_type": "code",
   "execution_count": 66,
   "metadata": {},
   "outputs": [
    {
     "data": {
      "text/plain": [
       "Index([u'id', u'description', u'duration', u'location', u'reported_at',\n",
       "       u'shape', u'sighted_at', u'geocoded_latitude', u'geocoded_longitude',\n",
       "       u'city', u'state', u'country', u'meteor_name', u'distance_to_meteor',\n",
       "       u'reason', u'metorite_lat', u'metorite_long'],\n",
       "      dtype='object')"
      ]
     },
     "execution_count": 66,
     "metadata": {},
     "output_type": "execute_result"
    }
   ],
   "source": [
    "meteorite_df.columns"
   ]
  },
  {
   "cell_type": "code",
   "execution_count": 67,
   "metadata": {},
   "outputs": [
    {
     "data": {
      "text/plain": [
       "38511"
      ]
     },
     "execution_count": 67,
     "metadata": {},
     "output_type": "execute_result"
    }
   ],
   "source": [
    "len(meteorite_df['distance_to_meteor'].notnull())"
   ]
  },
  {
   "cell_type": "code",
   "execution_count": 68,
   "metadata": {},
   "outputs": [],
   "source": [
    "meteorite_df['meteor_sighting'] = meteorite_df['distance_to_meteor'].notnull().astype(int)"
   ]
  },
  {
   "cell_type": "code",
   "execution_count": 69,
   "metadata": {},
   "outputs": [],
   "source": [
    "meteorite_subset_df = meteorite_df[['id', 'geocoded_latitude', 'geocoded_longitude','meteor_sighting']]"
   ]
  },
  {
   "cell_type": "code",
   "execution_count": 70,
   "metadata": {},
   "outputs": [],
   "source": [
    "meteorite_subset_df.columns.values[1] = 'meteorite_lat'\n",
    "meteorite_subset_df.columns.values[2] = 'meteorite_lon'"
   ]
  },
  {
   "cell_type": "code",
   "execution_count": 71,
   "metadata": {},
   "outputs": [],
   "source": [
    "final_df = ref_airports_sports_population.merge(meteorite_subset_df, on='id')"
   ]
  },
  {
   "cell_type": "code",
   "execution_count": 72,
   "metadata": {},
   "outputs": [
    {
     "data": {
      "text/plain": [
       "(38439, 27)"
      ]
     },
     "execution_count": 72,
     "metadata": {},
     "output_type": "execute_result"
    }
   ],
   "source": [
    "final_df.shape"
   ]
  },
  {
   "cell_type": "code",
   "execution_count": 73,
   "metadata": {},
   "outputs": [
    {
     "data": {
      "text/html": [
       "<div>\n",
       "<table border=\"1\" class=\"dataframe\">\n",
       "  <thead>\n",
       "    <tr style=\"text-align: right;\">\n",
       "      <th></th>\n",
       "      <th>id</th>\n",
       "      <th>description</th>\n",
       "      <th>duration</th>\n",
       "      <th>location</th>\n",
       "      <th>reported_at</th>\n",
       "      <th>shape</th>\n",
       "      <th>sighted_at</th>\n",
       "      <th>geocoded_latitude</th>\n",
       "      <th>geocoded_longitude</th>\n",
       "      <th>city</th>\n",
       "      <th>...</th>\n",
       "      <th>sports_metro_lat</th>\n",
       "      <th>sports_metro_lon</th>\n",
       "      <th>closest_metro_distance</th>\n",
       "      <th>closest_metro_pop</th>\n",
       "      <th>closest_metro_m4</th>\n",
       "      <th>closest_metro_m6</th>\n",
       "      <th>population</th>\n",
       "      <th>meteorite_lat</th>\n",
       "      <th>meteorite_lon</th>\n",
       "      <th>meteor_sighting</th>\n",
       "    </tr>\n",
       "  </thead>\n",
       "  <tbody>\n",
       "    <tr>\n",
       "      <th>1353</th>\n",
       "      <td>1764</td>\n",
       "      <td>Summary : A streak of greenish and white light...</td>\n",
       "      <td>5 seconds</td>\n",
       "      <td>Frontenac, MO</td>\n",
       "      <td>19970708</td>\n",
       "      <td>light</td>\n",
       "      <td>19970704</td>\n",
       "      <td>38.635844</td>\n",
       "      <td>-90.414979</td>\n",
       "      <td>Frontenac</td>\n",
       "      <td>...</td>\n",
       "      <td>38.635844</td>\n",
       "      <td>-90.414979</td>\n",
       "      <td>11.967999</td>\n",
       "      <td>2195000.0</td>\n",
       "      <td>2.0</td>\n",
       "      <td>2.0</td>\n",
       "      <td>5595211</td>\n",
       "      <td>38.635844</td>\n",
       "      <td>-90.414979</td>\n",
       "      <td>0</td>\n",
       "    </tr>\n",
       "  </tbody>\n",
       "</table>\n",
       "<p>1 rows × 27 columns</p>\n",
       "</div>"
      ],
      "text/plain": [
       "        id                                        description   duration  \\\n",
       "1353  1764  Summary : A streak of greenish and white light...  5 seconds   \n",
       "\n",
       "            location  reported_at   shape  sighted_at  geocoded_latitude  \\\n",
       "1353   Frontenac, MO     19970708   light    19970704          38.635844   \n",
       "\n",
       "      geocoded_longitude       city       ...        sports_metro_lat  \\\n",
       "1353          -90.414979  Frontenac       ...               38.635844   \n",
       "\n",
       "     sports_metro_lon  closest_metro_distance  closest_metro_pop  \\\n",
       "1353       -90.414979               11.967999          2195000.0   \n",
       "\n",
       "      closest_metro_m4  closest_metro_m6  population  meteorite_lat  \\\n",
       "1353               2.0               2.0     5595211      38.635844   \n",
       "\n",
       "      meteorite_lon  meteor_sighting  \n",
       "1353     -90.414979                0  \n",
       "\n",
       "[1 rows x 27 columns]"
      ]
     },
     "execution_count": 73,
     "metadata": {},
     "output_type": "execute_result"
    }
   ],
   "source": [
    "final_df.sample()"
   ]
  },
  {
   "cell_type": "code",
   "execution_count": 75,
   "metadata": {},
   "outputs": [],
   "source": [
    "final_df.to_csv(\"ufo_dataset_final.csv\" ,index=False)"
   ]
  },
  {
   "cell_type": "code",
   "execution_count": 76,
   "metadata": {},
   "outputs": [],
   "source": [
    "final_df.to_csv(\"ufo_dataset_final_with_lat_lon.csv\" ,index=False)"
   ]
  },
  {
   "cell_type": "code",
   "execution_count": 3,
   "metadata": {},
   "outputs": [],
   "source": [
    "# final_df.to_pickle('../data/pickle_files/ufo_dataset_final.pkl')\n",
    "# final_df = pd.read_pickle('../data/pickle_files/ufo_dataset_final.pkl')"
   ]
  },
  {
   "cell_type": "code",
   "execution_count": 77,
   "metadata": {},
   "outputs": [],
   "source": [
    "# final_df.to_pickle('../data/pickle_files/ufo_dataset_final_with_lat_lon.pkl')\n",
    "# final_df = pd.read_pickle('../data/pickle_files/ufo_dataset_final_with_lat_lon.pkl')"
   ]
  },
  {
   "cell_type": "code",
   "execution_count": 80,
   "metadata": {},
   "outputs": [
    {
     "data": {
      "text/plain": [
       "['id',\n",
       " 'description',\n",
       " 'duration',\n",
       " 'location',\n",
       " 'reported_at',\n",
       " 'shape',\n",
       " 'sighted_at',\n",
       " 'geocoded_latitude',\n",
       " 'geocoded_longitude',\n",
       " 'city',\n",
       " 'state',\n",
       " 'country',\n",
       " 'airport_lat',\n",
       " 'airport_lon',\n",
       " 'closest_LARGE_airport_distance',\n",
       " 'closest_MEDIUM_airport_distance',\n",
       " 'closest_SMALL_airport_distance',\n",
       " 'sports_metro_lat',\n",
       " 'sports_metro_lon',\n",
       " 'closest_metro_distance',\n",
       " 'closest_metro_pop',\n",
       " 'closest_metro_m4',\n",
       " 'closest_metro_m6',\n",
       " 'population',\n",
       " 'meteorite_lat',\n",
       " 'meteorite_lon',\n",
       " 'meteor_sighting']"
      ]
     },
     "execution_count": 80,
     "metadata": {},
     "output_type": "execute_result"
    }
   ],
   "source": [
    "list(final_df.columns.values)"
   ]
  },
  {
   "cell_type": "code",
   "execution_count": 81,
   "metadata": {},
   "outputs": [],
   "source": [
    "ftrs = ['closest_LARGE_airport_distance', 'closest_MEDIUM_airport_distance', 'closest_SMALL_airport_distance', 'closest_metro_distance', 'closest_metro_pop', 'closest_metro_m4', 'closest_metro_m6', 'population', 'meteor_sighting']"
   ]
  },
  {
   "cell_type": "code",
   "execution_count": 82,
   "metadata": {},
   "outputs": [],
   "source": [
    "df_only_ftrs = final_df[ftrs]"
   ]
  },
  {
   "cell_type": "code",
   "execution_count": 83,
   "metadata": {},
   "outputs": [],
   "source": [
    "normalized_final_df=(df_only_ftrs-df_only_ftrs.min())/(df_only_ftrs.max()-df_only_ftrs.min())"
   ]
  },
  {
   "cell_type": "code",
   "execution_count": 84,
   "metadata": {},
   "outputs": [],
   "source": [
    "normalized_final_df['id'] = final_df['id']\n",
    "# airport coords\n",
    "normalized_final_df['airport_lat'] = final_df['airport_lat']\n",
    "normalized_final_df['airport_lon'] = final_df['airport_lon']\n",
    "# sports coords\n",
    "normalized_final_df['sports_metro_lat'] = final_df['sports_metro_lat']\n",
    "normalized_final_df['sports_metro_lon'] = final_df['sports_metro_lon']\n",
    "# meteor coords\n",
    "normalized_final_df['meteorite_lat'] = final_df['meteorite_lat']\n",
    "normalized_final_df['meteorite_lon'] = final_df['meteorite_lon']"
   ]
  },
  {
   "cell_type": "code",
   "execution_count": 85,
   "metadata": {},
   "outputs": [],
   "source": [
    "# normalized_final_df.to_csv('normalized_dataset_final.csv',index=False)\n",
    "normalized_final_df.to_csv('normalized_dataset_final_with_lat_lon.csv',index=False)"
   ]
  },
  {
   "cell_type": "code",
   "execution_count": null,
   "metadata": {},
   "outputs": [],
   "source": []
  }
 ],
 "metadata": {
  "kernelspec": {
   "display_name": "Python 2",
   "language": "python",
   "name": "python2"
  },
  "language_info": {
   "codemirror_mode": {
    "name": "ipython",
    "version": 2
   },
   "file_extension": ".py",
   "mimetype": "text/x-python",
   "name": "python",
   "nbconvert_exporter": "python",
   "pygments_lexer": "ipython2",
   "version": "2.7.14"
  }
 },
 "nbformat": 4,
 "nbformat_minor": 2
}
