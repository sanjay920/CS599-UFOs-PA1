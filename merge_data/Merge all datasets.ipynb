{
 "cells": [
  {
   "cell_type": "code",
   "execution_count": 1,
   "metadata": {},
   "outputs": [],
   "source": [
    "import pandas as pd"
   ]
  },
  {
   "cell_type": "code",
   "execution_count": 2,
   "metadata": {},
   "outputs": [],
   "source": [
    "import sys\n",
    "stdout = sys.stdout\n",
    "reload(sys)\n",
    "sys.setdefaultencoding('utf-8')\n",
    "sys.stdout = stdout"
   ]
  },
  {
   "cell_type": "markdown",
   "metadata": {},
   "source": [
    "----"
   ]
  },
  {
   "cell_type": "code",
   "execution_count": 3,
   "metadata": {},
   "outputs": [],
   "source": [
    "airports_df = pd.read_csv('../data/airport_dataset/reference_w_airports.csv')\n",
    "sports_df = pd.read_csv('../data/sports_dataset/reference_w_sports.csv')\n",
    "population_df = pd.read_csv('../data/population_dataset/reference_w_population.csv')\n",
    "meteorite_df = pd.read_csv('../data/meteorite_dataset/reference_w_meteorite.csv')"
   ]
  },
  {
   "cell_type": "code",
   "execution_count": 4,
   "metadata": {},
   "outputs": [],
   "source": [
    "ref_df = pd.read_csv('../data/reference_w_loc.csv')"
   ]
  },
  {
   "cell_type": "markdown",
   "metadata": {},
   "source": [
    "#### Sanity check: make sure all DFs have same number of rows"
   ]
  },
  {
   "cell_type": "code",
   "execution_count": 5,
   "metadata": {},
   "outputs": [
    {
     "data": {
      "text/plain": [
       "False"
      ]
     },
     "execution_count": 5,
     "metadata": {},
     "output_type": "execute_result"
    }
   ],
   "source": [
    "len(ref_df.index) == len(airports_df.index) == len(sports_df.index) == len(population_df.index) == len(meteorite_df.index)"
   ]
  },
  {
   "cell_type": "code",
   "execution_count": 6,
   "metadata": {},
   "outputs": [
    {
     "data": {
      "text/plain": [
       "(38511, 12)"
      ]
     },
     "execution_count": 6,
     "metadata": {},
     "output_type": "execute_result"
    }
   ],
   "source": [
    "ref_df.shape"
   ]
  },
  {
   "cell_type": "code",
   "execution_count": 7,
   "metadata": {},
   "outputs": [
    {
     "data": {
      "text/plain": [
       "(38511, 20)"
      ]
     },
     "execution_count": 7,
     "metadata": {},
     "output_type": "execute_result"
    }
   ],
   "source": [
    "airports_df.shape"
   ]
  },
  {
   "cell_type": "code",
   "execution_count": 8,
   "metadata": {},
   "outputs": [
    {
     "data": {
      "text/plain": [
       "(38511, 17)"
      ]
     },
     "execution_count": 8,
     "metadata": {},
     "output_type": "execute_result"
    }
   ],
   "source": [
    "sports_df.shape"
   ]
  },
  {
   "cell_type": "code",
   "execution_count": 9,
   "metadata": {},
   "outputs": [
    {
     "data": {
      "text/plain": [
       "(38439, 14)"
      ]
     },
     "execution_count": 9,
     "metadata": {},
     "output_type": "execute_result"
    }
   ],
   "source": [
    "population_df.shape"
   ]
  },
  {
   "cell_type": "code",
   "execution_count": 10,
   "metadata": {},
   "outputs": [
    {
     "data": {
      "text/plain": [
       "(38511, 17)"
      ]
     },
     "execution_count": 10,
     "metadata": {},
     "output_type": "execute_result"
    }
   ],
   "source": [
    "meteorite_df.shape"
   ]
  },
  {
   "cell_type": "markdown",
   "metadata": {},
   "source": [
    "### Merge ref with airports"
   ]
  },
  {
   "cell_type": "code",
   "execution_count": 11,
   "metadata": {},
   "outputs": [
    {
     "data": {
      "text/plain": [
       "Index([u'id', u'description', u'duration', u'location', u'reported_at',\n",
       "       u'shape', u'sighted_at', u'geocoded_latitude', u'geocoded_longitude',\n",
       "       u'city', u'state', u'country', u'closest_LARGE_airport_name',\n",
       "       u'closest_LARGE_airport_distance', u'closest_MEDIUM_airport_name',\n",
       "       u'closest_MEDIUM_airport_distance', u'closest_SMALL_airport_name',\n",
       "       u'closest_SMALL_airport_distance', u'closest_CLOSED_airport_name',\n",
       "       u'closest_CLOSED_airport_distance'],\n",
       "      dtype='object')"
      ]
     },
     "execution_count": 11,
     "metadata": {},
     "output_type": "execute_result"
    }
   ],
   "source": [
    "airports_df.columns"
   ]
  },
  {
   "cell_type": "code",
   "execution_count": 12,
   "metadata": {},
   "outputs": [],
   "source": [
    "airports_subset_df = airports_df[['id','geocoded_latitude','geocoded_longitude','closest_LARGE_airport_distance', 'closest_MEDIUM_airport_distance','closest_SMALL_airport_distance', 'closest_LARGE_airport_name', 'closest_MEDIUM_airport_name', 'closest_SMALL_airport_name']]"
   ]
  },
  {
   "cell_type": "code",
   "execution_count": 13,
   "metadata": {},
   "outputs": [],
   "source": [
    "airports_subset_df.columns.values[1] = 'airport_lat'\n",
    "airports_subset_df.columns.values[2] = 'airport_lon'"
   ]
  },
  {
   "cell_type": "code",
   "execution_count": 14,
   "metadata": {},
   "outputs": [
    {
     "data": {
      "text/html": [
       "<div>\n",
       "<table border=\"1\" class=\"dataframe\">\n",
       "  <thead>\n",
       "    <tr style=\"text-align: right;\">\n",
       "      <th></th>\n",
       "      <th>id</th>\n",
       "      <th>airport_lat</th>\n",
       "      <th>airport_lon</th>\n",
       "      <th>closest_LARGE_airport_distance</th>\n",
       "      <th>closest_MEDIUM_airport_distance</th>\n",
       "      <th>closest_SMALL_airport_distance</th>\n",
       "      <th>closest_LARGE_airport_name</th>\n",
       "      <th>closest_MEDIUM_airport_name</th>\n",
       "      <th>closest_SMALL_airport_name</th>\n",
       "    </tr>\n",
       "  </thead>\n",
       "  <tbody>\n",
       "    <tr>\n",
       "      <th>0</th>\n",
       "      <td>0</td>\n",
       "      <td>41.661256</td>\n",
       "      <td>-91.529911</td>\n",
       "      <td>12.498008</td>\n",
       "      <td>6.616011</td>\n",
       "      <td>0.683006</td>\n",
       "      <td>The Eastern Iowa Airport</td>\n",
       "      <td>Chippewa Valley Regional Airport</td>\n",
       "      <td>Marion Airport</td>\n",
       "    </tr>\n",
       "  </tbody>\n",
       "</table>\n",
       "</div>"
      ],
      "text/plain": [
       "   id  airport_lat  airport_lon  closest_LARGE_airport_distance  \\\n",
       "0   0    41.661256   -91.529911                       12.498008   \n",
       "\n",
       "   closest_MEDIUM_airport_distance  closest_SMALL_airport_distance  \\\n",
       "0                         6.616011                        0.683006   \n",
       "\n",
       "  closest_LARGE_airport_name       closest_MEDIUM_airport_name  \\\n",
       "0   The Eastern Iowa Airport  Chippewa Valley Regional Airport   \n",
       "\n",
       "  closest_SMALL_airport_name  \n",
       "0             Marion Airport  "
      ]
     },
     "execution_count": 14,
     "metadata": {},
     "output_type": "execute_result"
    }
   ],
   "source": [
    "airports_subset_df.head(1)"
   ]
  },
  {
   "cell_type": "code",
   "execution_count": 15,
   "metadata": {},
   "outputs": [],
   "source": [
    "ref_airports = ref_df.merge(airports_subset_df, on='id')"
   ]
  },
  {
   "cell_type": "code",
   "execution_count": 16,
   "metadata": {},
   "outputs": [
    {
     "data": {
      "text/html": [
       "<div>\n",
       "<table border=\"1\" class=\"dataframe\">\n",
       "  <thead>\n",
       "    <tr style=\"text-align: right;\">\n",
       "      <th></th>\n",
       "      <th>id</th>\n",
       "      <th>description</th>\n",
       "      <th>duration</th>\n",
       "      <th>location</th>\n",
       "      <th>reported_at</th>\n",
       "      <th>shape</th>\n",
       "      <th>sighted_at</th>\n",
       "      <th>geocoded_latitude</th>\n",
       "      <th>geocoded_longitude</th>\n",
       "      <th>city</th>\n",
       "      <th>state</th>\n",
       "      <th>country</th>\n",
       "      <th>airport_lat</th>\n",
       "      <th>airport_lon</th>\n",
       "      <th>closest_LARGE_airport_distance</th>\n",
       "      <th>closest_MEDIUM_airport_distance</th>\n",
       "      <th>closest_SMALL_airport_distance</th>\n",
       "      <th>closest_LARGE_airport_name</th>\n",
       "      <th>closest_MEDIUM_airport_name</th>\n",
       "      <th>closest_SMALL_airport_name</th>\n",
       "    </tr>\n",
       "  </thead>\n",
       "  <tbody>\n",
       "    <tr>\n",
       "      <th>0</th>\n",
       "      <td>0</td>\n",
       "      <td>Man repts. witnessing &amp;quot;flash, followed by...</td>\n",
       "      <td>NaN</td>\n",
       "      <td>Iowa City, IA</td>\n",
       "      <td>19951009</td>\n",
       "      <td>unknown</td>\n",
       "      <td>19951009</td>\n",
       "      <td>41.661256</td>\n",
       "      <td>-91.529911</td>\n",
       "      <td>Iowa City</td>\n",
       "      <td>Iowa</td>\n",
       "      <td>us</td>\n",
       "      <td>41.661256</td>\n",
       "      <td>-91.529911</td>\n",
       "      <td>12.498008</td>\n",
       "      <td>6.616011</td>\n",
       "      <td>0.683006</td>\n",
       "      <td>The Eastern Iowa Airport</td>\n",
       "      <td>Chippewa Valley Regional Airport</td>\n",
       "      <td>Marion Airport</td>\n",
       "    </tr>\n",
       "    <tr>\n",
       "      <th>1</th>\n",
       "      <td>1</td>\n",
       "      <td>Man  on Hwy 43 SW of Milwaukee sees large, bri...</td>\n",
       "      <td>2 min.</td>\n",
       "      <td>Milwaukee, WI</td>\n",
       "      <td>19951011</td>\n",
       "      <td>unknown</td>\n",
       "      <td>19951010</td>\n",
       "      <td>43.034993</td>\n",
       "      <td>-87.922497</td>\n",
       "      <td>Milwaukee</td>\n",
       "      <td>Wisconsin</td>\n",
       "      <td>us</td>\n",
       "      <td>43.034993</td>\n",
       "      <td>-87.922497</td>\n",
       "      <td>1.801887</td>\n",
       "      <td>1.157715</td>\n",
       "      <td>1.716202</td>\n",
       "      <td>General Mitchell International Airport</td>\n",
       "      <td>Kenosha Regional Airport</td>\n",
       "      <td>Herbert C. Maas Airport</td>\n",
       "    </tr>\n",
       "    <tr>\n",
       "      <th>2</th>\n",
       "      <td>2</td>\n",
       "      <td>Telephoned Report:CA woman visiting daughter w...</td>\n",
       "      <td>NaN</td>\n",
       "      <td>Shelton, WA</td>\n",
       "      <td>19950103</td>\n",
       "      <td>unknown</td>\n",
       "      <td>19950101</td>\n",
       "      <td>47.215094</td>\n",
       "      <td>-123.100707</td>\n",
       "      <td>Shelton</td>\n",
       "      <td>Washington</td>\n",
       "      <td>us</td>\n",
       "      <td>47.215094</td>\n",
       "      <td>-123.100707</td>\n",
       "      <td>43.233065</td>\n",
       "      <td>16.484896</td>\n",
       "      <td>3.339607</td>\n",
       "      <td>McChord Air Force Base</td>\n",
       "      <td>Olympia Regional Airport</td>\n",
       "      <td>Sanderson Field</td>\n",
       "    </tr>\n",
       "    <tr>\n",
       "      <th>3</th>\n",
       "      <td>3</td>\n",
       "      <td>Man repts. son&amp;apos;s bizarre sighting of smal...</td>\n",
       "      <td>2 min.</td>\n",
       "      <td>Columbia, MO</td>\n",
       "      <td>19950510</td>\n",
       "      <td>unknown</td>\n",
       "      <td>19950510</td>\n",
       "      <td>38.951883</td>\n",
       "      <td>-92.333737</td>\n",
       "      <td>Columbia</td>\n",
       "      <td>Missouri</td>\n",
       "      <td>us</td>\n",
       "      <td>38.951883</td>\n",
       "      <td>-92.333737</td>\n",
       "      <td>13.834501</td>\n",
       "      <td>7.889876</td>\n",
       "      <td>3.120229</td>\n",
       "      <td>Bill &amp; Hillary Clinton National Airport/Adams ...</td>\n",
       "      <td>Columbia Regional Airport</td>\n",
       "      <td>Willhite Airport</td>\n",
       "    </tr>\n",
       "    <tr>\n",
       "      <th>4</th>\n",
       "      <td>4</td>\n",
       "      <td>Anonymous caller repts. sighting 4 ufo&amp;apos;s ...</td>\n",
       "      <td>NaN</td>\n",
       "      <td>Seattle, WA</td>\n",
       "      <td>19950614</td>\n",
       "      <td>unknown</td>\n",
       "      <td>19950611</td>\n",
       "      <td>47.603832</td>\n",
       "      <td>-122.330062</td>\n",
       "      <td>Seattle</td>\n",
       "      <td>Washington</td>\n",
       "      <td>us</td>\n",
       "      <td>47.603832</td>\n",
       "      <td>-122.330062</td>\n",
       "      <td>3.343976</td>\n",
       "      <td>11.644950</td>\n",
       "      <td>8.871067</td>\n",
       "      <td>Boeing Field King County International Airport</td>\n",
       "      <td>Snohomish County (Paine Field) Airport</td>\n",
       "      <td>Renton Municipal Airport</td>\n",
       "    </tr>\n",
       "  </tbody>\n",
       "</table>\n",
       "</div>"
      ],
      "text/plain": [
       "   id                                        description duration  \\\n",
       "0   0  Man repts. witnessing &quot;flash, followed by...      NaN   \n",
       "1   1  Man  on Hwy 43 SW of Milwaukee sees large, bri...   2 min.   \n",
       "2   2  Telephoned Report:CA woman visiting daughter w...      NaN   \n",
       "3   3  Man repts. son&apos;s bizarre sighting of smal...   2 min.   \n",
       "4   4  Anonymous caller repts. sighting 4 ufo&apos;s ...      NaN   \n",
       "\n",
       "         location  reported_at    shape  sighted_at  geocoded_latitude  \\\n",
       "0   Iowa City, IA     19951009  unknown    19951009          41.661256   \n",
       "1   Milwaukee, WI     19951011  unknown    19951010          43.034993   \n",
       "2     Shelton, WA     19950103  unknown    19950101          47.215094   \n",
       "3    Columbia, MO     19950510  unknown    19950510          38.951883   \n",
       "4     Seattle, WA     19950614  unknown    19950611          47.603832   \n",
       "\n",
       "   geocoded_longitude       city       state country  airport_lat  \\\n",
       "0          -91.529911  Iowa City        Iowa      us    41.661256   \n",
       "1          -87.922497  Milwaukee   Wisconsin      us    43.034993   \n",
       "2         -123.100707    Shelton  Washington      us    47.215094   \n",
       "3          -92.333737   Columbia    Missouri      us    38.951883   \n",
       "4         -122.330062    Seattle  Washington      us    47.603832   \n",
       "\n",
       "   airport_lon  closest_LARGE_airport_distance  \\\n",
       "0   -91.529911                       12.498008   \n",
       "1   -87.922497                        1.801887   \n",
       "2  -123.100707                       43.233065   \n",
       "3   -92.333737                       13.834501   \n",
       "4  -122.330062                        3.343976   \n",
       "\n",
       "   closest_MEDIUM_airport_distance  closest_SMALL_airport_distance  \\\n",
       "0                         6.616011                        0.683006   \n",
       "1                         1.157715                        1.716202   \n",
       "2                        16.484896                        3.339607   \n",
       "3                         7.889876                        3.120229   \n",
       "4                        11.644950                        8.871067   \n",
       "\n",
       "                          closest_LARGE_airport_name  \\\n",
       "0                           The Eastern Iowa Airport   \n",
       "1             General Mitchell International Airport   \n",
       "2                             McChord Air Force Base   \n",
       "3  Bill & Hillary Clinton National Airport/Adams ...   \n",
       "4     Boeing Field King County International Airport   \n",
       "\n",
       "              closest_MEDIUM_airport_name closest_SMALL_airport_name  \n",
       "0        Chippewa Valley Regional Airport             Marion Airport  \n",
       "1                Kenosha Regional Airport    Herbert C. Maas Airport  \n",
       "2                Olympia Regional Airport            Sanderson Field  \n",
       "3               Columbia Regional Airport           Willhite Airport  \n",
       "4  Snohomish County (Paine Field) Airport   Renton Municipal Airport  "
      ]
     },
     "execution_count": 16,
     "metadata": {},
     "output_type": "execute_result"
    }
   ],
   "source": [
    "ref_airports.head()"
   ]
  },
  {
   "cell_type": "markdown",
   "metadata": {},
   "source": [
    "### Merge ref_airports with sports"
   ]
  },
  {
   "cell_type": "code",
   "execution_count": 17,
   "metadata": {},
   "outputs": [
    {
     "data": {
      "text/plain": [
       "Index([u'id', u'description', u'duration', u'location', u'reported_at',\n",
       "       u'shape', u'sighted_at', u'geocoded_latitude', u'geocoded_longitude',\n",
       "       u'city', u'state', u'country', u'closest_metro_name',\n",
       "       u'closest_metro_distance', u'closest_metro_pop', u'closest_metro_m4',\n",
       "       u'closest_metro_m6'],\n",
       "      dtype='object')"
      ]
     },
     "execution_count": 17,
     "metadata": {},
     "output_type": "execute_result"
    }
   ],
   "source": [
    "sports_df.columns"
   ]
  },
  {
   "cell_type": "code",
   "execution_count": 18,
   "metadata": {},
   "outputs": [],
   "source": [
    "sports_df.closest_metro_pop = sports_df.closest_metro_pop.str.replace(\",\",\"\").astype(float)"
   ]
  },
  {
   "cell_type": "code",
   "execution_count": 19,
   "metadata": {},
   "outputs": [],
   "source": [
    "sports_subset_df = sports_df[['id', 'geocoded_latitude', 'geocoded_longitude', 'closest_metro_distance', 'closest_metro_pop', 'closest_metro_m4', 'closest_metro_m6']]"
   ]
  },
  {
   "cell_type": "code",
   "execution_count": 20,
   "metadata": {},
   "outputs": [],
   "source": [
    "sports_subset_df.columns.values[1] = 'sports_metro_lat'\n",
    "sports_subset_df.columns.values[2] = 'sports_metro_lon'"
   ]
  },
  {
   "cell_type": "code",
   "execution_count": 21,
   "metadata": {},
   "outputs": [],
   "source": [
    "ref_airports_sports = ref_airports.merge(sports_subset_df, on='id')"
   ]
  },
  {
   "cell_type": "markdown",
   "metadata": {},
   "source": [
    "### Merge ref_airports_sports with population"
   ]
  },
  {
   "cell_type": "code",
   "execution_count": 22,
   "metadata": {},
   "outputs": [
    {
     "data": {
      "text/plain": [
       "Index([u'id', u'description', u'duration', u'location', u'reported_at',\n",
       "       u'shape', u'sighted_at', u'geocoded_latitude', u'geocoded_longitude',\n",
       "       u'city', u'state', u'country', u'year', u'population'],\n",
       "      dtype='object')"
      ]
     },
     "execution_count": 22,
     "metadata": {},
     "output_type": "execute_result"
    }
   ],
   "source": [
    "population_df.columns"
   ]
  },
  {
   "cell_type": "code",
   "execution_count": 23,
   "metadata": {},
   "outputs": [],
   "source": [
    "pop_df = population_df[['id','population']]"
   ]
  },
  {
   "cell_type": "code",
   "execution_count": 24,
   "metadata": {},
   "outputs": [
    {
     "data": {
      "text/plain": [
       "Index([u'id', u'population'], dtype='object')"
      ]
     },
     "execution_count": 24,
     "metadata": {},
     "output_type": "execute_result"
    }
   ],
   "source": [
    "pop_df.columns"
   ]
  },
  {
   "cell_type": "code",
   "execution_count": 25,
   "metadata": {},
   "outputs": [],
   "source": [
    "ref_airports_sports_population = ref_airports_sports.merge(pop_df, on='id')"
   ]
  },
  {
   "cell_type": "code",
   "execution_count": 26,
   "metadata": {},
   "outputs": [
    {
     "data": {
      "text/plain": [
       "(38439, 27)"
      ]
     },
     "execution_count": 26,
     "metadata": {},
     "output_type": "execute_result"
    }
   ],
   "source": [
    "ref_airports_sports_population.shape"
   ]
  },
  {
   "cell_type": "markdown",
   "metadata": {},
   "source": [
    "### Merge ref_airports_sports_population with meteorite"
   ]
  },
  {
   "cell_type": "code",
   "execution_count": 27,
   "metadata": {},
   "outputs": [
    {
     "data": {
      "text/plain": [
       "Index([u'id', u'description', u'duration', u'location', u'reported_at',\n",
       "       u'shape', u'sighted_at', u'geocoded_latitude', u'geocoded_longitude',\n",
       "       u'city', u'state', u'country', u'meteor_name', u'distance_to_meteor',\n",
       "       u'reason', u'metorite_lat', u'metorite_long'],\n",
       "      dtype='object')"
      ]
     },
     "execution_count": 27,
     "metadata": {},
     "output_type": "execute_result"
    }
   ],
   "source": [
    "meteorite_df.columns"
   ]
  },
  {
   "cell_type": "code",
   "execution_count": 28,
   "metadata": {},
   "outputs": [
    {
     "data": {
      "text/plain": [
       "38511"
      ]
     },
     "execution_count": 28,
     "metadata": {},
     "output_type": "execute_result"
    }
   ],
   "source": [
    "len(meteorite_df['distance_to_meteor'].notnull())"
   ]
  },
  {
   "cell_type": "code",
   "execution_count": 29,
   "metadata": {},
   "outputs": [],
   "source": [
    "meteorite_df['meteor_sighting'] = meteorite_df['distance_to_meteor'].notnull().astype(int)"
   ]
  },
  {
   "cell_type": "code",
   "execution_count": 30,
   "metadata": {},
   "outputs": [],
   "source": [
    "meteorite_subset_df = meteorite_df[['id', 'geocoded_latitude', 'geocoded_longitude','meteor_sighting']]"
   ]
  },
  {
   "cell_type": "code",
   "execution_count": 31,
   "metadata": {},
   "outputs": [],
   "source": [
    "meteorite_subset_df.columns.values[1] = 'meteorite_lat'\n",
    "meteorite_subset_df.columns.values[2] = 'meteorite_lon'"
   ]
  },
  {
   "cell_type": "code",
   "execution_count": 32,
   "metadata": {},
   "outputs": [],
   "source": [
    "final_df = ref_airports_sports_population.merge(meteorite_subset_df, on='id')"
   ]
  },
  {
   "cell_type": "code",
   "execution_count": 33,
   "metadata": {},
   "outputs": [
    {
     "data": {
      "text/plain": [
       "(38439, 30)"
      ]
     },
     "execution_count": 33,
     "metadata": {},
     "output_type": "execute_result"
    }
   ],
   "source": [
    "final_df.shape"
   ]
  },
  {
   "cell_type": "code",
   "execution_count": 34,
   "metadata": {},
   "outputs": [
    {
     "data": {
      "text/html": [
       "<div>\n",
       "<table border=\"1\" class=\"dataframe\">\n",
       "  <thead>\n",
       "    <tr style=\"text-align: right;\">\n",
       "      <th></th>\n",
       "      <th>id</th>\n",
       "      <th>description</th>\n",
       "      <th>duration</th>\n",
       "      <th>location</th>\n",
       "      <th>reported_at</th>\n",
       "      <th>shape</th>\n",
       "      <th>sighted_at</th>\n",
       "      <th>geocoded_latitude</th>\n",
       "      <th>geocoded_longitude</th>\n",
       "      <th>city</th>\n",
       "      <th>...</th>\n",
       "      <th>sports_metro_lat</th>\n",
       "      <th>sports_metro_lon</th>\n",
       "      <th>closest_metro_distance</th>\n",
       "      <th>closest_metro_pop</th>\n",
       "      <th>closest_metro_m4</th>\n",
       "      <th>closest_metro_m6</th>\n",
       "      <th>population</th>\n",
       "      <th>meteorite_lat</th>\n",
       "      <th>meteorite_lon</th>\n",
       "      <th>meteor_sighting</th>\n",
       "    </tr>\n",
       "  </thead>\n",
       "  <tbody>\n",
       "    <tr>\n",
       "      <th>12570</th>\n",
       "      <td>19790</td>\n",
       "      <td>bright white oval-shaped flying object vanishe...</td>\n",
       "      <td>1 second</td>\n",
       "      <td>Lindenhurst, IL</td>\n",
       "      <td>20030311</td>\n",
       "      <td>oval</td>\n",
       "      <td>20030311</td>\n",
       "      <td>42.410577</td>\n",
       "      <td>-88.026191</td>\n",
       "      <td>Lindenhurst</td>\n",
       "      <td>...</td>\n",
       "      <td>42.410577</td>\n",
       "      <td>-88.026191</td>\n",
       "      <td>5.10347</td>\n",
       "      <td>205000.0</td>\n",
       "      <td>1.0</td>\n",
       "      <td>1.0</td>\n",
       "      <td>12419293</td>\n",
       "      <td>42.410577</td>\n",
       "      <td>-88.026191</td>\n",
       "      <td>1</td>\n",
       "    </tr>\n",
       "  </tbody>\n",
       "</table>\n",
       "<p>1 rows × 30 columns</p>\n",
       "</div>"
      ],
      "text/plain": [
       "          id                                        description  duration  \\\n",
       "12570  19790  bright white oval-shaped flying object vanishe...  1 second   \n",
       "\n",
       "               location  reported_at  shape  sighted_at  geocoded_latitude  \\\n",
       "12570   Lindenhurst, IL     20030311   oval    20030311          42.410577   \n",
       "\n",
       "       geocoded_longitude         city       ...       sports_metro_lat  \\\n",
       "12570          -88.026191  Lindenhurst       ...              42.410577   \n",
       "\n",
       "      sports_metro_lon  closest_metro_distance  closest_metro_pop  \\\n",
       "12570       -88.026191                 5.10347           205000.0   \n",
       "\n",
       "       closest_metro_m4  closest_metro_m6  population meteorite_lat  \\\n",
       "12570               1.0               1.0    12419293     42.410577   \n",
       "\n",
       "      meteorite_lon meteor_sighting  \n",
       "12570    -88.026191               1  \n",
       "\n",
       "[1 rows x 30 columns]"
      ]
     },
     "execution_count": 34,
     "metadata": {},
     "output_type": "execute_result"
    }
   ],
   "source": [
    "final_df.sample()"
   ]
  },
  {
   "cell_type": "code",
   "execution_count": 35,
   "metadata": {},
   "outputs": [],
   "source": [
    "# final_df.to_csv(\"ufo_dataset_final.csv\" ,index=False)"
   ]
  },
  {
   "cell_type": "code",
   "execution_count": 36,
   "metadata": {},
   "outputs": [],
   "source": [
    "final_df.to_csv(\"ufo_dataset_final_with_lat_lon.csv\" ,index=False)"
   ]
  },
  {
   "cell_type": "code",
   "execution_count": 3,
   "metadata": {},
   "outputs": [],
   "source": [
    "# final_df.to_pickle('../data/pickle_files/ufo_dataset_final.pkl')\n",
    "# final_df = pd.read_pickle('../data/pickle_files/ufo_dataset_final.pkl')"
   ]
  },
  {
   "cell_type": "code",
   "execution_count": 122,
   "metadata": {},
   "outputs": [],
   "source": [
    "# final_df.to_pickle('../data/pickle_files/ufo_dataset_final_with_lat_lon.pkl')\n",
    "# final_df = pd.read_pickle('../data/pickle_files/ufo_dataset_final_with_lat_lon.pkl')"
   ]
  },
  {
   "cell_type": "code",
   "execution_count": 125,
   "metadata": {},
   "outputs": [],
   "source": [
    "ftrs = ['closest_LARGE_airport_distance', 'closest_MEDIUM_airport_distance', 'closest_SMALL_airport_distance', 'closest_metro_distance', 'closest_metro_pop', 'closest_metro_m4', 'closest_metro_m6', 'population', 'meteor_sighting']"
   ]
  },
  {
   "cell_type": "code",
   "execution_count": 126,
   "metadata": {},
   "outputs": [],
   "source": [
    "df_only_ftrs = final_df[ftrs]"
   ]
  },
  {
   "cell_type": "code",
   "execution_count": 127,
   "metadata": {},
   "outputs": [],
   "source": [
    "normalized_final_df=(df_only_ftrs-df_only_ftrs.min())/(df_only_ftrs.max()-df_only_ftrs.min())"
   ]
  },
  {
   "cell_type": "code",
   "execution_count": 128,
   "metadata": {},
   "outputs": [],
   "source": [
    "normalized_final_df['id'] = final_df['id']\n",
    "# airport coords\n",
    "# normalized_final_df['airport_lat'] = final_df['airport_lat']\n",
    "# normalized_final_df['airport_lon'] = final_df['airport_lon']\n",
    "# # sports coords\n",
    "# normalized_final_df['sports_metro_lat'] = final_df['sports_metro_lat']\n",
    "# normalized_final_df['sports_metro_lon'] = final_df['sports_metro_lon']\n",
    "# # meteor coords\n",
    "# normalized_final_df['meteorite_lat'] = final_df['meteorite_lat']\n",
    "# normalized_final_df['meteorite_lon'] = final_df['meteorite_lon']"
   ]
  },
  {
   "cell_type": "code",
   "execution_count": 129,
   "metadata": {},
   "outputs": [],
   "source": [
    "# normalized_final_df.to_csv('normalized_dataset_final.csv',index=False)\n",
    "normalized_final_df.to_csv('normalized_dataset_final_with_lat_lon.csv',index=False)"
   ]
  },
  {
   "cell_type": "code",
   "execution_count": null,
   "metadata": {},
   "outputs": [],
   "source": []
  }
 ],
 "metadata": {
  "kernelspec": {
   "display_name": "Python 2",
   "language": "python",
   "name": "python2"
  },
  "language_info": {
   "codemirror_mode": {
    "name": "ipython",
    "version": 2
   },
   "file_extension": ".py",
   "mimetype": "text/x-python",
   "name": "python",
   "nbconvert_exporter": "python",
   "pygments_lexer": "ipython2",
   "version": "2.7.14"
  }
 },
 "nbformat": 4,
 "nbformat_minor": 2
}
