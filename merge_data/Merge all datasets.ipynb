{
 "cells": [
  {
   "cell_type": "code",
   "execution_count": 191,
   "metadata": {},
   "outputs": [],
   "source": [
    "import pandas as pd"
   ]
  },
  {
   "cell_type": "code",
   "execution_count": 192,
   "metadata": {},
   "outputs": [],
   "source": [
    "import sys\n",
    "stdout = sys.stdout\n",
    "reload(sys)\n",
    "sys.setdefaultencoding('utf-8')\n",
    "sys.stdout = stdout"
   ]
  },
  {
   "cell_type": "markdown",
   "metadata": {},
   "source": [
    "----"
   ]
  },
  {
   "cell_type": "code",
   "execution_count": 193,
   "metadata": {},
   "outputs": [],
   "source": [
    "airports_df = pd.read_csv('../data/airport_dataset/reference_w_airports.csv')\n",
    "sports_df = pd.read_csv('../data/sports_dataset/reference_w_sports.csv')\n",
    "population_df = pd.read_csv('../data/population_dataset/reference_w_population.csv')\n",
    "meteorite_df = pd.read_csv('../data/meteorite_dataset/reference_w_meteorite.csv')"
   ]
  },
  {
   "cell_type": "code",
   "execution_count": 194,
   "metadata": {},
   "outputs": [],
   "source": [
    "ref_df = pd.read_csv('../data/reference_w_loc.csv')"
   ]
  },
  {
   "cell_type": "markdown",
   "metadata": {},
   "source": [
    "#### Sanity check: make sure all DFs have same number of rows"
   ]
  },
  {
   "cell_type": "code",
   "execution_count": 195,
   "metadata": {},
   "outputs": [
    {
     "data": {
      "text/plain": [
       "False"
      ]
     },
     "execution_count": 195,
     "metadata": {},
     "output_type": "execute_result"
    }
   ],
   "source": [
    "len(ref_df.index) == len(airports_df.index) == len(sports_df.index) == len(population_df.index) == len(meteorite_df.index)"
   ]
  },
  {
   "cell_type": "code",
   "execution_count": 196,
   "metadata": {},
   "outputs": [
    {
     "data": {
      "text/plain": [
       "(38511, 12)"
      ]
     },
     "execution_count": 196,
     "metadata": {},
     "output_type": "execute_result"
    }
   ],
   "source": [
    "ref_df.shape"
   ]
  },
  {
   "cell_type": "code",
   "execution_count": 197,
   "metadata": {},
   "outputs": [
    {
     "data": {
      "text/plain": [
       "(38511, 20)"
      ]
     },
     "execution_count": 197,
     "metadata": {},
     "output_type": "execute_result"
    }
   ],
   "source": [
    "airports_df.shape"
   ]
  },
  {
   "cell_type": "code",
   "execution_count": 198,
   "metadata": {},
   "outputs": [
    {
     "data": {
      "text/plain": [
       "(38511, 17)"
      ]
     },
     "execution_count": 198,
     "metadata": {},
     "output_type": "execute_result"
    }
   ],
   "source": [
    "sports_df.shape"
   ]
  },
  {
   "cell_type": "code",
   "execution_count": 199,
   "metadata": {},
   "outputs": [
    {
     "data": {
      "text/plain": [
       "(38439, 14)"
      ]
     },
     "execution_count": 199,
     "metadata": {},
     "output_type": "execute_result"
    }
   ],
   "source": [
    "population_df.shape"
   ]
  },
  {
   "cell_type": "code",
   "execution_count": 200,
   "metadata": {},
   "outputs": [
    {
     "data": {
      "text/plain": [
       "(38511, 17)"
      ]
     },
     "execution_count": 200,
     "metadata": {},
     "output_type": "execute_result"
    }
   ],
   "source": [
    "meteorite_df.shape"
   ]
  },
  {
   "cell_type": "markdown",
   "metadata": {},
   "source": [
    "### Merge ref with airports"
   ]
  },
  {
   "cell_type": "code",
   "execution_count": 201,
   "metadata": {},
   "outputs": [
    {
     "data": {
      "text/plain": [
       "Index([u'id', u'description', u'duration', u'location', u'reported_at',\n",
       "       u'shape', u'sighted_at', u'geocoded_latitude', u'geocoded_longitude',\n",
       "       u'city', u'state', u'country', u'closest_LARGE_airport_name',\n",
       "       u'closest_LARGE_airport_distance', u'closest_MEDIUM_airport_name',\n",
       "       u'closest_MEDIUM_airport_distance', u'closest_SMALL_airport_name',\n",
       "       u'closest_SMALL_airport_distance', u'closest_CLOSED_airport_name',\n",
       "       u'closest_CLOSED_airport_distance'],\n",
       "      dtype='object')"
      ]
     },
     "execution_count": 201,
     "metadata": {},
     "output_type": "execute_result"
    }
   ],
   "source": [
    "airports_df.columns"
   ]
  },
  {
   "cell_type": "code",
   "execution_count": 202,
   "metadata": {},
   "outputs": [],
   "source": [
    "airports_subset_df = airports_df[['id','geocoded_latitude','geocoded_longitude','closest_LARGE_airport_distance', 'closest_MEDIUM_airport_distance','closest_SMALL_airport_distance', 'closest_LARGE_airport_name', 'closest_MEDIUM_airport_name', 'closest_SMALL_airport_name']]"
   ]
  },
  {
   "cell_type": "code",
   "execution_count": 203,
   "metadata": {},
   "outputs": [],
   "source": [
    "airports_subset_df.columns.values[1] = 'airport_lat'\n",
    "airports_subset_df.columns.values[2] = 'airport_lon'"
   ]
  },
  {
   "cell_type": "code",
   "execution_count": 204,
   "metadata": {},
   "outputs": [
    {
     "data": {
      "text/html": [
       "<div>\n",
       "<table border=\"1\" class=\"dataframe\">\n",
       "  <thead>\n",
       "    <tr style=\"text-align: right;\">\n",
       "      <th></th>\n",
       "      <th>id</th>\n",
       "      <th>airport_lat</th>\n",
       "      <th>airport_lon</th>\n",
       "      <th>closest_LARGE_airport_distance</th>\n",
       "      <th>closest_MEDIUM_airport_distance</th>\n",
       "      <th>closest_SMALL_airport_distance</th>\n",
       "      <th>closest_LARGE_airport_name</th>\n",
       "      <th>closest_MEDIUM_airport_name</th>\n",
       "      <th>closest_SMALL_airport_name</th>\n",
       "    </tr>\n",
       "  </thead>\n",
       "  <tbody>\n",
       "    <tr>\n",
       "      <th>0</th>\n",
       "      <td>0</td>\n",
       "      <td>41.661256</td>\n",
       "      <td>-91.529911</td>\n",
       "      <td>12.498008</td>\n",
       "      <td>6.616011</td>\n",
       "      <td>0.683006</td>\n",
       "      <td>The Eastern Iowa Airport</td>\n",
       "      <td>Chippewa Valley Regional Airport</td>\n",
       "      <td>Marion Airport</td>\n",
       "    </tr>\n",
       "  </tbody>\n",
       "</table>\n",
       "</div>"
      ],
      "text/plain": [
       "   id  airport_lat  airport_lon  closest_LARGE_airport_distance  \\\n",
       "0   0    41.661256   -91.529911                       12.498008   \n",
       "\n",
       "   closest_MEDIUM_airport_distance  closest_SMALL_airport_distance  \\\n",
       "0                         6.616011                        0.683006   \n",
       "\n",
       "  closest_LARGE_airport_name       closest_MEDIUM_airport_name  \\\n",
       "0   The Eastern Iowa Airport  Chippewa Valley Regional Airport   \n",
       "\n",
       "  closest_SMALL_airport_name  \n",
       "0             Marion Airport  "
      ]
     },
     "execution_count": 204,
     "metadata": {},
     "output_type": "execute_result"
    }
   ],
   "source": [
    "airports_subset_df.head(1)"
   ]
  },
  {
   "cell_type": "code",
   "execution_count": 205,
   "metadata": {},
   "outputs": [],
   "source": [
    "ref_airports = ref_df.merge(airports_subset_df, on='id')"
   ]
  },
  {
   "cell_type": "code",
   "execution_count": 206,
   "metadata": {},
   "outputs": [
    {
     "data": {
      "text/html": [
       "<div>\n",
       "<table border=\"1\" class=\"dataframe\">\n",
       "  <thead>\n",
       "    <tr style=\"text-align: right;\">\n",
       "      <th></th>\n",
       "      <th>id</th>\n",
       "      <th>description</th>\n",
       "      <th>duration</th>\n",
       "      <th>location</th>\n",
       "      <th>reported_at</th>\n",
       "      <th>shape</th>\n",
       "      <th>sighted_at</th>\n",
       "      <th>geocoded_latitude</th>\n",
       "      <th>geocoded_longitude</th>\n",
       "      <th>city</th>\n",
       "      <th>state</th>\n",
       "      <th>country</th>\n",
       "      <th>airport_lat</th>\n",
       "      <th>airport_lon</th>\n",
       "      <th>closest_LARGE_airport_distance</th>\n",
       "      <th>closest_MEDIUM_airport_distance</th>\n",
       "      <th>closest_SMALL_airport_distance</th>\n",
       "      <th>closest_LARGE_airport_name</th>\n",
       "      <th>closest_MEDIUM_airport_name</th>\n",
       "      <th>closest_SMALL_airport_name</th>\n",
       "    </tr>\n",
       "  </thead>\n",
       "  <tbody>\n",
       "    <tr>\n",
       "      <th>0</th>\n",
       "      <td>0</td>\n",
       "      <td>Man repts. witnessing &amp;quot;flash, followed by...</td>\n",
       "      <td>NaN</td>\n",
       "      <td>Iowa City, IA</td>\n",
       "      <td>19951009</td>\n",
       "      <td>unknown</td>\n",
       "      <td>19951009</td>\n",
       "      <td>41.661256</td>\n",
       "      <td>-91.529911</td>\n",
       "      <td>Iowa City</td>\n",
       "      <td>Iowa</td>\n",
       "      <td>us</td>\n",
       "      <td>41.661256</td>\n",
       "      <td>-91.529911</td>\n",
       "      <td>12.498008</td>\n",
       "      <td>6.616011</td>\n",
       "      <td>0.683006</td>\n",
       "      <td>The Eastern Iowa Airport</td>\n",
       "      <td>Chippewa Valley Regional Airport</td>\n",
       "      <td>Marion Airport</td>\n",
       "    </tr>\n",
       "    <tr>\n",
       "      <th>1</th>\n",
       "      <td>1</td>\n",
       "      <td>Man  on Hwy 43 SW of Milwaukee sees large, bri...</td>\n",
       "      <td>2 min.</td>\n",
       "      <td>Milwaukee, WI</td>\n",
       "      <td>19951011</td>\n",
       "      <td>unknown</td>\n",
       "      <td>19951010</td>\n",
       "      <td>43.034993</td>\n",
       "      <td>-87.922497</td>\n",
       "      <td>Milwaukee</td>\n",
       "      <td>Wisconsin</td>\n",
       "      <td>us</td>\n",
       "      <td>43.034993</td>\n",
       "      <td>-87.922497</td>\n",
       "      <td>1.801887</td>\n",
       "      <td>1.157715</td>\n",
       "      <td>1.716202</td>\n",
       "      <td>General Mitchell International Airport</td>\n",
       "      <td>Kenosha Regional Airport</td>\n",
       "      <td>Herbert C. Maas Airport</td>\n",
       "    </tr>\n",
       "    <tr>\n",
       "      <th>2</th>\n",
       "      <td>2</td>\n",
       "      <td>Telephoned Report:CA woman visiting daughter w...</td>\n",
       "      <td>NaN</td>\n",
       "      <td>Shelton, WA</td>\n",
       "      <td>19950103</td>\n",
       "      <td>unknown</td>\n",
       "      <td>19950101</td>\n",
       "      <td>47.215094</td>\n",
       "      <td>-123.100707</td>\n",
       "      <td>Shelton</td>\n",
       "      <td>Washington</td>\n",
       "      <td>us</td>\n",
       "      <td>47.215094</td>\n",
       "      <td>-123.100707</td>\n",
       "      <td>43.233065</td>\n",
       "      <td>16.484896</td>\n",
       "      <td>3.339607</td>\n",
       "      <td>McChord Air Force Base</td>\n",
       "      <td>Olympia Regional Airport</td>\n",
       "      <td>Sanderson Field</td>\n",
       "    </tr>\n",
       "    <tr>\n",
       "      <th>3</th>\n",
       "      <td>3</td>\n",
       "      <td>Man repts. son&amp;apos;s bizarre sighting of smal...</td>\n",
       "      <td>2 min.</td>\n",
       "      <td>Columbia, MO</td>\n",
       "      <td>19950510</td>\n",
       "      <td>unknown</td>\n",
       "      <td>19950510</td>\n",
       "      <td>38.951883</td>\n",
       "      <td>-92.333737</td>\n",
       "      <td>Columbia</td>\n",
       "      <td>Missouri</td>\n",
       "      <td>us</td>\n",
       "      <td>38.951883</td>\n",
       "      <td>-92.333737</td>\n",
       "      <td>13.834501</td>\n",
       "      <td>7.889876</td>\n",
       "      <td>3.120229</td>\n",
       "      <td>Bill &amp; Hillary Clinton National Airport/Adams ...</td>\n",
       "      <td>Columbia Regional Airport</td>\n",
       "      <td>Willhite Airport</td>\n",
       "    </tr>\n",
       "    <tr>\n",
       "      <th>4</th>\n",
       "      <td>4</td>\n",
       "      <td>Anonymous caller repts. sighting 4 ufo&amp;apos;s ...</td>\n",
       "      <td>NaN</td>\n",
       "      <td>Seattle, WA</td>\n",
       "      <td>19950614</td>\n",
       "      <td>unknown</td>\n",
       "      <td>19950611</td>\n",
       "      <td>47.603832</td>\n",
       "      <td>-122.330062</td>\n",
       "      <td>Seattle</td>\n",
       "      <td>Washington</td>\n",
       "      <td>us</td>\n",
       "      <td>47.603832</td>\n",
       "      <td>-122.330062</td>\n",
       "      <td>3.343976</td>\n",
       "      <td>11.644950</td>\n",
       "      <td>8.871067</td>\n",
       "      <td>Boeing Field King County International Airport</td>\n",
       "      <td>Snohomish County (Paine Field) Airport</td>\n",
       "      <td>Renton Municipal Airport</td>\n",
       "    </tr>\n",
       "  </tbody>\n",
       "</table>\n",
       "</div>"
      ],
      "text/plain": [
       "   id                                        description duration  \\\n",
       "0   0  Man repts. witnessing &quot;flash, followed by...      NaN   \n",
       "1   1  Man  on Hwy 43 SW of Milwaukee sees large, bri...   2 min.   \n",
       "2   2  Telephoned Report:CA woman visiting daughter w...      NaN   \n",
       "3   3  Man repts. son&apos;s bizarre sighting of smal...   2 min.   \n",
       "4   4  Anonymous caller repts. sighting 4 ufo&apos;s ...      NaN   \n",
       "\n",
       "         location  reported_at    shape  sighted_at  geocoded_latitude  \\\n",
       "0   Iowa City, IA     19951009  unknown    19951009          41.661256   \n",
       "1   Milwaukee, WI     19951011  unknown    19951010          43.034993   \n",
       "2     Shelton, WA     19950103  unknown    19950101          47.215094   \n",
       "3    Columbia, MO     19950510  unknown    19950510          38.951883   \n",
       "4     Seattle, WA     19950614  unknown    19950611          47.603832   \n",
       "\n",
       "   geocoded_longitude       city       state country  airport_lat  \\\n",
       "0          -91.529911  Iowa City        Iowa      us    41.661256   \n",
       "1          -87.922497  Milwaukee   Wisconsin      us    43.034993   \n",
       "2         -123.100707    Shelton  Washington      us    47.215094   \n",
       "3          -92.333737   Columbia    Missouri      us    38.951883   \n",
       "4         -122.330062    Seattle  Washington      us    47.603832   \n",
       "\n",
       "   airport_lon  closest_LARGE_airport_distance  \\\n",
       "0   -91.529911                       12.498008   \n",
       "1   -87.922497                        1.801887   \n",
       "2  -123.100707                       43.233065   \n",
       "3   -92.333737                       13.834501   \n",
       "4  -122.330062                        3.343976   \n",
       "\n",
       "   closest_MEDIUM_airport_distance  closest_SMALL_airport_distance  \\\n",
       "0                         6.616011                        0.683006   \n",
       "1                         1.157715                        1.716202   \n",
       "2                        16.484896                        3.339607   \n",
       "3                         7.889876                        3.120229   \n",
       "4                        11.644950                        8.871067   \n",
       "\n",
       "                          closest_LARGE_airport_name  \\\n",
       "0                           The Eastern Iowa Airport   \n",
       "1             General Mitchell International Airport   \n",
       "2                             McChord Air Force Base   \n",
       "3  Bill & Hillary Clinton National Airport/Adams ...   \n",
       "4     Boeing Field King County International Airport   \n",
       "\n",
       "              closest_MEDIUM_airport_name closest_SMALL_airport_name  \n",
       "0        Chippewa Valley Regional Airport             Marion Airport  \n",
       "1                Kenosha Regional Airport    Herbert C. Maas Airport  \n",
       "2                Olympia Regional Airport            Sanderson Field  \n",
       "3               Columbia Regional Airport           Willhite Airport  \n",
       "4  Snohomish County (Paine Field) Airport   Renton Municipal Airport  "
      ]
     },
     "execution_count": 206,
     "metadata": {},
     "output_type": "execute_result"
    }
   ],
   "source": [
    "ref_airports.head()"
   ]
  },
  {
   "cell_type": "markdown",
   "metadata": {},
   "source": [
    "### Merge ref_airports with sports"
   ]
  },
  {
   "cell_type": "code",
   "execution_count": 207,
   "metadata": {},
   "outputs": [
    {
     "data": {
      "text/plain": [
       "Index([u'id', u'description', u'duration', u'location', u'reported_at',\n",
       "       u'shape', u'sighted_at', u'geocoded_latitude', u'geocoded_longitude',\n",
       "       u'city', u'state', u'country', u'closest_metro_name',\n",
       "       u'closest_metro_distance', u'closest_metro_pop', u'closest_metro_m4',\n",
       "       u'closest_metro_m6'],\n",
       "      dtype='object')"
      ]
     },
     "execution_count": 207,
     "metadata": {},
     "output_type": "execute_result"
    }
   ],
   "source": [
    "sports_df.columns"
   ]
  },
  {
   "cell_type": "code",
   "execution_count": 208,
   "metadata": {},
   "outputs": [],
   "source": [
    "sports_df.closest_metro_pop = sports_df.closest_metro_pop.str.replace(\",\",\"\").astype(float)"
   ]
  },
  {
   "cell_type": "code",
   "execution_count": 209,
   "metadata": {},
   "outputs": [],
   "source": [
    "sports_subset_df = sports_df[['id', 'geocoded_latitude', 'geocoded_longitude', 'closest_metro_distance', 'closest_metro_pop', 'closest_metro_m4', 'closest_metro_m6']]"
   ]
  },
  {
   "cell_type": "code",
   "execution_count": 210,
   "metadata": {},
   "outputs": [],
   "source": [
    "sports_subset_df.columns.values[1] = 'sports_metro_lat'\n",
    "sports_subset_df.columns.values[2] = 'sports_metro_lon'"
   ]
  },
  {
   "cell_type": "code",
   "execution_count": 211,
   "metadata": {},
   "outputs": [],
   "source": [
    "ref_airports_sports = ref_airports.merge(sports_subset_df, on='id')"
   ]
  },
  {
   "cell_type": "markdown",
   "metadata": {},
   "source": [
    "### Merge ref_airports_sports with population"
   ]
  },
  {
   "cell_type": "code",
   "execution_count": 212,
   "metadata": {},
   "outputs": [
    {
     "data": {
      "text/plain": [
       "Index([u'id', u'description', u'duration', u'location', u'reported_at',\n",
       "       u'shape', u'sighted_at', u'geocoded_latitude', u'geocoded_longitude',\n",
       "       u'city', u'state', u'country', u'year', u'population'],\n",
       "      dtype='object')"
      ]
     },
     "execution_count": 212,
     "metadata": {},
     "output_type": "execute_result"
    }
   ],
   "source": [
    "population_df.columns"
   ]
  },
  {
   "cell_type": "code",
   "execution_count": 213,
   "metadata": {},
   "outputs": [],
   "source": [
    "pop_df = population_df[['id','population']]"
   ]
  },
  {
   "cell_type": "code",
   "execution_count": 214,
   "metadata": {},
   "outputs": [
    {
     "data": {
      "text/plain": [
       "Index([u'id', u'population'], dtype='object')"
      ]
     },
     "execution_count": 214,
     "metadata": {},
     "output_type": "execute_result"
    }
   ],
   "source": [
    "pop_df.columns"
   ]
  },
  {
   "cell_type": "code",
   "execution_count": 215,
   "metadata": {},
   "outputs": [],
   "source": [
    "ref_airports_sports_population = ref_airports_sports.merge(pop_df, on='id')"
   ]
  },
  {
   "cell_type": "code",
   "execution_count": 216,
   "metadata": {},
   "outputs": [
    {
     "data": {
      "text/plain": [
       "(38439, 27)"
      ]
     },
     "execution_count": 216,
     "metadata": {},
     "output_type": "execute_result"
    }
   ],
   "source": [
    "ref_airports_sports_population.shape"
   ]
  },
  {
   "cell_type": "markdown",
   "metadata": {},
   "source": [
    "### Merge ref_airports_sports_population with meteorite"
   ]
  },
  {
   "cell_type": "code",
   "execution_count": 217,
   "metadata": {},
   "outputs": [
    {
     "data": {
      "text/plain": [
       "Index([u'id', u'description', u'duration', u'location', u'reported_at',\n",
       "       u'shape', u'sighted_at', u'geocoded_latitude', u'geocoded_longitude',\n",
       "       u'city', u'state', u'country', u'meteor_name', u'distance_to_meteor',\n",
       "       u'reason', u'metorite_lat', u'metorite_long'],\n",
       "      dtype='object')"
      ]
     },
     "execution_count": 217,
     "metadata": {},
     "output_type": "execute_result"
    }
   ],
   "source": [
    "meteorite_df.columns"
   ]
  },
  {
   "cell_type": "code",
   "execution_count": 218,
   "metadata": {},
   "outputs": [
    {
     "data": {
      "text/plain": [
       "38511"
      ]
     },
     "execution_count": 218,
     "metadata": {},
     "output_type": "execute_result"
    }
   ],
   "source": [
    "len(meteorite_df['distance_to_meteor'].notnull())"
   ]
  },
  {
   "cell_type": "code",
   "execution_count": 219,
   "metadata": {},
   "outputs": [],
   "source": [
    "meteorite_df['meteor_sighting'] = meteorite_df['distance_to_meteor'].notnull().astype(int)"
   ]
  },
  {
   "cell_type": "code",
   "execution_count": 220,
   "metadata": {},
   "outputs": [],
   "source": [
    "meteorite_subset_df = meteorite_df[['id', 'metorite_lat', 'metorite_long','meteor_sighting']]"
   ]
  },
  {
   "cell_type": "code",
   "execution_count": 221,
   "metadata": {},
   "outputs": [],
   "source": [
    "# meteorite_subset_df.columns.values[1] = 'meteorite_lat'\n",
    "# meteorite_subset_df.columns.values[2] = 'meteorite_lon'"
   ]
  },
  {
   "cell_type": "code",
   "execution_count": 222,
   "metadata": {},
   "outputs": [],
   "source": [
    "final_df = ref_airports_sports_population.merge(meteorite_subset_df, on='id')"
   ]
  },
  {
   "cell_type": "code",
   "execution_count": 223,
   "metadata": {},
   "outputs": [
    {
     "data": {
      "text/plain": [
       "(38439, 30)"
      ]
     },
     "execution_count": 223,
     "metadata": {},
     "output_type": "execute_result"
    }
   ],
   "source": [
    "final_df.shape"
   ]
  },
  {
   "cell_type": "code",
   "execution_count": 224,
   "metadata": {},
   "outputs": [
    {
     "data": {
      "text/html": [
       "<div>\n",
       "<table border=\"1\" class=\"dataframe\">\n",
       "  <thead>\n",
       "    <tr style=\"text-align: right;\">\n",
       "      <th></th>\n",
       "      <th>id</th>\n",
       "      <th>description</th>\n",
       "      <th>duration</th>\n",
       "      <th>location</th>\n",
       "      <th>reported_at</th>\n",
       "      <th>shape</th>\n",
       "      <th>sighted_at</th>\n",
       "      <th>geocoded_latitude</th>\n",
       "      <th>geocoded_longitude</th>\n",
       "      <th>city</th>\n",
       "      <th>...</th>\n",
       "      <th>sports_metro_lat</th>\n",
       "      <th>sports_metro_lon</th>\n",
       "      <th>closest_metro_distance</th>\n",
       "      <th>closest_metro_pop</th>\n",
       "      <th>closest_metro_m4</th>\n",
       "      <th>closest_metro_m6</th>\n",
       "      <th>population</th>\n",
       "      <th>metorite_lat</th>\n",
       "      <th>metorite_long</th>\n",
       "      <th>meteor_sighting</th>\n",
       "    </tr>\n",
       "  </thead>\n",
       "  <tbody>\n",
       "    <tr>\n",
       "      <th>5648</th>\n",
       "      <td>8258</td>\n",
       "      <td>Large object just hovered over the vehicle for...</td>\n",
       "      <td>30 sec</td>\n",
       "      <td>Ashland, OR</td>\n",
       "      <td>20000804</td>\n",
       "      <td>disk</td>\n",
       "      <td>20000730</td>\n",
       "      <td>42.197249</td>\n",
       "      <td>-122.7154</td>\n",
       "      <td>Ashland</td>\n",
       "      <td>...</td>\n",
       "      <td>42.197249</td>\n",
       "      <td>-122.7154</td>\n",
       "      <td>123.96248</td>\n",
       "      <td>2000000.0</td>\n",
       "      <td>1.0</td>\n",
       "      <td>2.0</td>\n",
       "      <td>3421399</td>\n",
       "      <td>NaN</td>\n",
       "      <td>NaN</td>\n",
       "      <td>0</td>\n",
       "    </tr>\n",
       "  </tbody>\n",
       "</table>\n",
       "<p>1 rows × 30 columns</p>\n",
       "</div>"
      ],
      "text/plain": [
       "        id                                        description duration  \\\n",
       "5648  8258  Large object just hovered over the vehicle for...   30 sec   \n",
       "\n",
       "          location  reported_at  shape  sighted_at  geocoded_latitude  \\\n",
       "5648   Ashland, OR     20000804   disk    20000730          42.197249   \n",
       "\n",
       "      geocoded_longitude     city       ...       sports_metro_lat  \\\n",
       "5648           -122.7154  Ashland       ...              42.197249   \n",
       "\n",
       "     sports_metro_lon  closest_metro_distance  closest_metro_pop  \\\n",
       "5648        -122.7154               123.96248          2000000.0   \n",
       "\n",
       "      closest_metro_m4  closest_metro_m6  population metorite_lat  \\\n",
       "5648               1.0               2.0     3421399          NaN   \n",
       "\n",
       "     metorite_long meteor_sighting  \n",
       "5648           NaN               0  \n",
       "\n",
       "[1 rows x 30 columns]"
      ]
     },
     "execution_count": 224,
     "metadata": {},
     "output_type": "execute_result"
    }
   ],
   "source": [
    "final_df.sample()"
   ]
  },
  {
   "cell_type": "code",
   "execution_count": 227,
   "metadata": {},
   "outputs": [],
   "source": [
    "# final_df.to_csv(\"ufo_dataset_final.csv\" ,index=False)\n",
    "final_df.to_csv(\"ufo_dataset_final.tsv\" ,index=False, sep=\"\\t\")"
   ]
  },
  {
   "cell_type": "code",
   "execution_count": 166,
   "metadata": {},
   "outputs": [],
   "source": [
    "# final_df.to_csv(\"ufo_dataset_final_with_lat_lon.csv\" ,index=False)"
   ]
  },
  {
   "cell_type": "code",
   "execution_count": 226,
   "metadata": {},
   "outputs": [],
   "source": [
    "# final_df.to_pickle('../data/pickle_files/ufo_dataset_final.pkl')\n",
    "# final_df = pd.read_pickle('../data/pickle_files/ufo_dataset_final.pkl')"
   ]
  },
  {
   "cell_type": "code",
   "execution_count": 185,
   "metadata": {},
   "outputs": [],
   "source": [
    "# final_df.to_pickle('../data/pickle_files/ufo_dataset_final_with_lat_lon.pkl')\n",
    "# final_df = pd.read_pickle('../data/pickle_files/ufo_dataset_final_with_lat_lon.pkl')"
   ]
  },
  {
   "cell_type": "code",
   "execution_count": 186,
   "metadata": {},
   "outputs": [],
   "source": [
    "ftrs = ['closest_LARGE_airport_distance', 'closest_MEDIUM_airport_distance', 'closest_SMALL_airport_distance', 'closest_metro_distance', 'closest_metro_pop', 'closest_metro_m4', 'closest_metro_m6', 'population', 'meteor_sighting']"
   ]
  },
  {
   "cell_type": "code",
   "execution_count": 187,
   "metadata": {},
   "outputs": [],
   "source": [
    "df_only_ftrs = final_df[ftrs]"
   ]
  },
  {
   "cell_type": "code",
   "execution_count": 188,
   "metadata": {},
   "outputs": [],
   "source": [
    "normalized_final_df=(df_only_ftrs-df_only_ftrs.min())/(df_only_ftrs.max()-df_only_ftrs.min())"
   ]
  },
  {
   "cell_type": "code",
   "execution_count": 189,
   "metadata": {},
   "outputs": [],
   "source": [
    "normalized_final_df['id'] = final_df['id']\n",
    "# airport coords\n",
    "# normalized_final_df['airport_lat'] = final_df['airport_lat']\n",
    "# normalized_final_df['airport_lon'] = final_df['airport_lon']\n",
    "# # sports coords\n",
    "# normalized_final_df['sports_metro_lat'] = final_df['sports_metro_lat']\n",
    "# normalized_final_df['sports_metro_lon'] = final_df['sports_metro_lon']\n",
    "# # meteor coords\n",
    "# normalized_final_df['meteorite_lat'] = final_df['meteorite_lat']\n",
    "# normalized_final_df['meteorite_lon'] = final_df['meteorite_lon']"
   ]
  },
  {
   "cell_type": "code",
   "execution_count": 190,
   "metadata": {},
   "outputs": [],
   "source": [
    "# normalized_final_df.to_csv('normalized_dataset_final.csv',index=False)\n",
    "# normalized_final_df.to_csv('normalized_dataset_final_with_lat_lon.csv',index=False)\n",
    "normalized_final_df.to_csv('normalized_dataset_final_with_lat_lon.tsv',index=False, sep=\"\\t\")"
   ]
  },
  {
   "cell_type": "code",
   "execution_count": 38,
   "metadata": {},
   "outputs": [
    {
     "data": {
      "text/plain": [
       "Index([u'id', u'description', u'duration', u'location', u'reported_at',\n",
       "       u'shape', u'sighted_at', u'geocoded_latitude', u'geocoded_longitude',\n",
       "       u'city', u'state', u'country', u'airport_lat', u'airport_lon',\n",
       "       u'closest_LARGE_airport_distance', u'closest_MEDIUM_airport_distance',\n",
       "       u'closest_SMALL_airport_distance', u'closest_LARGE_airport_name',\n",
       "       u'closest_MEDIUM_airport_name', u'closest_SMALL_airport_name',\n",
       "       u'sports_metro_lat', u'sports_metro_lon', u'closest_metro_distance',\n",
       "       u'closest_metro_pop', u'closest_metro_m4', u'closest_metro_m6',\n",
       "       u'population', u'meteorite_lat', u'meteorite_lon', u'meteor_sighting'],\n",
       "      dtype='object')"
      ]
     },
     "execution_count": 38,
     "metadata": {},
     "output_type": "execute_result"
    }
   ],
   "source": [
    "final_df.columns"
   ]
  },
  {
   "cell_type": "code",
   "execution_count": 39,
   "metadata": {},
   "outputs": [
    {
     "data": {
      "text/plain": [
       "array([ 41.6612561 ,  43.0349931 ,  47.2150945 , ...,  43.84956865,\n",
       "        60.684882  ,  38.89764285])"
      ]
     },
     "execution_count": 39,
     "metadata": {},
     "output_type": "execute_result"
    }
   ],
   "source": [
    "final_df['airport_lat'].unique()"
   ]
  },
  {
   "cell_type": "code",
   "execution_count": 40,
   "metadata": {},
   "outputs": [
    {
     "data": {
      "text/plain": [
       "array([ -91.5299106 ,  -87.922497  , -123.1007066 , ...,  -87.73573141,\n",
       "       -151.1222665 ,  -77.00614639])"
      ]
     },
     "execution_count": 40,
     "metadata": {},
     "output_type": "execute_result"
    }
   ],
   "source": [
    "final_df['airport_lon'].unique()"
   ]
  },
  {
   "cell_type": "code",
   "execution_count": 45,
   "metadata": {},
   "outputs": [],
   "source": [
    "df_lat_lon = final_df.copy()"
   ]
  },
  {
   "cell_type": "code",
   "execution_count": 43,
   "metadata": {},
   "outputs": [],
   "source": [
    "df_lat_lon = str(final_df['airport_lat']) + str(final_df['airport_lon'])"
   ]
  },
  {
   "cell_type": "code",
   "execution_count": 44,
   "metadata": {},
   "outputs": [
    {
     "data": {
      "text/plain": [
       "'0        41.661256\\n1        43.034993\\n2        47.215094\\n3        38.951883\\n4        47.603832\\n5        46.877229\\n6        36.166286\\n7        39.909834\\n8        47.669414\\n9        47.479908\\n10       39.798976\\n11       42.123710\\n12       41.423967\\n13       33.732052\\n14       46.686484\\n15       28.542400\\n16       36.791225\\n17       40.811667\\n18       44.100351\\n19       26.452025\\n20       29.894695\\n21       34.092233\\n22       44.536547\\n23       41.413476\\n24       34.540281\\n25       47.822294\\n26       47.659409\\n27       60.543944\\n28       39.602061\\n29       38.449331\\n           ...    \\n38409    42.391309\\n38410    47.827866\\n38411    43.849569\\n38412    41.710866\\n38413    43.425278\\n38414    42.360482\\n38415    41.823989\\n38416    29.424600\\n38417    41.010653\\n38418    60.684882\\n38419    38.897643\\n38420    43.051416\\n38421    42.700630\\n38422    39.766098\\n38423    43.774876\\n38424    33.827841\\n38425    47.614422\\n38426    32.366966\\n38427    33.834752\\n38428    29.187199\\n38429    42.326418\\n38430    42.496980\\n38431    41.794607\\n38432    39.017316\\n38433    39.360059\\n38434    34.054935\\n38435    34.352882\\n38436    40.707324\\n38437    39.985262\\n38438    37.889672\\nName: airport_lat, dtype: float640        -91.529911\\n1        -87.922497\\n2       -123.100707\\n3        -92.333737\\n4       -122.330062\\n5        -96.789821\\n6       -115.149225\\n7        -75.323521\\n8       -122.123877\\n9       -122.203450\\n10       -89.644369\\n11       -71.178663\\n12       -76.494113\\n13       -84.919108\\n14      -123.732947\\n15       -81.379437\\n16       -81.771232\\n17       -73.806389\\n18       -70.214776\\n19       -81.948145\\n20       -81.314539\\n21      -117.435048\\n22      -122.906876\\n23       -73.308644\\n24      -112.469518\\n25      -122.875171\\n26      -122.676632\\n27      -145.758910\\n28       -74.842665\\n29       -78.868883\\n            ...    \\n38409    -71.567824\\n38410   -122.305393\\n38411    -87.735731\\n38412    -87.758108\\n38413    -88.183428\\n38414    -71.059568\\n38415    -71.412834\\n38416    -98.495141\\n38417    -73.843745\\n38418   -151.122266\\n38419    -77.006146\\n38420    -83.318834\\n38421    -74.924321\\n38422   -105.077206\\n38423    -88.445803\\n38424    -78.680032\\n38425   -122.192337\\n38426    -86.300648\\n38427   -117.911732\\n38428    -82.140092\\n38429   -122.871860\\n38430    -82.888805\\n38431    -88.006900\\n38432    -94.282265\\n38433    -84.309939\\n38434   -118.244476\\n38435    -82.932087\\n38436    -73.675963\\n38437   -104.820528\\n38438    -85.966417\\nName: airport_lon, dtype: float64'"
      ]
     },
     "execution_count": 44,
     "metadata": {},
     "output_type": "execute_result"
    }
   ],
   "source": [
    "df_lat_lon"
   ]
  },
  {
   "cell_type": "code",
   "execution_count": null,
   "metadata": {},
   "outputs": [],
   "source": []
  }
 ],
 "metadata": {
  "kernelspec": {
   "display_name": "Python 2",
   "language": "python",
   "name": "python2"
  },
  "language_info": {
   "codemirror_mode": {
    "name": "ipython",
    "version": 2
   },
   "file_extension": ".py",
   "mimetype": "text/x-python",
   "name": "python",
   "nbconvert_exporter": "python",
   "pygments_lexer": "ipython2",
   "version": "2.7.14"
  }
 },
 "nbformat": 4,
 "nbformat_minor": 2
}
