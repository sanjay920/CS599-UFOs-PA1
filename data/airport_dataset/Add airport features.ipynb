{
 "cells": [
  {
   "cell_type": "code",
   "execution_count": 1,
   "metadata": {},
   "outputs": [],
   "source": [
    "import pandas as pd\n",
    "import datapackage\n",
    "import geopy.distance\n",
    "import time"
   ]
  },
  {
   "cell_type": "code",
   "execution_count": 2,
   "metadata": {},
   "outputs": [],
   "source": [
    "import sys\n",
    "stdout = sys.stdout\n",
    "reload(sys)\n",
    "sys.setdefaultencoding('utf-8')\n",
    "sys.stdout = stdout"
   ]
  },
  {
   "cell_type": "markdown",
   "metadata": {},
   "source": [
    "----"
   ]
  },
  {
   "cell_type": "markdown",
   "metadata": {},
   "source": [
    "#### Read in reference with location (lat,lon,city,state,country) dataset"
   ]
  },
  {
   "cell_type": "code",
   "execution_count": 3,
   "metadata": {},
   "outputs": [],
   "source": [
    "df = pd.read_csv('../reference_w_loc.csv')"
   ]
  },
  {
   "cell_type": "code",
   "execution_count": 4,
   "metadata": {},
   "outputs": [
    {
     "data": {
      "text/html": [
       "<div>\n",
       "<table border=\"1\" class=\"dataframe\">\n",
       "  <thead>\n",
       "    <tr style=\"text-align: right;\">\n",
       "      <th></th>\n",
       "      <th>id</th>\n",
       "      <th>description</th>\n",
       "      <th>duration</th>\n",
       "      <th>location</th>\n",
       "      <th>reported_at</th>\n",
       "      <th>shape</th>\n",
       "      <th>sighted_at</th>\n",
       "      <th>geocoded_latitude</th>\n",
       "      <th>geocoded_longitude</th>\n",
       "      <th>city</th>\n",
       "      <th>state</th>\n",
       "      <th>country</th>\n",
       "    </tr>\n",
       "  </thead>\n",
       "  <tbody>\n",
       "    <tr>\n",
       "      <th>0</th>\n",
       "      <td>0</td>\n",
       "      <td>Man repts. witnessing &amp;quot;flash, followed by...</td>\n",
       "      <td>NaN</td>\n",
       "      <td>Iowa City, IA</td>\n",
       "      <td>19951009</td>\n",
       "      <td>unknown</td>\n",
       "      <td>19951009</td>\n",
       "      <td>41.661256</td>\n",
       "      <td>-91.529911</td>\n",
       "      <td>Iowa City</td>\n",
       "      <td>Iowa</td>\n",
       "      <td>us</td>\n",
       "    </tr>\n",
       "    <tr>\n",
       "      <th>1</th>\n",
       "      <td>1</td>\n",
       "      <td>Man  on Hwy 43 SW of Milwaukee sees large, bri...</td>\n",
       "      <td>2 min.</td>\n",
       "      <td>Milwaukee, WI</td>\n",
       "      <td>19951011</td>\n",
       "      <td>unknown</td>\n",
       "      <td>19951010</td>\n",
       "      <td>43.034993</td>\n",
       "      <td>-87.922497</td>\n",
       "      <td>Milwaukee</td>\n",
       "      <td>Wisconsin</td>\n",
       "      <td>us</td>\n",
       "    </tr>\n",
       "    <tr>\n",
       "      <th>2</th>\n",
       "      <td>2</td>\n",
       "      <td>Telephoned Report:CA woman visiting daughter w...</td>\n",
       "      <td>NaN</td>\n",
       "      <td>Shelton, WA</td>\n",
       "      <td>19950103</td>\n",
       "      <td>unknown</td>\n",
       "      <td>19950101</td>\n",
       "      <td>47.215094</td>\n",
       "      <td>-123.100707</td>\n",
       "      <td>Shelton</td>\n",
       "      <td>Washington</td>\n",
       "      <td>us</td>\n",
       "    </tr>\n",
       "    <tr>\n",
       "      <th>3</th>\n",
       "      <td>3</td>\n",
       "      <td>Man repts. son&amp;apos;s bizarre sighting of smal...</td>\n",
       "      <td>2 min.</td>\n",
       "      <td>Columbia, MO</td>\n",
       "      <td>19950510</td>\n",
       "      <td>unknown</td>\n",
       "      <td>19950510</td>\n",
       "      <td>38.951883</td>\n",
       "      <td>-92.333737</td>\n",
       "      <td>Columbia</td>\n",
       "      <td>Missouri</td>\n",
       "      <td>us</td>\n",
       "    </tr>\n",
       "    <tr>\n",
       "      <th>4</th>\n",
       "      <td>4</td>\n",
       "      <td>Anonymous caller repts. sighting 4 ufo&amp;apos;s ...</td>\n",
       "      <td>NaN</td>\n",
       "      <td>Seattle, WA</td>\n",
       "      <td>19950614</td>\n",
       "      <td>unknown</td>\n",
       "      <td>19950611</td>\n",
       "      <td>47.603832</td>\n",
       "      <td>-122.330062</td>\n",
       "      <td>Seattle</td>\n",
       "      <td>Washington</td>\n",
       "      <td>us</td>\n",
       "    </tr>\n",
       "  </tbody>\n",
       "</table>\n",
       "</div>"
      ],
      "text/plain": [
       "   id                                        description duration  \\\n",
       "0   0  Man repts. witnessing &quot;flash, followed by...      NaN   \n",
       "1   1  Man  on Hwy 43 SW of Milwaukee sees large, bri...   2 min.   \n",
       "2   2  Telephoned Report:CA woman visiting daughter w...      NaN   \n",
       "3   3  Man repts. son&apos;s bizarre sighting of smal...   2 min.   \n",
       "4   4  Anonymous caller repts. sighting 4 ufo&apos;s ...      NaN   \n",
       "\n",
       "         location  reported_at    shape  sighted_at  geocoded_latitude  \\\n",
       "0   Iowa City, IA     19951009  unknown    19951009          41.661256   \n",
       "1   Milwaukee, WI     19951011  unknown    19951010          43.034993   \n",
       "2     Shelton, WA     19950103  unknown    19950101          47.215094   \n",
       "3    Columbia, MO     19950510  unknown    19950510          38.951883   \n",
       "4     Seattle, WA     19950614  unknown    19950611          47.603832   \n",
       "\n",
       "   geocoded_longitude       city       state country  \n",
       "0          -91.529911  Iowa City        Iowa      us  \n",
       "1          -87.922497  Milwaukee   Wisconsin      us  \n",
       "2         -123.100707    Shelton  Washington      us  \n",
       "3          -92.333737   Columbia    Missouri      us  \n",
       "4         -122.330062    Seattle  Washington      us  "
      ]
     },
     "execution_count": 4,
     "metadata": {},
     "output_type": "execute_result"
    }
   ],
   "source": [
    "df.head()"
   ]
  },
  {
   "cell_type": "markdown",
   "metadata": {},
   "source": [
    "----"
   ]
  },
  {
   "cell_type": "markdown",
   "metadata": {},
   "source": [
    "#### Read in Airport data"
   ]
  },
  {
   "cell_type": "code",
   "execution_count": 5,
   "metadata": {},
   "outputs": [],
   "source": [
    "data_url = 'https://datahub.io/core/airport-codes/datapackage.json'\n",
    "package = datapackage.Package(data_url)\n",
    "resources = package.resources\n",
    "for resource in resources:\n",
    "    if resource.tabular:\n",
    "        airport_df = pd.read_csv(resource.descriptor['path'])\n",
    "        airport_df = airport_df[airport_df.iso_country == \"US\"]"
   ]
  },
  {
   "cell_type": "code",
   "execution_count": 6,
   "metadata": {},
   "outputs": [
    {
     "data": {
      "text/html": [
       "<div>\n",
       "<table border=\"1\" class=\"dataframe\">\n",
       "  <thead>\n",
       "    <tr style=\"text-align: right;\">\n",
       "      <th></th>\n",
       "      <th>id</th>\n",
       "      <th>ident</th>\n",
       "      <th>type</th>\n",
       "      <th>name</th>\n",
       "      <th>latitude_deg</th>\n",
       "      <th>longitude_deg</th>\n",
       "      <th>elevation_ft</th>\n",
       "      <th>continent</th>\n",
       "      <th>iso_country</th>\n",
       "      <th>iso_region</th>\n",
       "      <th>municipality</th>\n",
       "      <th>scheduled_service</th>\n",
       "      <th>gps_code</th>\n",
       "      <th>iata_code</th>\n",
       "      <th>local_code</th>\n",
       "      <th>home_link</th>\n",
       "      <th>wikipedia_link</th>\n",
       "      <th>keywords</th>\n",
       "    </tr>\n",
       "  </thead>\n",
       "  <tbody>\n",
       "    <tr>\n",
       "      <th>0</th>\n",
       "      <td>6523</td>\n",
       "      <td>00A</td>\n",
       "      <td>heliport</td>\n",
       "      <td>Total Rf Heliport</td>\n",
       "      <td>40.070801</td>\n",
       "      <td>-74.933601</td>\n",
       "      <td>11.0</td>\n",
       "      <td>NaN</td>\n",
       "      <td>US</td>\n",
       "      <td>US-PA</td>\n",
       "      <td>Bensalem</td>\n",
       "      <td>no</td>\n",
       "      <td>00A</td>\n",
       "      <td>NaN</td>\n",
       "      <td>00A</td>\n",
       "      <td>NaN</td>\n",
       "      <td>NaN</td>\n",
       "      <td>NaN</td>\n",
       "    </tr>\n",
       "    <tr>\n",
       "      <th>1</th>\n",
       "      <td>323361</td>\n",
       "      <td>00AA</td>\n",
       "      <td>small_airport</td>\n",
       "      <td>Aero B Ranch Airport</td>\n",
       "      <td>38.704022</td>\n",
       "      <td>-101.473911</td>\n",
       "      <td>3435.0</td>\n",
       "      <td>NaN</td>\n",
       "      <td>US</td>\n",
       "      <td>US-KS</td>\n",
       "      <td>Leoti</td>\n",
       "      <td>no</td>\n",
       "      <td>00AA</td>\n",
       "      <td>NaN</td>\n",
       "      <td>00AA</td>\n",
       "      <td>NaN</td>\n",
       "      <td>NaN</td>\n",
       "      <td>NaN</td>\n",
       "    </tr>\n",
       "    <tr>\n",
       "      <th>2</th>\n",
       "      <td>6524</td>\n",
       "      <td>00AK</td>\n",
       "      <td>small_airport</td>\n",
       "      <td>Lowell Field</td>\n",
       "      <td>59.949200</td>\n",
       "      <td>-151.695999</td>\n",
       "      <td>450.0</td>\n",
       "      <td>NaN</td>\n",
       "      <td>US</td>\n",
       "      <td>US-AK</td>\n",
       "      <td>Anchor Point</td>\n",
       "      <td>no</td>\n",
       "      <td>00AK</td>\n",
       "      <td>NaN</td>\n",
       "      <td>00AK</td>\n",
       "      <td>NaN</td>\n",
       "      <td>NaN</td>\n",
       "      <td>NaN</td>\n",
       "    </tr>\n",
       "    <tr>\n",
       "      <th>3</th>\n",
       "      <td>6525</td>\n",
       "      <td>00AL</td>\n",
       "      <td>small_airport</td>\n",
       "      <td>Epps Airpark</td>\n",
       "      <td>34.864799</td>\n",
       "      <td>-86.770302</td>\n",
       "      <td>820.0</td>\n",
       "      <td>NaN</td>\n",
       "      <td>US</td>\n",
       "      <td>US-AL</td>\n",
       "      <td>Harvest</td>\n",
       "      <td>no</td>\n",
       "      <td>00AL</td>\n",
       "      <td>NaN</td>\n",
       "      <td>00AL</td>\n",
       "      <td>NaN</td>\n",
       "      <td>NaN</td>\n",
       "      <td>NaN</td>\n",
       "    </tr>\n",
       "    <tr>\n",
       "      <th>4</th>\n",
       "      <td>6526</td>\n",
       "      <td>00AR</td>\n",
       "      <td>closed</td>\n",
       "      <td>Newport Hospital &amp; Clinic Heliport</td>\n",
       "      <td>35.608700</td>\n",
       "      <td>-91.254898</td>\n",
       "      <td>237.0</td>\n",
       "      <td>NaN</td>\n",
       "      <td>US</td>\n",
       "      <td>US-AR</td>\n",
       "      <td>Newport</td>\n",
       "      <td>no</td>\n",
       "      <td>NaN</td>\n",
       "      <td>NaN</td>\n",
       "      <td>NaN</td>\n",
       "      <td>NaN</td>\n",
       "      <td>NaN</td>\n",
       "      <td>00AR</td>\n",
       "    </tr>\n",
       "  </tbody>\n",
       "</table>\n",
       "</div>"
      ],
      "text/plain": [
       "       id ident           type                                name  \\\n",
       "0    6523   00A       heliport                   Total Rf Heliport   \n",
       "1  323361  00AA  small_airport                Aero B Ranch Airport   \n",
       "2    6524  00AK  small_airport                        Lowell Field   \n",
       "3    6525  00AL  small_airport                        Epps Airpark   \n",
       "4    6526  00AR         closed  Newport Hospital & Clinic Heliport   \n",
       "\n",
       "   latitude_deg  longitude_deg  elevation_ft continent iso_country iso_region  \\\n",
       "0     40.070801     -74.933601          11.0       NaN          US      US-PA   \n",
       "1     38.704022    -101.473911        3435.0       NaN          US      US-KS   \n",
       "2     59.949200    -151.695999         450.0       NaN          US      US-AK   \n",
       "3     34.864799     -86.770302         820.0       NaN          US      US-AL   \n",
       "4     35.608700     -91.254898         237.0       NaN          US      US-AR   \n",
       "\n",
       "   municipality scheduled_service gps_code iata_code local_code home_link  \\\n",
       "0      Bensalem                no      00A       NaN        00A       NaN   \n",
       "1         Leoti                no     00AA       NaN       00AA       NaN   \n",
       "2  Anchor Point                no     00AK       NaN       00AK       NaN   \n",
       "3       Harvest                no     00AL       NaN       00AL       NaN   \n",
       "4       Newport                no      NaN       NaN        NaN       NaN   \n",
       "\n",
       "  wikipedia_link keywords  \n",
       "0            NaN      NaN  \n",
       "1            NaN      NaN  \n",
       "2            NaN      NaN  \n",
       "3            NaN      NaN  \n",
       "4            NaN     00AR  "
      ]
     },
     "execution_count": 6,
     "metadata": {},
     "output_type": "execute_result"
    }
   ],
   "source": [
    "airport_df.head(5)"
   ]
  },
  {
   "cell_type": "code",
   "execution_count": 15,
   "metadata": {},
   "outputs": [
    {
     "data": {
      "text/plain": [
       "(22389, 18)"
      ]
     },
     "execution_count": 15,
     "metadata": {},
     "output_type": "execute_result"
    }
   ],
   "source": [
    "airport_df.shape"
   ]
  },
  {
   "cell_type": "markdown",
   "metadata": {},
   "source": [
    "#### unique airport types"
   ]
  },
  {
   "cell_type": "code",
   "execution_count": 16,
   "metadata": {},
   "outputs": [
    {
     "data": {
      "text/plain": [
       "array(['heliport', 'small_airport', 'closed', 'seaplane_base',\n",
       "       'balloonport', 'medium_airport', 'large_airport'], dtype=object)"
      ]
     },
     "execution_count": 16,
     "metadata": {},
     "output_type": "execute_result"
    }
   ],
   "source": [
    "airport_df.type.unique()"
   ]
  },
  {
   "cell_type": "markdown",
   "metadata": {},
   "source": [
    "#### There are 172 large airports"
   ]
  },
  {
   "cell_type": "code",
   "execution_count": 17,
   "metadata": {},
   "outputs": [
    {
     "data": {
      "text/plain": [
       "(172, 18)"
      ]
     },
     "execution_count": 17,
     "metadata": {},
     "output_type": "execute_result"
    }
   ],
   "source": [
    "airport_df[airport_df.type == 'large_airport'].shape"
   ]
  },
  {
   "cell_type": "code",
   "execution_count": 18,
   "metadata": {},
   "outputs": [],
   "source": [
    "large_airport_df = airport_df[airport_df.type == 'large_airport']"
   ]
  },
  {
   "cell_type": "markdown",
   "metadata": {},
   "source": [
    "#### 687 medium airports"
   ]
  },
  {
   "cell_type": "code",
   "execution_count": 19,
   "metadata": {},
   "outputs": [
    {
     "data": {
      "text/plain": [
       "(687, 18)"
      ]
     },
     "execution_count": 19,
     "metadata": {},
     "output_type": "execute_result"
    }
   ],
   "source": [
    "airport_df[airport_df.type == 'medium_airport'].shape"
   ]
  },
  {
   "cell_type": "code",
   "execution_count": 20,
   "metadata": {},
   "outputs": [],
   "source": [
    "medium_airport_df = airport_df[airport_df.type == 'medium_airport']"
   ]
  },
  {
   "cell_type": "markdown",
   "metadata": {},
   "source": [
    "#### 13865 small airports"
   ]
  },
  {
   "cell_type": "code",
   "execution_count": 21,
   "metadata": {},
   "outputs": [
    {
     "data": {
      "text/plain": [
       "(13865, 18)"
      ]
     },
     "execution_count": 21,
     "metadata": {},
     "output_type": "execute_result"
    }
   ],
   "source": [
    "airport_df[airport_df.type == 'small_airport'].shape"
   ]
  },
  {
   "cell_type": "code",
   "execution_count": 22,
   "metadata": {},
   "outputs": [],
   "source": [
    "small_airport_df = airport_df[airport_df.type == 'small_airport']"
   ]
  },
  {
   "cell_type": "markdown",
   "metadata": {},
   "source": [
    "#### 858 closed airports -- could be interesting to see if there is any correlation here"
   ]
  },
  {
   "cell_type": "code",
   "execution_count": 23,
   "metadata": {},
   "outputs": [
    {
     "data": {
      "text/plain": [
       "(858, 18)"
      ]
     },
     "execution_count": 23,
     "metadata": {},
     "output_type": "execute_result"
    }
   ],
   "source": [
    "airport_df[airport_df.type == 'closed'].shape"
   ]
  },
  {
   "cell_type": "code",
   "execution_count": 24,
   "metadata": {},
   "outputs": [],
   "source": [
    "closed_airport_df = airport_df[airport_df.type == 'closed']"
   ]
  },
  {
   "cell_type": "markdown",
   "metadata": {},
   "source": [
    "----"
   ]
  },
  {
   "cell_type": "markdown",
   "metadata": {},
   "source": [
    "### haversine distance"
   ]
  },
  {
   "cell_type": "code",
   "execution_count": 28,
   "metadata": {},
   "outputs": [],
   "source": [
    "# https://stackoverflow.com/questions/43577086/pandas-calculate-haversine-distance-within-each-group-of-rows/43577275#43577275\n",
    "# https://stackoverflow.com/questions/29545704/fast-haversine-approximation-python-pandas/29546836#29546836\n",
    "import numpy as np\n",
    "\n",
    "# haversine distance\n",
    "def distance_np(c1, c2):\n",
    "    \"\"\"\n",
    "    Calculate the great circle distance between two points\n",
    "    on the earth (specified in decimal degrees)\n",
    "\n",
    "    All args must be of equal length.    \n",
    "\n",
    "    \"\"\"\n",
    "    lon1, lat1 = c1 \n",
    "    lon2, lat2 = c2\n",
    "    \n",
    "    lon2_,lat2_ = lon2,lat2\n",
    "    \n",
    "    lon1, lat1, lon2, lat2 = map(np.radians, [lon1, lat1, lon2, lat2])\n",
    "\n",
    "    dlon = lon2 - lon1\n",
    "    dlat = lat2 - lat1\n",
    "\n",
    "    a = np.sin(dlat/2.0)**2 + np.cos(lat1) * np.cos(lat2) * np.sin(dlon/2.0)**2\n",
    "\n",
    "    c = 2 * np.arcsin(np.sqrt(a))\n",
    "    km = 6367 * c\n",
    "    miles = km/1.609344\n",
    "    return miles"
   ]
  },
  {
   "cell_type": "markdown",
   "metadata": {},
   "source": [
    "#### differences between different distance metrics\n",
    "It is clear that vincenty is most precise, but haversine is great for quick computation"
   ]
  },
  {
   "cell_type": "code",
   "execution_count": 33,
   "metadata": {},
   "outputs": [
    {
     "data": {
      "text/plain": [
       "Distance(6.08446133018)"
      ]
     },
     "execution_count": 33,
     "metadata": {},
     "output_type": "execute_result"
    }
   ],
   "source": [
    "# great circle distance\n",
    "geopy.distance.great_circle((41.6613,-91.5299), (41.680318, -91.598565))"
   ]
  },
  {
   "cell_type": "code",
   "execution_count": 34,
   "metadata": {},
   "outputs": [
    {
     "data": {
      "text/plain": [
       "3.787775939330663"
      ]
     },
     "execution_count": 34,
     "metadata": {},
     "output_type": "execute_result"
    }
   ],
   "source": [
    "# vincenty distance\n",
    "geopy.distance.vincenty((41.6613,-91.5299), (41.680318, -91.598565)).miles"
   ]
  },
  {
   "cell_type": "code",
   "execution_count": 35,
   "metadata": {},
   "outputs": [
    {
     "data": {
      "text/plain": [
       "4.7414498663059712"
      ]
     },
     "execution_count": 35,
     "metadata": {},
     "output_type": "execute_result"
    }
   ],
   "source": [
    "distance_np((41.6613,-91.5299), (41.680318, -91.598565))"
   ]
  },
  {
   "cell_type": "markdown",
   "metadata": {},
   "source": [
    "----"
   ]
  },
  {
   "cell_type": "markdown",
   "metadata": {},
   "source": [
    "### Add distance and name of closest large/medium/small airport from UFO sighting"
   ]
  },
  {
   "cell_type": "code",
   "execution_count": 36,
   "metadata": {},
   "outputs": [],
   "source": [
    "df['closest_LARGE_airport_name'] = ''\n",
    "df['closest_LARGE_airport_distance'] = float(\"inf\")\n",
    "\n",
    "df['closest_MEDIUM_airport_name'] = ''\n",
    "df['closest_MEDIUM_airport_distance'] = float(\"inf\")\n",
    "\n",
    "df['closest_SMALL_airport_name'] = ''\n",
    "df['closest_SMALL_airport_distance'] = float(\"inf\")"
   ]
  },
  {
   "cell_type": "markdown",
   "metadata": {},
   "source": [
    "#### The following takes ~35 minutes to run -- read the resulting df from pickle (data/df_nearest_airports.pkl) instead of running"
   ]
  },
  {
   "cell_type": "code",
   "execution_count": 40,
   "metadata": {},
   "outputs": [
    {
     "name": "stdout",
     "output_type": "stream",
     "text": [
      "1946.99681997\n"
     ]
    }
   ],
   "source": [
    "t0 = time.time()\n",
    "\n",
    "large_airport_df = airport_df[airport_df.type == 'large_airport']\n",
    "large_airport_df['distance_from_target'] = float(\"inf\")\n",
    "\n",
    "medium_airport_df = airport_df[airport_df.type == 'medium_airport']\n",
    "medium_airport_df['distance_from_target'] = float(\"inf\")\n",
    "\n",
    "small_airport_df = airport_df[airport_df.type == 'small_airport']\n",
    "small_airport_df['distance_from_target'] = float(\"inf\")\n",
    "\n",
    "closed_airport_df = airport_df[airport_df.type == 'closed']\n",
    "closed_airport_df['distance_from_target'] = float(\"inf\")\n",
    "\n",
    "for index,row in df.iterrows():\n",
    "    longitude = row['geocoded_longitude']\n",
    "    latitude = row['geocoded_latitude']\n",
    "\n",
    "    # skip rows without coordinates\n",
    "    if longitude == \"NA\" or latitude == \"NA\":\n",
    "        continue\n",
    "    \n",
    "    large_airport_with_distance_df = large_airport_df.assign(distance_from_target = distance_np((latitude,longitude),(large_airport_df['latitude_deg'],large_airport_df['longitude_deg'])))\n",
    "    smallest_distance_row = large_airport_with_distance_df.nsmallest(1, 'distance_from_target').head(1).squeeze()\n",
    "    closest_LARGE_airport_name = smallest_distance_row['name']\n",
    "    closest_LARGE_airport_distance = smallest_distance_row['distance_from_target']\n",
    "    df.ix[index, 'closest_LARGE_airport_name'] = closest_LARGE_airport_name\n",
    "    df.ix[index, 'closest_LARGE_airport_distance'] = closest_LARGE_airport_distance\n",
    "    \n",
    "    medium_airport_with_distance_df = medium_airport_df.assign(distance_from_target = distance_np((latitude,longitude),(medium_airport_df['latitude_deg'],medium_airport_df['longitude_deg'])))\n",
    "    smallest_distance_row = medium_airport_with_distance_df.nsmallest(1, 'distance_from_target').head(1).squeeze()\n",
    "    closest_MEDIUM_airport_name = smallest_distance_row['name']\n",
    "    closest_MEDIUM_airport_distance = smallest_distance_row['distance_from_target']\n",
    "    df.ix[index, 'closest_MEDIUM_airport_name'] = closest_MEDIUM_airport_name\n",
    "    df.ix[index, 'closest_MEDIUM_airport_distance'] = closest_MEDIUM_airport_distance\n",
    "    \n",
    "    small_airport_with_distance_df = small_airport_df.assign(distance_from_target = distance_np((latitude,longitude),(small_airport_df['latitude_deg'],small_airport_df['longitude_deg'])))\n",
    "    smallest_distance_row = small_airport_with_distance_df.nsmallest(1, 'distance_from_target').head(1).squeeze()\n",
    "    closest_SMALL_airport_name = smallest_distance_row['name']\n",
    "    closest_SMALL_airport_distance = smallest_distance_row['distance_from_target']\n",
    "    df.ix[index, 'closest_SMALL_airport_name'] = closest_SMALL_airport_name\n",
    "    df.ix[index, 'closest_SMALL_airport_distance'] = closest_SMALL_airport_distance\n",
    "    \n",
    "    closed_airport_with_distance_df = closed_airport_df.assign(distance_from_target = distance_np((latitude,longitude),(closed_airport_df['latitude_deg'],closed_airport_df['longitude_deg'])))\n",
    "    smallest_distance_row = closed_airport_with_distance_df.nsmallest(1, 'distance_from_target').head(1).squeeze()\n",
    "    closest_CLOSED_airport_name = smallest_distance_row['name']\n",
    "    closest_CLOSED_airport_distance = smallest_distance_row['distance_from_target']\n",
    "    df.ix[index, 'closest_CLOSED_airport_name'] = closest_CLOSED_airport_name\n",
    "    df.ix[index, 'closest_CLOSED_airport_distance'] = closest_CLOSED_airport_distance\n",
    "\n",
    "t1 = time.time()\n",
    "print t1-t0"
   ]
  },
  {
   "cell_type": "code",
   "execution_count": 42,
   "metadata": {},
   "outputs": [
    {
     "data": {
      "text/html": [
       "<div>\n",
       "<table border=\"1\" class=\"dataframe\">\n",
       "  <thead>\n",
       "    <tr style=\"text-align: right;\">\n",
       "      <th></th>\n",
       "      <th>id</th>\n",
       "      <th>description</th>\n",
       "      <th>duration</th>\n",
       "      <th>location</th>\n",
       "      <th>reported_at</th>\n",
       "      <th>shape</th>\n",
       "      <th>sighted_at</th>\n",
       "      <th>geocoded_latitude</th>\n",
       "      <th>geocoded_longitude</th>\n",
       "      <th>city</th>\n",
       "      <th>state</th>\n",
       "      <th>country</th>\n",
       "      <th>closest_LARGE_airport_name</th>\n",
       "      <th>closest_LARGE_airport_distance</th>\n",
       "      <th>closest_MEDIUM_airport_name</th>\n",
       "      <th>closest_MEDIUM_airport_distance</th>\n",
       "      <th>closest_SMALL_airport_name</th>\n",
       "      <th>closest_SMALL_airport_distance</th>\n",
       "      <th>closest_CLOSED_airport_name</th>\n",
       "      <th>closest_CLOSED_airport_distance</th>\n",
       "    </tr>\n",
       "  </thead>\n",
       "  <tbody>\n",
       "    <tr>\n",
       "      <th>0</th>\n",
       "      <td>0</td>\n",
       "      <td>Man repts. witnessing &amp;quot;flash, followed by...</td>\n",
       "      <td>NaN</td>\n",
       "      <td>Iowa City, IA</td>\n",
       "      <td>19951009</td>\n",
       "      <td>unknown</td>\n",
       "      <td>19951009</td>\n",
       "      <td>41.661256</td>\n",
       "      <td>-91.529911</td>\n",
       "      <td>Iowa City</td>\n",
       "      <td>Iowa</td>\n",
       "      <td>us</td>\n",
       "      <td>The Eastern Iowa Airport</td>\n",
       "      <td>12.498008</td>\n",
       "      <td>Chippewa Valley Regional Airport</td>\n",
       "      <td>6.616011</td>\n",
       "      <td>Marion Airport</td>\n",
       "      <td>0.683006</td>\n",
       "      <td>Pete's Patch Airport</td>\n",
       "      <td>3.912630</td>\n",
       "    </tr>\n",
       "    <tr>\n",
       "      <th>1</th>\n",
       "      <td>1</td>\n",
       "      <td>Man  on Hwy 43 SW of Milwaukee sees large, bri...</td>\n",
       "      <td>2 min.</td>\n",
       "      <td>Milwaukee, WI</td>\n",
       "      <td>19951011</td>\n",
       "      <td>unknown</td>\n",
       "      <td>19951010</td>\n",
       "      <td>43.034993</td>\n",
       "      <td>-87.922497</td>\n",
       "      <td>Milwaukee</td>\n",
       "      <td>Wisconsin</td>\n",
       "      <td>us</td>\n",
       "      <td>General Mitchell International Airport</td>\n",
       "      <td>1.801887</td>\n",
       "      <td>Kenosha Regional Airport</td>\n",
       "      <td>1.157715</td>\n",
       "      <td>Herbert C. Maas Airport</td>\n",
       "      <td>1.716202</td>\n",
       "      <td>General Mitchell Intl Heliport</td>\n",
       "      <td>1.552094</td>\n",
       "    </tr>\n",
       "    <tr>\n",
       "      <th>2</th>\n",
       "      <td>2</td>\n",
       "      <td>Telephoned Report:CA woman visiting daughter w...</td>\n",
       "      <td>NaN</td>\n",
       "      <td>Shelton, WA</td>\n",
       "      <td>19950103</td>\n",
       "      <td>unknown</td>\n",
       "      <td>19950101</td>\n",
       "      <td>47.215094</td>\n",
       "      <td>-123.100707</td>\n",
       "      <td>Shelton</td>\n",
       "      <td>Washington</td>\n",
       "      <td>us</td>\n",
       "      <td>McChord Air Force Base</td>\n",
       "      <td>43.233065</td>\n",
       "      <td>Olympia Regional Airport</td>\n",
       "      <td>16.484896</td>\n",
       "      <td>Sanderson Field</td>\n",
       "      <td>3.339607</td>\n",
       "      <td>Teufel's Farm Strip</td>\n",
       "      <td>64.820703</td>\n",
       "    </tr>\n",
       "    <tr>\n",
       "      <th>3</th>\n",
       "      <td>3</td>\n",
       "      <td>Man repts. son&amp;apos;s bizarre sighting of smal...</td>\n",
       "      <td>2 min.</td>\n",
       "      <td>Columbia, MO</td>\n",
       "      <td>19950510</td>\n",
       "      <td>unknown</td>\n",
       "      <td>19950510</td>\n",
       "      <td>38.951883</td>\n",
       "      <td>-92.333737</td>\n",
       "      <td>Columbia</td>\n",
       "      <td>Missouri</td>\n",
       "      <td>us</td>\n",
       "      <td>Bill &amp; Hillary Clinton National Airport/Adams ...</td>\n",
       "      <td>13.834501</td>\n",
       "      <td>Columbia Regional Airport</td>\n",
       "      <td>7.889876</td>\n",
       "      <td>Willhite Airport</td>\n",
       "      <td>3.120229</td>\n",
       "      <td>Iowa Army Natl Guard Heliport</td>\n",
       "      <td>11.244884</td>\n",
       "    </tr>\n",
       "    <tr>\n",
       "      <th>4</th>\n",
       "      <td>4</td>\n",
       "      <td>Anonymous caller repts. sighting 4 ufo&amp;apos;s ...</td>\n",
       "      <td>NaN</td>\n",
       "      <td>Seattle, WA</td>\n",
       "      <td>19950614</td>\n",
       "      <td>unknown</td>\n",
       "      <td>19950611</td>\n",
       "      <td>47.603832</td>\n",
       "      <td>-122.330062</td>\n",
       "      <td>Seattle</td>\n",
       "      <td>Washington</td>\n",
       "      <td>us</td>\n",
       "      <td>Boeing Field King County International Airport</td>\n",
       "      <td>3.343976</td>\n",
       "      <td>Snohomish County (Paine Field) Airport</td>\n",
       "      <td>11.644950</td>\n",
       "      <td>Renton Municipal Airport</td>\n",
       "      <td>8.871067</td>\n",
       "      <td>Blaine Municipal Airport</td>\n",
       "      <td>58.478816</td>\n",
       "    </tr>\n",
       "  </tbody>\n",
       "</table>\n",
       "</div>"
      ],
      "text/plain": [
       "   id                                        description duration  \\\n",
       "0   0  Man repts. witnessing &quot;flash, followed by...      NaN   \n",
       "1   1  Man  on Hwy 43 SW of Milwaukee sees large, bri...   2 min.   \n",
       "2   2  Telephoned Report:CA woman visiting daughter w...      NaN   \n",
       "3   3  Man repts. son&apos;s bizarre sighting of smal...   2 min.   \n",
       "4   4  Anonymous caller repts. sighting 4 ufo&apos;s ...      NaN   \n",
       "\n",
       "         location  reported_at    shape  sighted_at  geocoded_latitude  \\\n",
       "0   Iowa City, IA     19951009  unknown    19951009          41.661256   \n",
       "1   Milwaukee, WI     19951011  unknown    19951010          43.034993   \n",
       "2     Shelton, WA     19950103  unknown    19950101          47.215094   \n",
       "3    Columbia, MO     19950510  unknown    19950510          38.951883   \n",
       "4     Seattle, WA     19950614  unknown    19950611          47.603832   \n",
       "\n",
       "   geocoded_longitude       city       state country  \\\n",
       "0          -91.529911  Iowa City        Iowa      us   \n",
       "1          -87.922497  Milwaukee   Wisconsin      us   \n",
       "2         -123.100707    Shelton  Washington      us   \n",
       "3          -92.333737   Columbia    Missouri      us   \n",
       "4         -122.330062    Seattle  Washington      us   \n",
       "\n",
       "                          closest_LARGE_airport_name  \\\n",
       "0                           The Eastern Iowa Airport   \n",
       "1             General Mitchell International Airport   \n",
       "2                             McChord Air Force Base   \n",
       "3  Bill & Hillary Clinton National Airport/Adams ...   \n",
       "4     Boeing Field King County International Airport   \n",
       "\n",
       "   closest_LARGE_airport_distance             closest_MEDIUM_airport_name  \\\n",
       "0                       12.498008        Chippewa Valley Regional Airport   \n",
       "1                        1.801887                Kenosha Regional Airport   \n",
       "2                       43.233065                Olympia Regional Airport   \n",
       "3                       13.834501               Columbia Regional Airport   \n",
       "4                        3.343976  Snohomish County (Paine Field) Airport   \n",
       "\n",
       "   closest_MEDIUM_airport_distance closest_SMALL_airport_name  \\\n",
       "0                         6.616011             Marion Airport   \n",
       "1                         1.157715    Herbert C. Maas Airport   \n",
       "2                        16.484896            Sanderson Field   \n",
       "3                         7.889876           Willhite Airport   \n",
       "4                        11.644950   Renton Municipal Airport   \n",
       "\n",
       "   closest_SMALL_airport_distance     closest_CLOSED_airport_name  \\\n",
       "0                        0.683006            Pete's Patch Airport   \n",
       "1                        1.716202  General Mitchell Intl Heliport   \n",
       "2                        3.339607             Teufel's Farm Strip   \n",
       "3                        3.120229   Iowa Army Natl Guard Heliport   \n",
       "4                        8.871067        Blaine Municipal Airport   \n",
       "\n",
       "   closest_CLOSED_airport_distance  \n",
       "0                         3.912630  \n",
       "1                         1.552094  \n",
       "2                        64.820703  \n",
       "3                        11.244884  \n",
       "4                        58.478816  "
      ]
     },
     "execution_count": 42,
     "metadata": {},
     "output_type": "execute_result"
    }
   ],
   "source": [
    "df.head()"
   ]
  },
  {
   "cell_type": "markdown",
   "metadata": {},
   "source": [
    "#### save df to pick / read df from pickle"
   ]
  },
  {
   "cell_type": "code",
   "execution_count": 43,
   "metadata": {},
   "outputs": [],
   "source": [
    "df.to_pickle('../pickle_files/df_nearest_airports.pkl')\n",
    "# df = pd.read_pickle('../pickle_files/df_nearest_airports.pkl')"
   ]
  },
  {
   "cell_type": "markdown",
   "metadata": {},
   "source": [
    "##### df at this point has been updated\n",
    "Added the following features: <br/>\n",
    "1) closest LARGE airport name & distance<br/>\n",
    "2) closest MEDIUM airport name & distance<br/>\n",
    "3) closest SMALL airport name & distance<br/>"
   ]
  },
  {
   "cell_type": "code",
   "execution_count": 44,
   "metadata": {},
   "outputs": [],
   "source": [
    "df.to_csv('reference_w_airports.csv', index=False)"
   ]
  },
  {
   "cell_type": "code",
   "execution_count": null,
   "metadata": {},
   "outputs": [],
   "source": []
  }
 ],
 "metadata": {
  "kernelspec": {
   "display_name": "Python 2",
   "language": "python",
   "name": "python2"
  },
  "language_info": {
   "codemirror_mode": {
    "name": "ipython",
    "version": 2
   },
   "file_extension": ".py",
   "mimetype": "text/x-python",
   "name": "python",
   "nbconvert_exporter": "python",
   "pygments_lexer": "ipython2",
   "version": "2.7.14"
  }
 },
 "nbformat": 4,
 "nbformat_minor": 2
}
