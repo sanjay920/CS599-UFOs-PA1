{
 "cells": [
  {
   "cell_type": "code",
   "execution_count": 55,
   "metadata": {},
   "outputs": [],
   "source": [
    "import pandas as pd\n",
    "import numpy as np\n",
    "import time\n",
    "from datetime import datetime"
   ]
  },
  {
   "cell_type": "code",
   "execution_count": 56,
   "metadata": {},
   "outputs": [],
   "source": [
    "import sys\n",
    "stdout = sys.stdout\n",
    "reload(sys)\n",
    "sys.setdefaultencoding('utf-8')\n",
    "sys.stdout = stdout"
   ]
  },
  {
   "cell_type": "markdown",
   "metadata": {},
   "source": [
    "---"
   ]
  },
  {
   "cell_type": "markdown",
   "metadata": {},
   "source": [
    "#### Read reference data into dataframe"
   ]
  },
  {
   "cell_type": "code",
   "execution_count": 57,
   "metadata": {},
   "outputs": [],
   "source": [
    "df = pd.read_csv('../reference_w_loc.csv')"
   ]
  },
  {
   "cell_type": "code",
   "execution_count": 58,
   "metadata": {},
   "outputs": [
    {
     "data": {
      "text/html": [
       "<div>\n",
       "<table border=\"1\" class=\"dataframe\">\n",
       "  <thead>\n",
       "    <tr style=\"text-align: right;\">\n",
       "      <th></th>\n",
       "      <th>id</th>\n",
       "      <th>description</th>\n",
       "      <th>duration</th>\n",
       "      <th>location</th>\n",
       "      <th>reported_at</th>\n",
       "      <th>shape</th>\n",
       "      <th>sighted_at</th>\n",
       "      <th>geocoded_latitude</th>\n",
       "      <th>geocoded_longitude</th>\n",
       "      <th>city</th>\n",
       "      <th>state</th>\n",
       "      <th>country</th>\n",
       "    </tr>\n",
       "  </thead>\n",
       "  <tbody>\n",
       "    <tr>\n",
       "      <th>0</th>\n",
       "      <td>0</td>\n",
       "      <td>Man repts. witnessing &amp;quot;flash, followed by...</td>\n",
       "      <td>NaN</td>\n",
       "      <td>Iowa City, IA</td>\n",
       "      <td>19951009</td>\n",
       "      <td>unknown</td>\n",
       "      <td>19951009</td>\n",
       "      <td>41.661256</td>\n",
       "      <td>-91.529911</td>\n",
       "      <td>Iowa City</td>\n",
       "      <td>Iowa</td>\n",
       "      <td>us</td>\n",
       "    </tr>\n",
       "    <tr>\n",
       "      <th>1</th>\n",
       "      <td>1</td>\n",
       "      <td>Man  on Hwy 43 SW of Milwaukee sees large, bri...</td>\n",
       "      <td>2 min.</td>\n",
       "      <td>Milwaukee, WI</td>\n",
       "      <td>19951011</td>\n",
       "      <td>unknown</td>\n",
       "      <td>19951010</td>\n",
       "      <td>43.034993</td>\n",
       "      <td>-87.922497</td>\n",
       "      <td>Milwaukee</td>\n",
       "      <td>Wisconsin</td>\n",
       "      <td>us</td>\n",
       "    </tr>\n",
       "    <tr>\n",
       "      <th>2</th>\n",
       "      <td>2</td>\n",
       "      <td>Telephoned Report:CA woman visiting daughter w...</td>\n",
       "      <td>NaN</td>\n",
       "      <td>Shelton, WA</td>\n",
       "      <td>19950103</td>\n",
       "      <td>unknown</td>\n",
       "      <td>19950101</td>\n",
       "      <td>47.215094</td>\n",
       "      <td>-123.100707</td>\n",
       "      <td>Shelton</td>\n",
       "      <td>Washington</td>\n",
       "      <td>us</td>\n",
       "    </tr>\n",
       "  </tbody>\n",
       "</table>\n",
       "</div>"
      ],
      "text/plain": [
       "   id                                        description duration  \\\n",
       "0   0  Man repts. witnessing &quot;flash, followed by...      NaN   \n",
       "1   1  Man  on Hwy 43 SW of Milwaukee sees large, bri...   2 min.   \n",
       "2   2  Telephoned Report:CA woman visiting daughter w...      NaN   \n",
       "\n",
       "         location  reported_at    shape  sighted_at  geocoded_latitude  \\\n",
       "0   Iowa City, IA     19951009  unknown    19951009          41.661256   \n",
       "1   Milwaukee, WI     19951011  unknown    19951010          43.034993   \n",
       "2     Shelton, WA     19950103  unknown    19950101          47.215094   \n",
       "\n",
       "   geocoded_longitude       city       state country  \n",
       "0          -91.529911  Iowa City        Iowa      us  \n",
       "1          -87.922497  Milwaukee   Wisconsin      us  \n",
       "2         -123.100707    Shelton  Washington      us  "
      ]
     },
     "execution_count": 58,
     "metadata": {},
     "output_type": "execute_result"
    }
   ],
   "source": [
    "df.head(3)"
   ]
  },
  {
   "cell_type": "markdown",
   "metadata": {},
   "source": [
    "#### There are 138 rows with no sighted_at time information. We replace this date with their respective reported_at information"
   ]
  },
  {
   "cell_type": "code",
   "execution_count": 59,
   "metadata": {},
   "outputs": [
    {
     "data": {
      "text/plain": [
       "(138, 12)"
      ]
     },
     "execution_count": 59,
     "metadata": {},
     "output_type": "execute_result"
    }
   ],
   "source": [
    "df[df['sighted_at'] == 0].shape"
   ]
  },
  {
   "cell_type": "code",
   "execution_count": 60,
   "metadata": {},
   "outputs": [],
   "source": [
    "# replace dates without a sighted_at with their reported_at value\n",
    "for index,row in df[df['sighted_at'] == 0].iterrows():\n",
    "    df.ix[index, 'sighted_at'] = row['reported_at']"
   ]
  },
  {
   "cell_type": "code",
   "execution_count": 61,
   "metadata": {},
   "outputs": [
    {
     "data": {
      "text/plain": [
       "(0, 12)"
      ]
     },
     "execution_count": 61,
     "metadata": {},
     "output_type": "execute_result"
    }
   ],
   "source": [
    "# as expected there are no more missing sighted_at values\n",
    "df[df['sighted_at'] == 0].shape"
   ]
  },
  {
   "cell_type": "markdown",
   "metadata": {},
   "source": [
    "#### Extract year from sighted_at and add as column"
   ]
  },
  {
   "cell_type": "code",
   "execution_count": 98,
   "metadata": {},
   "outputs": [],
   "source": [
    "# add column 'year'\n",
    "df['year'] = 0"
   ]
  },
  {
   "cell_type": "code",
   "execution_count": 99,
   "metadata": {},
   "outputs": [],
   "source": [
    "def custom_round(x, base=10):\n",
    "    return int(base * round(float(x)/base))"
   ]
  },
  {
   "cell_type": "code",
   "execution_count": 100,
   "metadata": {},
   "outputs": [],
   "source": [
    "for index, row in df.iterrows():\n",
    "    row_date = str(row['sighted_at'])\n",
    "    df.ix[index, 'year'] = custom_round(datetime.strptime(row_date, '%Y%m%d').year)"
   ]
  },
  {
   "cell_type": "code",
   "execution_count": 101,
   "metadata": {},
   "outputs": [
    {
     "data": {
      "text/html": [
       "<div>\n",
       "<table border=\"1\" class=\"dataframe\">\n",
       "  <thead>\n",
       "    <tr style=\"text-align: right;\">\n",
       "      <th></th>\n",
       "      <th>id</th>\n",
       "      <th>description</th>\n",
       "      <th>duration</th>\n",
       "      <th>location</th>\n",
       "      <th>reported_at</th>\n",
       "      <th>shape</th>\n",
       "      <th>sighted_at</th>\n",
       "      <th>geocoded_latitude</th>\n",
       "      <th>geocoded_longitude</th>\n",
       "      <th>city</th>\n",
       "      <th>state</th>\n",
       "      <th>country</th>\n",
       "      <th>year</th>\n",
       "    </tr>\n",
       "  </thead>\n",
       "  <tbody>\n",
       "    <tr>\n",
       "      <th>22654</th>\n",
       "      <td>36375</td>\n",
       "      <td>Fire balls in the sky in AZI saw a fire ball i...</td>\n",
       "      <td>1 hour +</td>\n",
       "      <td>Gold Canyon, AZ</td>\n",
       "      <td>20060308</td>\n",
       "      <td>fireball</td>\n",
       "      <td>20060301</td>\n",
       "      <td>33.371071</td>\n",
       "      <td>-111.426185</td>\n",
       "      <td>San Tan Valley</td>\n",
       "      <td>Arizona</td>\n",
       "      <td>us</td>\n",
       "      <td>2010</td>\n",
       "    </tr>\n",
       "    <tr>\n",
       "      <th>29489</th>\n",
       "      <td>47235</td>\n",
       "      <td>2 UFOs (saucer type) following each other in t...</td>\n",
       "      <td>10-15 seconds</td>\n",
       "      <td>Coral Gables, FL</td>\n",
       "      <td>20080302</td>\n",
       "      <td>disk</td>\n",
       "      <td>20080302</td>\n",
       "      <td>25.690552</td>\n",
       "      <td>-80.235009</td>\n",
       "      <td>Coral Gables</td>\n",
       "      <td>Florida</td>\n",
       "      <td>us</td>\n",
       "      <td>2010</td>\n",
       "    </tr>\n",
       "    <tr>\n",
       "      <th>22643</th>\n",
       "      <td>36357</td>\n",
       "      <td>exploding/imploding and fading stars in Florid...</td>\n",
       "      <td>60+sec</td>\n",
       "      <td>North Port, FL</td>\n",
       "      <td>20060316</td>\n",
       "      <td>light</td>\n",
       "      <td>20020630</td>\n",
       "      <td>27.044224</td>\n",
       "      <td>-82.235925</td>\n",
       "      <td>North Port</td>\n",
       "      <td>Florida</td>\n",
       "      <td>us</td>\n",
       "      <td>2000</td>\n",
       "    </tr>\n",
       "    <tr>\n",
       "      <th>8913</th>\n",
       "      <td>13499</td>\n",
       "      <td>36 year old reports an object he saw with his ...</td>\n",
       "      <td>15 Minutes</td>\n",
       "      <td>Tampa, FL</td>\n",
       "      <td>20010816</td>\n",
       "      <td>other</td>\n",
       "      <td>19701001</td>\n",
       "      <td>27.947759</td>\n",
       "      <td>-82.458444</td>\n",
       "      <td>Tampa</td>\n",
       "      <td>Florida</td>\n",
       "      <td>us</td>\n",
       "      <td>1970</td>\n",
       "    </tr>\n",
       "    <tr>\n",
       "      <th>13209</th>\n",
       "      <td>20871</td>\n",
       "      <td>Rainbow colored cloud that changed colors cons...</td>\n",
       "      <td>6 min.</td>\n",
       "      <td>Poway, CA</td>\n",
       "      <td>20030824</td>\n",
       "      <td>other</td>\n",
       "      <td>19950915</td>\n",
       "      <td>32.962823</td>\n",
       "      <td>-117.035865</td>\n",
       "      <td>Poway</td>\n",
       "      <td>California</td>\n",
       "      <td>us</td>\n",
       "      <td>2000</td>\n",
       "    </tr>\n",
       "  </tbody>\n",
       "</table>\n",
       "</div>"
      ],
      "text/plain": [
       "          id                                        description  \\\n",
       "22654  36375  Fire balls in the sky in AZI saw a fire ball i...   \n",
       "29489  47235  2 UFOs (saucer type) following each other in t...   \n",
       "22643  36357  exploding/imploding and fading stars in Florid...   \n",
       "8913   13499  36 year old reports an object he saw with his ...   \n",
       "13209  20871  Rainbow colored cloud that changed colors cons...   \n",
       "\n",
       "            duration           location  reported_at      shape  sighted_at  \\\n",
       "22654       1 hour +    Gold Canyon, AZ     20060308   fireball    20060301   \n",
       "29489  10-15 seconds   Coral Gables, FL     20080302       disk    20080302   \n",
       "22643         60+sec     North Port, FL     20060316      light    20020630   \n",
       "8913      15 Minutes          Tampa, FL     20010816      other    19701001   \n",
       "13209         6 min.          Poway, CA     20030824      other    19950915   \n",
       "\n",
       "       geocoded_latitude  geocoded_longitude            city       state  \\\n",
       "22654          33.371071         -111.426185  San Tan Valley     Arizona   \n",
       "29489          25.690552          -80.235009    Coral Gables     Florida   \n",
       "22643          27.044224          -82.235925      North Port     Florida   \n",
       "8913           27.947759          -82.458444           Tampa     Florida   \n",
       "13209          32.962823         -117.035865           Poway  California   \n",
       "\n",
       "      country  year  \n",
       "22654      us  2010  \n",
       "29489      us  2010  \n",
       "22643      us  2000  \n",
       "8913       us  1970  \n",
       "13209      us  2000  "
      ]
     },
     "execution_count": 101,
     "metadata": {},
     "output_type": "execute_result"
    }
   ],
   "source": [
    "df.sample(5)"
   ]
  },
  {
   "cell_type": "markdown",
   "metadata": {},
   "source": [
    "---"
   ]
  },
  {
   "cell_type": "markdown",
   "metadata": {},
   "source": [
    "#### Read in population csv"
   ]
  },
  {
   "cell_type": "code",
   "execution_count": 87,
   "metadata": {},
   "outputs": [],
   "source": [
    "pop_df = pd.read_csv('pop_final.csv')"
   ]
  },
  {
   "cell_type": "code",
   "execution_count": 88,
   "metadata": {},
   "outputs": [
    {
     "data": {
      "text/html": [
       "<div>\n",
       "<table border=\"1\" class=\"dataframe\">\n",
       "  <thead>\n",
       "    <tr style=\"text-align: right;\">\n",
       "      <th></th>\n",
       "      <th>State</th>\n",
       "      <th>Year</th>\n",
       "      <th>Population</th>\n",
       "    </tr>\n",
       "  </thead>\n",
       "  <tbody>\n",
       "    <tr>\n",
       "      <th>2268</th>\n",
       "      <td>Washington</td>\n",
       "      <td>1900.0</td>\n",
       "      <td>518103</td>\n",
       "    </tr>\n",
       "    <tr>\n",
       "      <th>1376</th>\n",
       "      <td>Rhode Island</td>\n",
       "      <td>1980.0</td>\n",
       "      <td>947154</td>\n",
       "    </tr>\n",
       "    <tr>\n",
       "      <th>1288</th>\n",
       "      <td>North Carolina</td>\n",
       "      <td>2000.0</td>\n",
       "      <td>8049313</td>\n",
       "    </tr>\n",
       "    <tr>\n",
       "      <th>897</th>\n",
       "      <td>Delaware</td>\n",
       "      <td>1990.0</td>\n",
       "      <td>666168</td>\n",
       "    </tr>\n",
       "  </tbody>\n",
       "</table>\n",
       "</div>"
      ],
      "text/plain": [
       "               State    Year Population\n",
       "2268      Washington  1900.0     518103\n",
       "1376    Rhode Island  1980.0     947154\n",
       "1288  North Carolina  2000.0    8049313\n",
       "897         Delaware  1990.0     666168"
      ]
     },
     "execution_count": 88,
     "metadata": {},
     "output_type": "execute_result"
    }
   ],
   "source": [
    "pop_df.sample(4)"
   ]
  },
  {
   "cell_type": "code",
   "execution_count": 89,
   "metadata": {},
   "outputs": [
    {
     "data": {
      "text/plain": [
       "id                      int64\n",
       "description            object\n",
       "duration               object\n",
       "location               object\n",
       "reported_at             int64\n",
       "shape                  object\n",
       "sighted_at              int64\n",
       "geocoded_latitude     float64\n",
       "geocoded_longitude    float64\n",
       "city                   object\n",
       "state                  object\n",
       "country                object\n",
       "year                    int64\n",
       "dtype: object"
      ]
     },
     "execution_count": 89,
     "metadata": {},
     "output_type": "execute_result"
    }
   ],
   "source": [
    "df.dtypes"
   ]
  },
  {
   "cell_type": "code",
   "execution_count": 90,
   "metadata": {},
   "outputs": [
    {
     "data": {
      "text/plain": [
       "State          object\n",
       "Year          float64\n",
       "Population     object\n",
       "dtype: object"
      ]
     },
     "execution_count": 90,
     "metadata": {},
     "output_type": "execute_result"
    }
   ],
   "source": [
    "pop_df.dtypes"
   ]
  },
  {
   "cell_type": "code",
   "execution_count": 92,
   "metadata": {},
   "outputs": [
    {
     "name": "stdout",
     "output_type": "stream",
     "text": [
      "nan\n"
     ]
    }
   ],
   "source": [
    "for index,row in pop_df.iterrows():\n",
    "    year = row['Year']\n",
    "    try:\n",
    "        int(year)\n",
    "    except:\n",
    "        print year"
   ]
  },
  {
   "cell_type": "code",
   "execution_count": 93,
   "metadata": {},
   "outputs": [
    {
     "data": {
      "text/plain": [
       "(38511, 13)"
      ]
     },
     "execution_count": 93,
     "metadata": {},
     "output_type": "execute_result"
    }
   ],
   "source": [
    "df.shape"
   ]
  },
  {
   "cell_type": "code",
   "execution_count": 114,
   "metadata": {},
   "outputs": [],
   "source": [
    "df = df.merge(pop_df, left_on=['state','year'], right_on=['State', 'Year'], how='left').drop_duplicates().drop(['State','Year'], axis=1)"
   ]
  },
  {
   "cell_type": "code",
   "execution_count": 115,
   "metadata": {},
   "outputs": [
    {
     "data": {
      "text/plain": [
       "(38511, 14)"
      ]
     },
     "execution_count": 115,
     "metadata": {},
     "output_type": "execute_result"
    }
   ],
   "source": [
    "df.shape"
   ]
  },
  {
   "cell_type": "markdown",
   "metadata": {},
   "source": [
    "At this point, we've added the population column"
   ]
  },
  {
   "cell_type": "markdown",
   "metadata": {},
   "source": [
    "#### save df to pick / read df from pickle"
   ]
  },
  {
   "cell_type": "code",
   "execution_count": 116,
   "metadata": {},
   "outputs": [],
   "source": [
    "# df.to_pickle('../pickle_files/df_ref_w_population.pkl')\n",
    "# df = pd.read_pickle('../pickle_files/df_ref_w_population.pkl')"
   ]
  },
  {
   "cell_type": "code",
   "execution_count": null,
   "metadata": {},
   "outputs": [],
   "source": []
  }
 ],
 "metadata": {
  "kernelspec": {
   "display_name": "Python 2",
   "language": "python",
   "name": "python2"
  },
  "language_info": {
   "codemirror_mode": {
    "name": "ipython",
    "version": 2
   },
   "file_extension": ".py",
   "mimetype": "text/x-python",
   "name": "python",
   "nbconvert_exporter": "python",
   "pygments_lexer": "ipython2",
   "version": "2.7.14"
  }
 },
 "nbformat": 4,
 "nbformat_minor": 2
}
