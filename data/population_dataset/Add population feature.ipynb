{
 "cells": [
  {
   "cell_type": "code",
   "execution_count": 126,
   "metadata": {},
   "outputs": [],
   "source": [
    "import pandas as pd\n",
    "import numpy as np\n",
    "import time\n",
    "from datetime import datetime"
   ]
  },
  {
   "cell_type": "code",
   "execution_count": 127,
   "metadata": {},
   "outputs": [],
   "source": [
    "import sys\n",
    "stdout = sys.stdout\n",
    "reload(sys)\n",
    "sys.setdefaultencoding('utf-8')\n",
    "sys.stdout = stdout"
   ]
  },
  {
   "cell_type": "markdown",
   "metadata": {},
   "source": [
    "---"
   ]
  },
  {
   "cell_type": "markdown",
   "metadata": {},
   "source": [
    "#### Read reference data into dataframe"
   ]
  },
  {
   "cell_type": "code",
   "execution_count": 232,
   "metadata": {},
   "outputs": [],
   "source": [
    "df = pd.read_csv('../reference_w_loc.csv')"
   ]
  },
  {
   "cell_type": "code",
   "execution_count": 233,
   "metadata": {},
   "outputs": [
    {
     "data": {
      "text/html": [
       "<div>\n",
       "<table border=\"1\" class=\"dataframe\">\n",
       "  <thead>\n",
       "    <tr style=\"text-align: right;\">\n",
       "      <th></th>\n",
       "      <th>id</th>\n",
       "      <th>description</th>\n",
       "      <th>duration</th>\n",
       "      <th>location</th>\n",
       "      <th>reported_at</th>\n",
       "      <th>shape</th>\n",
       "      <th>sighted_at</th>\n",
       "      <th>geocoded_latitude</th>\n",
       "      <th>geocoded_longitude</th>\n",
       "      <th>city</th>\n",
       "      <th>state</th>\n",
       "      <th>country</th>\n",
       "    </tr>\n",
       "  </thead>\n",
       "  <tbody>\n",
       "    <tr>\n",
       "      <th>0</th>\n",
       "      <td>0</td>\n",
       "      <td>Man repts. witnessing &amp;quot;flash, followed by...</td>\n",
       "      <td>NaN</td>\n",
       "      <td>Iowa City, IA</td>\n",
       "      <td>19951009</td>\n",
       "      <td>unknown</td>\n",
       "      <td>19951009</td>\n",
       "      <td>41.661256</td>\n",
       "      <td>-91.529911</td>\n",
       "      <td>Iowa City</td>\n",
       "      <td>Iowa</td>\n",
       "      <td>us</td>\n",
       "    </tr>\n",
       "    <tr>\n",
       "      <th>1</th>\n",
       "      <td>1</td>\n",
       "      <td>Man  on Hwy 43 SW of Milwaukee sees large, bri...</td>\n",
       "      <td>2 min.</td>\n",
       "      <td>Milwaukee, WI</td>\n",
       "      <td>19951011</td>\n",
       "      <td>unknown</td>\n",
       "      <td>19951010</td>\n",
       "      <td>43.034993</td>\n",
       "      <td>-87.922497</td>\n",
       "      <td>Milwaukee</td>\n",
       "      <td>Wisconsin</td>\n",
       "      <td>us</td>\n",
       "    </tr>\n",
       "    <tr>\n",
       "      <th>2</th>\n",
       "      <td>2</td>\n",
       "      <td>Telephoned Report:CA woman visiting daughter w...</td>\n",
       "      <td>NaN</td>\n",
       "      <td>Shelton, WA</td>\n",
       "      <td>19950103</td>\n",
       "      <td>unknown</td>\n",
       "      <td>19950101</td>\n",
       "      <td>47.215094</td>\n",
       "      <td>-123.100707</td>\n",
       "      <td>Shelton</td>\n",
       "      <td>Washington</td>\n",
       "      <td>us</td>\n",
       "    </tr>\n",
       "  </tbody>\n",
       "</table>\n",
       "</div>"
      ],
      "text/plain": [
       "   id                                        description duration  \\\n",
       "0   0  Man repts. witnessing &quot;flash, followed by...      NaN   \n",
       "1   1  Man  on Hwy 43 SW of Milwaukee sees large, bri...   2 min.   \n",
       "2   2  Telephoned Report:CA woman visiting daughter w...      NaN   \n",
       "\n",
       "         location  reported_at    shape  sighted_at  geocoded_latitude  \\\n",
       "0   Iowa City, IA     19951009  unknown    19951009          41.661256   \n",
       "1   Milwaukee, WI     19951011  unknown    19951010          43.034993   \n",
       "2     Shelton, WA     19950103  unknown    19950101          47.215094   \n",
       "\n",
       "   geocoded_longitude       city       state country  \n",
       "0          -91.529911  Iowa City        Iowa      us  \n",
       "1          -87.922497  Milwaukee   Wisconsin      us  \n",
       "2         -123.100707    Shelton  Washington      us  "
      ]
     },
     "execution_count": 233,
     "metadata": {},
     "output_type": "execute_result"
    }
   ],
   "source": [
    "df.head(3)"
   ]
  },
  {
   "cell_type": "markdown",
   "metadata": {},
   "source": [
    "#### There are 138 rows with no sighted_at time information. We replace this date with their respective reported_at information"
   ]
  },
  {
   "cell_type": "code",
   "execution_count": 234,
   "metadata": {},
   "outputs": [
    {
     "data": {
      "text/plain": [
       "(138, 12)"
      ]
     },
     "execution_count": 234,
     "metadata": {},
     "output_type": "execute_result"
    }
   ],
   "source": [
    "df[df['sighted_at'] == 0].shape"
   ]
  },
  {
   "cell_type": "code",
   "execution_count": 235,
   "metadata": {},
   "outputs": [],
   "source": [
    "# replace dates without a sighted_at with their reported_at value\n",
    "for index,row in df[df['sighted_at'] == 0].iterrows():\n",
    "    df.ix[index, 'sighted_at'] = row['reported_at']"
   ]
  },
  {
   "cell_type": "code",
   "execution_count": 236,
   "metadata": {},
   "outputs": [
    {
     "data": {
      "text/plain": [
       "(0, 12)"
      ]
     },
     "execution_count": 236,
     "metadata": {},
     "output_type": "execute_result"
    }
   ],
   "source": [
    "# as expected there are no more missing sighted_at values\n",
    "df[df['sighted_at'] == 0].shape"
   ]
  },
  {
   "cell_type": "markdown",
   "metadata": {},
   "source": [
    "#### Extract year from sighted_at and add as column"
   ]
  },
  {
   "cell_type": "code",
   "execution_count": 237,
   "metadata": {},
   "outputs": [],
   "source": [
    "# add column 'year'\n",
    "df['year'] = 0"
   ]
  },
  {
   "cell_type": "code",
   "execution_count": 238,
   "metadata": {},
   "outputs": [],
   "source": [
    "def custom_round(x, base=10):\n",
    "    return int(base * round(float(x)/base))"
   ]
  },
  {
   "cell_type": "code",
   "execution_count": 239,
   "metadata": {},
   "outputs": [],
   "source": [
    "for index, row in df.iterrows():\n",
    "    row_date = str(row['sighted_at'])\n",
    "    df.ix[index, 'year'] = custom_round(datetime.strptime(row_date, '%Y%m%d').year)"
   ]
  },
  {
   "cell_type": "code",
   "execution_count": 240,
   "metadata": {},
   "outputs": [
    {
     "data": {
      "text/html": [
       "<div>\n",
       "<table border=\"1\" class=\"dataframe\">\n",
       "  <thead>\n",
       "    <tr style=\"text-align: right;\">\n",
       "      <th></th>\n",
       "      <th>id</th>\n",
       "      <th>description</th>\n",
       "      <th>duration</th>\n",
       "      <th>location</th>\n",
       "      <th>reported_at</th>\n",
       "      <th>shape</th>\n",
       "      <th>sighted_at</th>\n",
       "      <th>geocoded_latitude</th>\n",
       "      <th>geocoded_longitude</th>\n",
       "      <th>city</th>\n",
       "      <th>state</th>\n",
       "      <th>country</th>\n",
       "      <th>year</th>\n",
       "    </tr>\n",
       "  </thead>\n",
       "  <tbody>\n",
       "    <tr>\n",
       "      <th>11055</th>\n",
       "      <td>17105</td>\n",
       "      <td>Observed what appeared to be a dim satellite m...</td>\n",
       "      <td>15 Seconds</td>\n",
       "      <td>Portland, OR</td>\n",
       "      <td>20021018</td>\n",
       "      <td>light</td>\n",
       "      <td>20021016</td>\n",
       "      <td>45.520247</td>\n",
       "      <td>-122.674195</td>\n",
       "      <td>Portland</td>\n",
       "      <td>Oregon</td>\n",
       "      <td>us</td>\n",
       "      <td>2000</td>\n",
       "    </tr>\n",
       "    <tr>\n",
       "      <th>10543</th>\n",
       "      <td>16208</td>\n",
       "      <td>Low flying triangular formation?  of silent bl...</td>\n",
       "      <td>1 to 2 minutes</td>\n",
       "      <td>Hampton, VA</td>\n",
       "      <td>20020525</td>\n",
       "      <td>formation</td>\n",
       "      <td>19730615</td>\n",
       "      <td>37.030097</td>\n",
       "      <td>-76.345206</td>\n",
       "      <td>Hampton City</td>\n",
       "      <td>Virginia</td>\n",
       "      <td>us</td>\n",
       "      <td>1970</td>\n",
       "    </tr>\n",
       "    <tr>\n",
       "      <th>2670</th>\n",
       "      <td>3510</td>\n",
       "      <td>after almost causing a helicoptor to crash,a s...</td>\n",
       "      <td>45 min's</td>\n",
       "      <td>Topeka, KS</td>\n",
       "      <td>19990302</td>\n",
       "      <td>disk</td>\n",
       "      <td>19930522</td>\n",
       "      <td>39.049011</td>\n",
       "      <td>-95.677556</td>\n",
       "      <td>Topeka</td>\n",
       "      <td>Kansas</td>\n",
       "      <td>us</td>\n",
       "      <td>1990</td>\n",
       "    </tr>\n",
       "    <tr>\n",
       "      <th>36462</th>\n",
       "      <td>57970</td>\n",
       "      <td>7 dim lights triangular formation 30 sec easte...</td>\n",
       "      <td>30 sec</td>\n",
       "      <td>Southampton, NY</td>\n",
       "      <td>20100108</td>\n",
       "      <td>formation</td>\n",
       "      <td>20100107</td>\n",
       "      <td>40.884267</td>\n",
       "      <td>-72.389530</td>\n",
       "      <td>Southampton</td>\n",
       "      <td>New York</td>\n",
       "      <td>us</td>\n",
       "      <td>2010</td>\n",
       "    </tr>\n",
       "    <tr>\n",
       "      <th>23468</th>\n",
       "      <td>37698</td>\n",
       "      <td>triangle w/3 lights (red, green, and white) on...</td>\n",
       "      <td>10 seconds</td>\n",
       "      <td>Lapeer, MI</td>\n",
       "      <td>20060816</td>\n",
       "      <td>triangle</td>\n",
       "      <td>20060816</td>\n",
       "      <td>43.051416</td>\n",
       "      <td>-83.318834</td>\n",
       "      <td>Lapeer</td>\n",
       "      <td>Michigan</td>\n",
       "      <td>us</td>\n",
       "      <td>2010</td>\n",
       "    </tr>\n",
       "  </tbody>\n",
       "</table>\n",
       "</div>"
      ],
      "text/plain": [
       "          id                                        description  \\\n",
       "11055  17105  Observed what appeared to be a dim satellite m...   \n",
       "10543  16208  Low flying triangular formation?  of silent bl...   \n",
       "2670    3510  after almost causing a helicoptor to crash,a s...   \n",
       "36462  57970  7 dim lights triangular formation 30 sec easte...   \n",
       "23468  37698  triangle w/3 lights (red, green, and white) on...   \n",
       "\n",
       "             duration          location  reported_at       shape  sighted_at  \\\n",
       "11055      15 Seconds      Portland, OR     20021018       light    20021016   \n",
       "10543  1 to 2 minutes       Hampton, VA     20020525   formation    19730615   \n",
       "2670         45 min's        Topeka, KS     19990302        disk    19930522   \n",
       "36462          30 sec   Southampton, NY     20100108   formation    20100107   \n",
       "23468      10 seconds        Lapeer, MI     20060816    triangle    20060816   \n",
       "\n",
       "       geocoded_latitude  geocoded_longitude          city     state country  \\\n",
       "11055          45.520247         -122.674195      Portland    Oregon      us   \n",
       "10543          37.030097          -76.345206  Hampton City  Virginia      us   \n",
       "2670           39.049011          -95.677556        Topeka    Kansas      us   \n",
       "36462          40.884267          -72.389530   Southampton  New York      us   \n",
       "23468          43.051416          -83.318834        Lapeer  Michigan      us   \n",
       "\n",
       "       year  \n",
       "11055  2000  \n",
       "10543  1970  \n",
       "2670   1990  \n",
       "36462  2010  \n",
       "23468  2010  "
      ]
     },
     "execution_count": 240,
     "metadata": {},
     "output_type": "execute_result"
    }
   ],
   "source": [
    "df.sample(5)"
   ]
  },
  {
   "cell_type": "markdown",
   "metadata": {},
   "source": [
    "---"
   ]
  },
  {
   "cell_type": "markdown",
   "metadata": {},
   "source": [
    "#### Read in population csv"
   ]
  },
  {
   "cell_type": "code",
   "execution_count": 241,
   "metadata": {},
   "outputs": [],
   "source": [
    "pop_df = pd.read_csv('pop_final.csv')"
   ]
  },
  {
   "cell_type": "code",
   "execution_count": 242,
   "metadata": {},
   "outputs": [
    {
     "data": {
      "text/plain": [
       "State         object\n",
       "Year           int64\n",
       "Population    object\n",
       "dtype: object"
      ]
     },
     "execution_count": 242,
     "metadata": {},
     "output_type": "execute_result"
    }
   ],
   "source": [
    "pop_df.dtypes"
   ]
  },
  {
   "cell_type": "code",
   "execution_count": 243,
   "metadata": {},
   "outputs": [],
   "source": [
    "pop_df = pop_df.rename(index=str, columns={\"State\": \"state\", \"Year\": \"year\", \"Population\": \"population\"})\n",
    "pop_df = pop_df.drop_duplicates()"
   ]
  },
  {
   "cell_type": "code",
   "execution_count": 244,
   "metadata": {},
   "outputs": [
    {
     "data": {
      "text/html": [
       "<div>\n",
       "<table border=\"1\" class=\"dataframe\">\n",
       "  <thead>\n",
       "    <tr style=\"text-align: right;\">\n",
       "      <th></th>\n",
       "      <th>state</th>\n",
       "      <th>year</th>\n",
       "      <th>population</th>\n",
       "    </tr>\n",
       "  </thead>\n",
       "  <tbody>\n",
       "    <tr>\n",
       "      <th>1364</th>\n",
       "      <td>New Jersey</td>\n",
       "      <td>2010</td>\n",
       "      <td>8791894</td>\n",
       "    </tr>\n",
       "    <tr>\n",
       "      <th>1812</th>\n",
       "      <td>South Carolina</td>\n",
       "      <td>1990</td>\n",
       "      <td>3486703</td>\n",
       "    </tr>\n",
       "    <tr>\n",
       "      <th>914</th>\n",
       "      <td>Maryland</td>\n",
       "      <td>2010</td>\n",
       "      <td>5773552</td>\n",
       "    </tr>\n",
       "    <tr>\n",
       "      <th>856</th>\n",
       "      <td>Maine</td>\n",
       "      <td>1880</td>\n",
       "      <td>648936</td>\n",
       "    </tr>\n",
       "  </tbody>\n",
       "</table>\n",
       "</div>"
      ],
      "text/plain": [
       "               state  year population\n",
       "1364      New Jersey  2010    8791894\n",
       "1812  South Carolina  1990    3486703\n",
       "914         Maryland  2010    5773552\n",
       "856            Maine  1880     648936"
      ]
     },
     "execution_count": 244,
     "metadata": {},
     "output_type": "execute_result"
    }
   ],
   "source": [
    "pop_df.sample(4)"
   ]
  },
  {
   "cell_type": "code",
   "execution_count": 245,
   "metadata": {},
   "outputs": [],
   "source": [
    "df_merged = df.merge(pop_df, on=['state','year'], how='left')"
   ]
  },
  {
   "cell_type": "code",
   "execution_count": 247,
   "metadata": {},
   "outputs": [
    {
     "data": {
      "text/plain": [
       "(72, 14)"
      ]
     },
     "execution_count": 247,
     "metadata": {},
     "output_type": "execute_result"
    }
   ],
   "source": [
    "df_merged[df_merged['population'].isnull()].shape"
   ]
  },
  {
   "cell_type": "code",
   "execution_count": 251,
   "metadata": {},
   "outputs": [],
   "source": [
    "df_merged = df_merged[df_merged['population'].isnull() == False]"
   ]
  },
  {
   "cell_type": "code",
   "execution_count": 255,
   "metadata": {},
   "outputs": [
    {
     "data": {
      "text/plain": [
       "((38511, 13), (38439, 14))"
      ]
     },
     "execution_count": 255,
     "metadata": {},
     "output_type": "execute_result"
    }
   ],
   "source": [
    "df.shape, df_merged.shape"
   ]
  },
  {
   "cell_type": "markdown",
   "metadata": {},
   "source": [
    "\"puerto rico\" is not in the population dataset so those rows were NaN and removed"
   ]
  },
  {
   "cell_type": "markdown",
   "metadata": {},
   "source": [
    "At this point, we've added the population column"
   ]
  },
  {
   "cell_type": "markdown",
   "metadata": {},
   "source": [
    "#### save df to pick / read df from pickle"
   ]
  },
  {
   "cell_type": "code",
   "execution_count": 258,
   "metadata": {},
   "outputs": [],
   "source": [
    "# df_merged.to_pickle('../pickle_files/df_ref_w_population.pkl')\n",
    "# df_merged = pd.read_pickle('../pickle_files/df_ref_w_population.pkl')"
   ]
  },
  {
   "cell_type": "markdown",
   "metadata": {},
   "source": [
    "----"
   ]
  },
  {
   "cell_type": "code",
   "execution_count": 257,
   "metadata": {},
   "outputs": [],
   "source": [
    "df_merged.to_csv('reference_w_population.csv', index=False)"
   ]
  },
  {
   "cell_type": "code",
   "execution_count": null,
   "metadata": {},
   "outputs": [],
   "source": []
  }
 ],
 "metadata": {
  "kernelspec": {
   "display_name": "Python 2",
   "language": "python",
   "name": "python2"
  },
  "language_info": {
   "codemirror_mode": {
    "name": "ipython",
    "version": 2
   },
   "file_extension": ".py",
   "mimetype": "text/x-python",
   "name": "python",
   "nbconvert_exporter": "python",
   "pygments_lexer": "ipython2",
   "version": "2.7.14"
  }
 },
 "nbformat": 4,
 "nbformat_minor": 2
}
