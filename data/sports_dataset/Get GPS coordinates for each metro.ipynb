{
 "cells": [
  {
   "cell_type": "code",
   "execution_count": 39,
   "metadata": {},
   "outputs": [],
   "source": [
    "import pandas as pd\n",
    "from geopy.geocoders import Nominatim\n",
    "geolocator = Nominatim()"
   ]
  },
  {
   "cell_type": "code",
   "execution_count": 40,
   "metadata": {},
   "outputs": [],
   "source": [
    "import sys\n",
    "stdout = sys.stdout\n",
    "reload(sys)\n",
    "sys.setdefaultencoding('utf-8')\n",
    "sys.stdout = stdout"
   ]
  },
  {
   "cell_type": "code",
   "execution_count": 41,
   "metadata": {},
   "outputs": [],
   "source": [
    "df = pd.read_csv('major_sports_franchises.csv')"
   ]
  },
  {
   "cell_type": "code",
   "execution_count": 42,
   "metadata": {},
   "outputs": [
    {
     "data": {
      "text/html": [
       "<div>\n",
       "<table border=\"1\" class=\"dataframe\">\n",
       "  <thead>\n",
       "    <tr style=\"text-align: right;\">\n",
       "      <th></th>\n",
       "      <th>urban_area</th>\n",
       "      <th>country</th>\n",
       "      <th>pop_rank</th>\n",
       "      <th>population</th>\n",
       "      <th>major_4_cnt</th>\n",
       "      <th>major_6_cnt</th>\n",
       "      <th>NFL</th>\n",
       "      <th>MLB</th>\n",
       "      <th>NBA</th>\n",
       "      <th>NHL</th>\n",
       "      <th>MLS</th>\n",
       "      <th>CFL</th>\n",
       "    </tr>\n",
       "  </thead>\n",
       "  <tbody>\n",
       "    <tr>\n",
       "      <th>0</th>\n",
       "      <td>New York City</td>\n",
       "      <td>United States</td>\n",
       "      <td>1</td>\n",
       "      <td>20,685,000</td>\n",
       "      <td>9</td>\n",
       "      <td>11</td>\n",
       "      <td>Giants Jets[note 1]</td>\n",
       "      <td>Yankees Mets[note 2]</td>\n",
       "      <td>Knicks Nets</td>\n",
       "      <td>Rangers Islanders Devils[note 3]</td>\n",
       "      <td>Red Bulls New York City FC</td>\n",
       "      <td>�</td>\n",
       "    </tr>\n",
       "  </tbody>\n",
       "</table>\n",
       "</div>"
      ],
      "text/plain": [
       "      urban_area        country pop_rank  population  major_4_cnt  \\\n",
       "0  New York City  United States        1  20,685,000            9   \n",
       "\n",
       "   major_6_cnt                  NFL                   MLB          NBA  \\\n",
       "0           11  Giants Jets[note 1]  Yankees Mets[note 2]  Knicks Nets   \n",
       "\n",
       "                                NHL                         MLS CFL  \n",
       "0  Rangers Islanders Devils[note 3]  Red Bulls New York City FC   �  "
      ]
     },
     "execution_count": 42,
     "metadata": {},
     "output_type": "execute_result"
    }
   ],
   "source": [
    "df.head(1)"
   ]
  },
  {
   "cell_type": "code",
   "execution_count": 43,
   "metadata": {},
   "outputs": [
    {
     "data": {
      "text/plain": [
       "Location((40.7306458, -73.9866136, 0.0))"
      ]
     },
     "execution_count": 43,
     "metadata": {},
     "output_type": "execute_result"
    }
   ],
   "source": [
    "geolocator.geocode(\"New York City\")"
   ]
  },
  {
   "cell_type": "markdown",
   "metadata": {},
   "source": [
    "----"
   ]
  },
  {
   "cell_type": "markdown",
   "metadata": {},
   "source": [
    "### For each urban area, get the latitude longitude"
   ]
  },
  {
   "cell_type": "code",
   "execution_count": 46,
   "metadata": {},
   "outputs": [],
   "source": [
    "# add a latitude 'ua_lat' column\n",
    "df['ua_lat'] = 0.0\n",
    "\n",
    "# add a longitude 'ua_lon' column\n",
    "df['ua_lon'] = 0.0"
   ]
  },
  {
   "cell_type": "code",
   "execution_count": 47,
   "metadata": {},
   "outputs": [
    {
     "name": "stdout",
     "output_type": "stream",
     "text": [
      "New York City\n",
      "Los Angeles\n",
      "San Francisco Bay Area\n",
      "Chicago\n",
      "Dallas Fort Worth\n",
      "Philadelphia\n",
      "Washington, D.C.\n",
      "Boston\n",
      "Minneapolis Saint Paul\n",
      "Denver\n",
      "Miami\n",
      "Phoenix\n",
      "Detroit\n",
      "Toronto\n",
      "Houston\n",
      "Atlanta\n",
      "Tampa Bay\n",
      "Cleveland\n",
      "Pittsburgh\n",
      "Seattle\n",
      "Kansas City\n",
      "Baltimore\n",
      "St. Louis\n",
      "Cincinnati\n",
      "Indianapolis\n",
      "Milwaukee\n",
      "Charlotte\n",
      "Nashville\n",
      "Buffalo\n",
      "New Orleans\n",
      "Montreal\n",
      "Vancouver\n",
      "Orlando\n",
      "Portland\n",
      "Columbus\n",
      "Calgary\n",
      "Salt Lake City\n",
      "Edmonton\n",
      "Ottawa\n",
      "Winnipeg\n",
      "San Diego\n",
      "Las Vegas\n",
      "San Antonio\n",
      "Sacramento\n",
      "Jacksonville\n",
      "Memphis\n",
      "Raleigh\n",
      "Oklahoma City\n",
      "Hamilton, Ontario\n",
      "Green Bay\n",
      "Regina\n"
     ]
    }
   ],
   "source": [
    "for index,row in df.iterrows():\n",
    "    ua = row['urban_area']\n",
    "    print ua\n",
    "    geocoded_location = geolocator.geocode(ua)\n",
    "    df.ix[index, 'ua_lat'] = geocoded_location.latitude\n",
    "    df.ix[index, 'ua_lon'] = geocoded_location.longitude"
   ]
  },
  {
   "cell_type": "code",
   "execution_count": 48,
   "metadata": {},
   "outputs": [
    {
     "data": {
      "text/html": [
       "<div>\n",
       "<table border=\"1\" class=\"dataframe\">\n",
       "  <thead>\n",
       "    <tr style=\"text-align: right;\">\n",
       "      <th></th>\n",
       "      <th>urban_area</th>\n",
       "      <th>country</th>\n",
       "      <th>pop_rank</th>\n",
       "      <th>population</th>\n",
       "      <th>major_4_cnt</th>\n",
       "      <th>major_6_cnt</th>\n",
       "      <th>NFL</th>\n",
       "      <th>MLB</th>\n",
       "      <th>NBA</th>\n",
       "      <th>NHL</th>\n",
       "      <th>MLS</th>\n",
       "      <th>CFL</th>\n",
       "      <th>ua_lat</th>\n",
       "      <th>ua_lon</th>\n",
       "    </tr>\n",
       "  </thead>\n",
       "  <tbody>\n",
       "    <tr>\n",
       "      <th>0</th>\n",
       "      <td>New York City</td>\n",
       "      <td>United States</td>\n",
       "      <td>1</td>\n",
       "      <td>20,685,000</td>\n",
       "      <td>9</td>\n",
       "      <td>11</td>\n",
       "      <td>Giants Jets[note 1]</td>\n",
       "      <td>Yankees Mets[note 2]</td>\n",
       "      <td>Knicks Nets</td>\n",
       "      <td>Rangers Islanders Devils[note 3]</td>\n",
       "      <td>Red Bulls New York City FC</td>\n",
       "      <td>�</td>\n",
       "      <td>40.730646</td>\n",
       "      <td>-73.986614</td>\n",
       "    </tr>\n",
       "    <tr>\n",
       "      <th>1</th>\n",
       "      <td>Los Angeles</td>\n",
       "      <td>United States</td>\n",
       "      <td>2</td>\n",
       "      <td>15,135,000</td>\n",
       "      <td>8</td>\n",
       "      <td>10</td>\n",
       "      <td>Rams Chargers[note 4]</td>\n",
       "      <td>Dodgers Angels</td>\n",
       "      <td>Lakers Clippers</td>\n",
       "      <td>Kings Ducks</td>\n",
       "      <td>Galaxy Los Angeles FC[note 5]</td>\n",
       "      <td>�</td>\n",
       "      <td>34.054935</td>\n",
       "      <td>-118.244476</td>\n",
       "    </tr>\n",
       "    <tr>\n",
       "      <th>2</th>\n",
       "      <td>San Francisco Bay Area</td>\n",
       "      <td>United States</td>\n",
       "      <td>7</td>\n",
       "      <td>5,955,000</td>\n",
       "      <td>6</td>\n",
       "      <td>7</td>\n",
       "      <td>49ers Raiders[note 6]</td>\n",
       "      <td>Giants Athletics</td>\n",
       "      <td>Warriors</td>\n",
       "      <td>Sharks[note 7]</td>\n",
       "      <td>Earthquakes</td>\n",
       "      <td>�</td>\n",
       "      <td>37.788497</td>\n",
       "      <td>-122.355847</td>\n",
       "    </tr>\n",
       "    <tr>\n",
       "      <th>3</th>\n",
       "      <td>Chicago</td>\n",
       "      <td>United States</td>\n",
       "      <td>3</td>\n",
       "      <td>9,185,000</td>\n",
       "      <td>5</td>\n",
       "      <td>6</td>\n",
       "      <td>Bears[note 8]</td>\n",
       "      <td>Cubs White Sox</td>\n",
       "      <td>Bulls[note 9]</td>\n",
       "      <td>Blackhawks</td>\n",
       "      <td>Fire</td>\n",
       "      <td>�</td>\n",
       "      <td>41.875555</td>\n",
       "      <td>-87.624421</td>\n",
       "    </tr>\n",
       "    <tr>\n",
       "      <th>4</th>\n",
       "      <td>Dallas Fort Worth</td>\n",
       "      <td>United States</td>\n",
       "      <td>5</td>\n",
       "      <td>6,280,000</td>\n",
       "      <td>4</td>\n",
       "      <td>5</td>\n",
       "      <td>Cowboys</td>\n",
       "      <td>Rangers</td>\n",
       "      <td>Mavericks</td>\n",
       "      <td>Stars</td>\n",
       "      <td>FC Dallas</td>\n",
       "      <td>�</td>\n",
       "      <td>32.737904</td>\n",
       "      <td>-97.239428</td>\n",
       "    </tr>\n",
       "  </tbody>\n",
       "</table>\n",
       "</div>"
      ],
      "text/plain": [
       "               urban_area        country pop_rank  population  major_4_cnt  \\\n",
       "0           New York City  United States        1  20,685,000            9   \n",
       "1             Los Angeles  United States        2  15,135,000            8   \n",
       "2  San Francisco Bay Area  United States        7   5,955,000            6   \n",
       "3                 Chicago  United States        3   9,185,000            5   \n",
       "4       Dallas Fort Worth  United States        5   6,280,000            4   \n",
       "\n",
       "   major_6_cnt                    NFL                   MLB              NBA  \\\n",
       "0           11    Giants Jets[note 1]  Yankees Mets[note 2]      Knicks Nets   \n",
       "1           10  Rams Chargers[note 4]        Dodgers Angels  Lakers Clippers   \n",
       "2            7  49ers Raiders[note 6]      Giants Athletics         Warriors   \n",
       "3            6          Bears[note 8]        Cubs White Sox    Bulls[note 9]   \n",
       "4            5                Cowboys               Rangers        Mavericks   \n",
       "\n",
       "                                NHL                            MLS CFL  \\\n",
       "0  Rangers Islanders Devils[note 3]     Red Bulls New York City FC   �   \n",
       "1                       Kings Ducks  Galaxy Los Angeles FC[note 5]   �   \n",
       "2                    Sharks[note 7]                    Earthquakes   �   \n",
       "3                        Blackhawks                           Fire   �   \n",
       "4                             Stars                      FC Dallas   �   \n",
       "\n",
       "      ua_lat      ua_lon  \n",
       "0  40.730646  -73.986614  \n",
       "1  34.054935 -118.244476  \n",
       "2  37.788497 -122.355847  \n",
       "3  41.875555  -87.624421  \n",
       "4  32.737904  -97.239428  "
      ]
     },
     "execution_count": 48,
     "metadata": {},
     "output_type": "execute_result"
    }
   ],
   "source": [
    "df.head(5)"
   ]
  },
  {
   "cell_type": "code",
   "execution_count": 50,
   "metadata": {},
   "outputs": [],
   "source": [
    "df.to_csv('msf_w_coord.csv', index=False)"
   ]
  },
  {
   "cell_type": "code",
   "execution_count": null,
   "metadata": {},
   "outputs": [],
   "source": []
  }
 ],
 "metadata": {
  "kernelspec": {
   "display_name": "Python 2",
   "language": "python",
   "name": "python2"
  },
  "language_info": {
   "codemirror_mode": {
    "name": "ipython",
    "version": 2
   },
   "file_extension": ".py",
   "mimetype": "text/x-python",
   "name": "python",
   "nbconvert_exporter": "python",
   "pygments_lexer": "ipython2",
   "version": "2.7.14"
  }
 },
 "nbformat": 4,
 "nbformat_minor": 2
}
