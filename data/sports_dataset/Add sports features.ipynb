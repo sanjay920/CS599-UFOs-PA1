{
 "cells": [
  {
   "cell_type": "code",
   "execution_count": 30,
   "metadata": {},
   "outputs": [],
   "source": [
    "import pandas as pd\n",
    "import numpy as np\n",
    "import time"
   ]
  },
  {
   "cell_type": "code",
   "execution_count": 6,
   "metadata": {},
   "outputs": [],
   "source": [
    "import sys\n",
    "stdout = sys.stdout\n",
    "reload(sys)\n",
    "sys.setdefaultencoding('utf-8')\n",
    "sys.stdout = stdout"
   ]
  },
  {
   "cell_type": "markdown",
   "metadata": {},
   "source": [
    "----"
   ]
  },
  {
   "cell_type": "markdown",
   "metadata": {},
   "source": [
    "#### Read reference data into dataframe"
   ]
  },
  {
   "cell_type": "code",
   "execution_count": 9,
   "metadata": {},
   "outputs": [],
   "source": [
    "df = pd.read_csv('../reference_w_loc.csv')"
   ]
  },
  {
   "cell_type": "code",
   "execution_count": 13,
   "metadata": {},
   "outputs": [],
   "source": [
    "# read the sports dataset with GPS coordinates\n",
    "sports_df = pd.read_csv('msf_w_coord.csv')"
   ]
  },
  {
   "cell_type": "code",
   "execution_count": 14,
   "metadata": {},
   "outputs": [
    {
     "data": {
      "text/html": [
       "<div>\n",
       "<table border=\"1\" class=\"dataframe\">\n",
       "  <thead>\n",
       "    <tr style=\"text-align: right;\">\n",
       "      <th></th>\n",
       "      <th>urban_area</th>\n",
       "      <th>country</th>\n",
       "      <th>pop_rank</th>\n",
       "      <th>population</th>\n",
       "      <th>major_4_cnt</th>\n",
       "      <th>major_6_cnt</th>\n",
       "      <th>NFL</th>\n",
       "      <th>MLB</th>\n",
       "      <th>NBA</th>\n",
       "      <th>NHL</th>\n",
       "      <th>MLS</th>\n",
       "      <th>CFL</th>\n",
       "      <th>ua_lat</th>\n",
       "      <th>ua_lon</th>\n",
       "    </tr>\n",
       "  </thead>\n",
       "  <tbody>\n",
       "    <tr>\n",
       "      <th>0</th>\n",
       "      <td>New York City</td>\n",
       "      <td>United States</td>\n",
       "      <td>1</td>\n",
       "      <td>20,685,000</td>\n",
       "      <td>9</td>\n",
       "      <td>11</td>\n",
       "      <td>Giants Jets[note 1]</td>\n",
       "      <td>Yankees Mets[note 2]</td>\n",
       "      <td>Knicks Nets</td>\n",
       "      <td>Rangers Islanders Devils[note 3]</td>\n",
       "      <td>Red Bulls New York City FC</td>\n",
       "      <td>�</td>\n",
       "      <td>40.730646</td>\n",
       "      <td>-73.986614</td>\n",
       "    </tr>\n",
       "    <tr>\n",
       "      <th>1</th>\n",
       "      <td>Los Angeles</td>\n",
       "      <td>United States</td>\n",
       "      <td>2</td>\n",
       "      <td>15,135,000</td>\n",
       "      <td>8</td>\n",
       "      <td>10</td>\n",
       "      <td>Rams Chargers[note 4]</td>\n",
       "      <td>Dodgers Angels</td>\n",
       "      <td>Lakers Clippers</td>\n",
       "      <td>Kings Ducks</td>\n",
       "      <td>Galaxy Los Angeles FC[note 5]</td>\n",
       "      <td>�</td>\n",
       "      <td>34.054935</td>\n",
       "      <td>-118.244476</td>\n",
       "    </tr>\n",
       "    <tr>\n",
       "      <th>2</th>\n",
       "      <td>San Francisco Bay Area</td>\n",
       "      <td>United States</td>\n",
       "      <td>7</td>\n",
       "      <td>5,955,000</td>\n",
       "      <td>6</td>\n",
       "      <td>7</td>\n",
       "      <td>49ers Raiders[note 6]</td>\n",
       "      <td>Giants Athletics</td>\n",
       "      <td>Warriors</td>\n",
       "      <td>Sharks[note 7]</td>\n",
       "      <td>Earthquakes</td>\n",
       "      <td>�</td>\n",
       "      <td>37.788497</td>\n",
       "      <td>-122.355847</td>\n",
       "    </tr>\n",
       "  </tbody>\n",
       "</table>\n",
       "</div>"
      ],
      "text/plain": [
       "               urban_area        country pop_rank  population  major_4_cnt  \\\n",
       "0           New York City  United States        1  20,685,000            9   \n",
       "1             Los Angeles  United States        2  15,135,000            8   \n",
       "2  San Francisco Bay Area  United States        7   5,955,000            6   \n",
       "\n",
       "   major_6_cnt                    NFL                   MLB              NBA  \\\n",
       "0           11    Giants Jets[note 1]  Yankees Mets[note 2]      Knicks Nets   \n",
       "1           10  Rams Chargers[note 4]        Dodgers Angels  Lakers Clippers   \n",
       "2            7  49ers Raiders[note 6]      Giants Athletics         Warriors   \n",
       "\n",
       "                                NHL                            MLS CFL  \\\n",
       "0  Rangers Islanders Devils[note 3]     Red Bulls New York City FC   �   \n",
       "1                       Kings Ducks  Galaxy Los Angeles FC[note 5]   �   \n",
       "2                    Sharks[note 7]                    Earthquakes   �   \n",
       "\n",
       "      ua_lat      ua_lon  \n",
       "0  40.730646  -73.986614  \n",
       "1  34.054935 -118.244476  \n",
       "2  37.788497 -122.355847  "
      ]
     },
     "execution_count": 14,
     "metadata": {},
     "output_type": "execute_result"
    }
   ],
   "source": [
    "sports_df.head(3)"
   ]
  },
  {
   "cell_type": "markdown",
   "metadata": {},
   "source": [
    "---"
   ]
  },
  {
   "cell_type": "markdown",
   "metadata": {},
   "source": [
    "#### haversine distance"
   ]
  },
  {
   "cell_type": "code",
   "execution_count": 16,
   "metadata": {},
   "outputs": [],
   "source": [
    "def distance_np(c1, c2):\n",
    "    \"\"\"\n",
    "    Calculate the great circle distance between two points\n",
    "    on the earth (specified in decimal degrees)\n",
    "\n",
    "    All args must be of equal length.    \n",
    "\n",
    "    \"\"\"\n",
    "    lon1, lat1 = c1 \n",
    "    lon2, lat2 = c2\n",
    "    \n",
    "    lon2_,lat2_ = lon2,lat2\n",
    "    \n",
    "    lon1, lat1, lon2, lat2 = map(np.radians, [lon1, lat1, lon2, lat2])\n",
    "\n",
    "    dlon = lon2 - lon1\n",
    "    dlat = lat2 - lat1\n",
    "\n",
    "    a = np.sin(dlat/2.0)**2 + np.cos(lat1) * np.cos(lat2) * np.sin(dlon/2.0)**2\n",
    "\n",
    "    c = 2 * np.arcsin(np.sqrt(a))\n",
    "    km = 6367 * c\n",
    "    miles = km/1.609344\n",
    "    return miles"
   ]
  },
  {
   "cell_type": "markdown",
   "metadata": {},
   "source": [
    "----"
   ]
  },
  {
   "cell_type": "code",
   "execution_count": 35,
   "metadata": {},
   "outputs": [
    {
     "name": "stdout",
     "output_type": "stream",
     "text": [
      "415.463745117\n"
     ]
    }
   ],
   "source": [
    "t0 = time.time()\n",
    "\n",
    "sports_df['distance_from_target'] = float(\"inf\")\n",
    "\n",
    "df['closest_metro_name'] = \"NA\"\n",
    "df['closest_metro_distance'] = float(\"inf\")\n",
    "df['closest_metro_pop'] = float(\"inf\")\n",
    "df['closest_metro_m4'] = float(\"inf\")\n",
    "df['closest_metro_m6'] = float(\"inf\")\n",
    "\n",
    "for index,row in df.iterrows():\n",
    "    longitude = row['geocoded_longitude']\n",
    "    latitude = row['geocoded_latitude']\n",
    "    \n",
    "    sports_df_with_distance_to_current_row = sports_df.assign(distance_from_target = distance_np((latitude,longitude),(sports_df['ua_lat'],sports_df['ua_lon'])))\n",
    "    smallest_distance_row = sports_df_with_distance_to_current_row.nsmallest(1, 'distance_from_target').head(1).squeeze()\n",
    "    closest_metro_name = smallest_distance_row['urban_area']\n",
    "    closest_metro_distance = smallest_distance_row['distance_from_target']\n",
    "    closest_metro_pop = smallest_distance_row['population']\n",
    "    closest_metro_m4 = smallest_distance_row['major_4_cnt']\n",
    "    closest_metro_m6 = smallest_distance_row['major_6_cnt']\n",
    "    \n",
    "    df.ix[index, 'closest_metro_name'] = closest_metro_name\n",
    "    df.ix[index, 'closest_metro_distance'] = closest_metro_distance\n",
    "    df.ix[index, 'closest_metro_pop'] = closest_metro_pop\n",
    "    df.ix[index, 'closest_metro_m4'] = closest_metro_m4\n",
    "    df.ix[index, 'closest_metro_m6'] = closest_metro_m6\n",
    "    \n",
    "t1 = time.time()\n",
    "print t1-t0"
   ]
  },
  {
   "cell_type": "code",
   "execution_count": 36,
   "metadata": {},
   "outputs": [
    {
     "data": {
      "text/html": [
       "<div>\n",
       "<table border=\"1\" class=\"dataframe\">\n",
       "  <thead>\n",
       "    <tr style=\"text-align: right;\">\n",
       "      <th></th>\n",
       "      <th>id</th>\n",
       "      <th>description</th>\n",
       "      <th>duration</th>\n",
       "      <th>location</th>\n",
       "      <th>reported_at</th>\n",
       "      <th>shape</th>\n",
       "      <th>sighted_at</th>\n",
       "      <th>geocoded_latitude</th>\n",
       "      <th>geocoded_longitude</th>\n",
       "      <th>city</th>\n",
       "      <th>state</th>\n",
       "      <th>country</th>\n",
       "      <th>closest_metro_name</th>\n",
       "      <th>closest_metro_distance</th>\n",
       "      <th>closest_metro_pop</th>\n",
       "      <th>closest_metro_m4</th>\n",
       "      <th>closest_metro_m6</th>\n",
       "    </tr>\n",
       "  </thead>\n",
       "  <tbody>\n",
       "    <tr>\n",
       "      <th>0</th>\n",
       "      <td>0</td>\n",
       "      <td>Man repts. witnessing &amp;quot;flash, followed by...</td>\n",
       "      <td>NaN</td>\n",
       "      <td>Iowa City, IA</td>\n",
       "      <td>19951009</td>\n",
       "      <td>unknown</td>\n",
       "      <td>19951009</td>\n",
       "      <td>41.661256</td>\n",
       "      <td>-91.529911</td>\n",
       "      <td>Iowa City</td>\n",
       "      <td>Iowa</td>\n",
       "      <td>us</td>\n",
       "      <td>St. Louis</td>\n",
       "      <td>88.981643</td>\n",
       "      <td>2,195,000</td>\n",
       "      <td>2.0</td>\n",
       "      <td>2.0</td>\n",
       "    </tr>\n",
       "    <tr>\n",
       "      <th>1</th>\n",
       "      <td>1</td>\n",
       "      <td>Man  on Hwy 43 SW of Milwaukee sees large, bri...</td>\n",
       "      <td>2 min.</td>\n",
       "      <td>Milwaukee, WI</td>\n",
       "      <td>19951011</td>\n",
       "      <td>unknown</td>\n",
       "      <td>19951010</td>\n",
       "      <td>43.034993</td>\n",
       "      <td>-87.922497</td>\n",
       "      <td>Milwaukee</td>\n",
       "      <td>Wisconsin</td>\n",
       "      <td>us</td>\n",
       "      <td>Milwaukee</td>\n",
       "      <td>0.000000</td>\n",
       "      <td>1,415,000</td>\n",
       "      <td>2.0</td>\n",
       "      <td>2.0</td>\n",
       "    </tr>\n",
       "    <tr>\n",
       "      <th>2</th>\n",
       "      <td>2</td>\n",
       "      <td>Telephoned Report:CA woman visiting daughter w...</td>\n",
       "      <td>NaN</td>\n",
       "      <td>Shelton, WA</td>\n",
       "      <td>19950103</td>\n",
       "      <td>unknown</td>\n",
       "      <td>19950101</td>\n",
       "      <td>47.215094</td>\n",
       "      <td>-123.100707</td>\n",
       "      <td>Shelton</td>\n",
       "      <td>Washington</td>\n",
       "      <td>us</td>\n",
       "      <td>Seattle</td>\n",
       "      <td>55.154815</td>\n",
       "      <td>3,475,000</td>\n",
       "      <td>2.0</td>\n",
       "      <td>3.0</td>\n",
       "    </tr>\n",
       "    <tr>\n",
       "      <th>3</th>\n",
       "      <td>3</td>\n",
       "      <td>Man repts. son&amp;apos;s bizarre sighting of smal...</td>\n",
       "      <td>2 min.</td>\n",
       "      <td>Columbia, MO</td>\n",
       "      <td>19950510</td>\n",
       "      <td>unknown</td>\n",
       "      <td>19950510</td>\n",
       "      <td>38.951883</td>\n",
       "      <td>-92.333737</td>\n",
       "      <td>Columbia</td>\n",
       "      <td>Missouri</td>\n",
       "      <td>us</td>\n",
       "      <td>Minneapolis Saint Paul</td>\n",
       "      <td>56.543882</td>\n",
       "      <td>2,795,000</td>\n",
       "      <td>4.0</td>\n",
       "      <td>5.0</td>\n",
       "    </tr>\n",
       "    <tr>\n",
       "      <th>4</th>\n",
       "      <td>4</td>\n",
       "      <td>Anonymous caller repts. sighting 4 ufo&amp;apos;s ...</td>\n",
       "      <td>NaN</td>\n",
       "      <td>Seattle, WA</td>\n",
       "      <td>19950614</td>\n",
       "      <td>unknown</td>\n",
       "      <td>19950611</td>\n",
       "      <td>47.603832</td>\n",
       "      <td>-122.330062</td>\n",
       "      <td>Seattle</td>\n",
       "      <td>Washington</td>\n",
       "      <td>us</td>\n",
       "      <td>Seattle</td>\n",
       "      <td>0.000000</td>\n",
       "      <td>3,475,000</td>\n",
       "      <td>2.0</td>\n",
       "      <td>3.0</td>\n",
       "    </tr>\n",
       "  </tbody>\n",
       "</table>\n",
       "</div>"
      ],
      "text/plain": [
       "   id                                        description duration  \\\n",
       "0   0  Man repts. witnessing &quot;flash, followed by...      NaN   \n",
       "1   1  Man  on Hwy 43 SW of Milwaukee sees large, bri...   2 min.   \n",
       "2   2  Telephoned Report:CA woman visiting daughter w...      NaN   \n",
       "3   3  Man repts. son&apos;s bizarre sighting of smal...   2 min.   \n",
       "4   4  Anonymous caller repts. sighting 4 ufo&apos;s ...      NaN   \n",
       "\n",
       "         location  reported_at    shape  sighted_at  geocoded_latitude  \\\n",
       "0   Iowa City, IA     19951009  unknown    19951009          41.661256   \n",
       "1   Milwaukee, WI     19951011  unknown    19951010          43.034993   \n",
       "2     Shelton, WA     19950103  unknown    19950101          47.215094   \n",
       "3    Columbia, MO     19950510  unknown    19950510          38.951883   \n",
       "4     Seattle, WA     19950614  unknown    19950611          47.603832   \n",
       "\n",
       "   geocoded_longitude       city       state country      closest_metro_name  \\\n",
       "0          -91.529911  Iowa City        Iowa      us               St. Louis   \n",
       "1          -87.922497  Milwaukee   Wisconsin      us               Milwaukee   \n",
       "2         -123.100707    Shelton  Washington      us                 Seattle   \n",
       "3          -92.333737   Columbia    Missouri      us  Minneapolis Saint Paul   \n",
       "4         -122.330062    Seattle  Washington      us                 Seattle   \n",
       "\n",
       "   closest_metro_distance closest_metro_pop  closest_metro_m4  \\\n",
       "0               88.981643         2,195,000               2.0   \n",
       "1                0.000000         1,415,000               2.0   \n",
       "2               55.154815         3,475,000               2.0   \n",
       "3               56.543882         2,795,000               4.0   \n",
       "4                0.000000         3,475,000               2.0   \n",
       "\n",
       "   closest_metro_m6  \n",
       "0               2.0  \n",
       "1               2.0  \n",
       "2               3.0  \n",
       "3               5.0  \n",
       "4               3.0  "
      ]
     },
     "execution_count": 36,
     "metadata": {},
     "output_type": "execute_result"
    }
   ],
   "source": [
    "df.head()"
   ]
  },
  {
   "cell_type": "markdown",
   "metadata": {},
   "source": [
    "#### save df to pick / read df from pickle"
   ]
  },
  {
   "cell_type": "code",
   "execution_count": 37,
   "metadata": {},
   "outputs": [],
   "source": [
    "# df.to_pickle('../pickle_files/df_ref_w_loc_and_sports.pkl')\n",
    "# df = pd.read_pickle('../pickle_files/df_ref_w_loc_and_sports.pkl')"
   ]
  },
  {
   "cell_type": "markdown",
   "metadata": {},
   "source": [
    "---"
   ]
  },
  {
   "cell_type": "code",
   "execution_count": 38,
   "metadata": {},
   "outputs": [],
   "source": [
    "df.to_csv('reference_w_sports.csv', index=False)"
   ]
  },
  {
   "cell_type": "code",
   "execution_count": null,
   "metadata": {},
   "outputs": [],
   "source": []
  }
 ],
 "metadata": {
  "kernelspec": {
   "display_name": "Python 2",
   "language": "python",
   "name": "python2"
  },
  "language_info": {
   "codemirror_mode": {
    "name": "ipython",
    "version": 2
   },
   "file_extension": ".py",
   "mimetype": "text/x-python",
   "name": "python",
   "nbconvert_exporter": "python",
   "pygments_lexer": "ipython2",
   "version": "2.7.14"
  }
 },
 "nbformat": 4,
 "nbformat_minor": 2
}
