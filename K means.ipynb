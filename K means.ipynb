{
 "cells": [
  {
   "cell_type": "code",
   "execution_count": 3,
   "metadata": {},
   "outputs": [],
   "source": [
    "from sklearn.cluster import KMeans\n",
    "import pandas as pd"
   ]
  },
  {
   "cell_type": "code",
   "execution_count": 4,
   "metadata": {},
   "outputs": [],
   "source": [
    "df = pd.read_csv('ufo_dataset_final.csv')"
   ]
  },
  {
   "cell_type": "code",
   "execution_count": 5,
   "metadata": {},
   "outputs": [],
   "source": [
    "ftrs = ['closest_LARGE_airport_distance', 'closest_MEDIUM_airport_distance', 'closest_SMALL_airport_distance', 'closest_metro_distance', 'closest_metro_pop', 'closest_metro_m4', 'closest_metro_m6', 'population', 'meteor_sighting']"
   ]
  },
  {
   "cell_type": "code",
   "execution_count": 11,
   "metadata": {},
   "outputs": [],
   "source": [
    "X = df[ftrs].as_matrix()"
   ]
  },
  {
   "cell_type": "code",
   "execution_count": 12,
   "metadata": {},
   "outputs": [
    {
     "data": {
      "text/plain": [
       "38439"
      ]
     },
     "execution_count": 12,
     "metadata": {},
     "output_type": "execute_result"
    }
   ],
   "source": [
    "len(X)"
   ]
  },
  {
   "cell_type": "code",
   "execution_count": 23,
   "metadata": {},
   "outputs": [],
   "source": [
    "kmeans = KMeans(n_clusters=7, random_state=0, n_init=100).fit(X)"
   ]
  },
  {
   "cell_type": "code",
   "execution_count": 24,
   "metadata": {},
   "outputs": [
    {
     "data": {
      "text/plain": [
       "array([3, 3, 3, ..., 4, 3, 3], dtype=int32)"
      ]
     },
     "execution_count": 24,
     "metadata": {},
     "output_type": "execute_result"
    }
   ],
   "source": [
    "kmeans.labels_"
   ]
  },
  {
   "cell_type": "code",
   "execution_count": 25,
   "metadata": {},
   "outputs": [
    {
     "data": {
      "text/plain": [
       "array([[  1.54660483e+01,   9.16829295e+00,   2.30508977e+00,\n",
       "          2.74116137e+01,   2.82466446e+06,   2.55118938e+00,\n",
       "          2.86857669e+00,   1.09561654e+07,   5.34892890e-02],\n",
       "       [  2.34265589e+01,   8.99224459e+00,   5.96799267e+00,\n",
       "          3.39124127e+01,   1.51657007e+07,   8.00553165e+00,\n",
       "          1.00055317e+01,   3.54033270e+07,   9.40995698e-01],\n",
       "       [  2.74839220e+01,   1.11869988e+01,   4.77532392e+00,\n",
       "          3.85188391e+01,   3.48385745e+06,   2.36660698e+00,\n",
       "          2.66965085e+00,   3.53102357e+07,   9.19874664e-01],\n",
       "       [  2.83927677e+01,   1.24027802e+01,   3.93800326e+00,\n",
       "          8.17740682e+01,   2.76393777e+06,   2.46820137e+00,\n",
       "          3.08590944e+00,   4.31907934e+06,   1.33012902e-01],\n",
       "       [  1.45867645e+01,   7.90180527e+00,   1.04323487e+01,\n",
       "          2.14551035e+01,   2.00711949e+07,   8.88940449e+00,\n",
       "          1.08894045e+01,   1.91631255e+07,   1.80974478e-01],\n",
       "       [  1.52814546e+01,   1.05842016e+01,   2.82298791e+00,\n",
       "          3.44851339e+01,   3.79929932e+06,   2.67631103e+00,\n",
       "          3.20534459e+00,   2.01687033e+07,   3.73719108e-01],\n",
       "       [  1.76559463e+01,   8.12058427e+00,   6.66904056e+00,\n",
       "          3.28130311e+01,   2.00729550e+07,   8.88972163e+00,\n",
       "          1.08897216e+01,   6.82895935e+06,   2.03426124e-02]])"
      ]
     },
     "execution_count": 25,
     "metadata": {},
     "output_type": "execute_result"
    }
   ],
   "source": [
    "kmeans.cluster_centers_"
   ]
  },
  {
   "cell_type": "code",
   "execution_count": null,
   "metadata": {},
   "outputs": [],
   "source": []
  }
 ],
 "metadata": {
  "kernelspec": {
   "display_name": "Python 2",
   "language": "python",
   "name": "python2"
  },
  "language_info": {
   "codemirror_mode": {
    "name": "ipython",
    "version": 2
   },
   "file_extension": ".py",
   "mimetype": "text/x-python",
   "name": "python",
   "nbconvert_exporter": "python",
   "pygments_lexer": "ipython2",
   "version": "2.7.14"
  }
 },
 "nbformat": 4,
 "nbformat_minor": 2
}
