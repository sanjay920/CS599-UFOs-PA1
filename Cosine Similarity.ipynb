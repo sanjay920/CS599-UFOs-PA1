{
 "cells": [
  {
   "cell_type": "code",
   "execution_count": 1,
   "metadata": {},
   "outputs": [],
   "source": [
    "import pandas as pd\n",
    "from sklearn.metrics.pairwise import cosine_similarity\n",
    "import numpy as np\n",
    "import matplotlib.pyplot as plt"
   ]
  },
  {
   "cell_type": "code",
   "execution_count": 2,
   "metadata": {},
   "outputs": [],
   "source": [
    "import sys\n",
    "stdout = sys.stdout\n",
    "reload(sys)\n",
    "sys.setdefaultencoding('utf-8')\n",
    "sys.stdout = stdout"
   ]
  },
  {
   "cell_type": "markdown",
   "metadata": {},
   "source": [
    "-----"
   ]
  },
  {
   "cell_type": "code",
   "execution_count": 3,
   "metadata": {},
   "outputs": [],
   "source": [
    "df = pd.read_csv('merge_data/normalized_dataset_final.csv')"
   ]
  },
  {
   "cell_type": "code",
   "execution_count": 4,
   "metadata": {},
   "outputs": [
    {
     "data": {
      "text/html": [
       "<div>\n",
       "<table border=\"1\" class=\"dataframe\">\n",
       "  <thead>\n",
       "    <tr style=\"text-align: right;\">\n",
       "      <th></th>\n",
       "      <th>closest_LARGE_airport_distance</th>\n",
       "      <th>closest_MEDIUM_airport_distance</th>\n",
       "      <th>closest_SMALL_airport_distance</th>\n",
       "      <th>closest_metro_distance</th>\n",
       "      <th>closest_metro_pop</th>\n",
       "      <th>closest_metro_m4</th>\n",
       "      <th>closest_metro_m6</th>\n",
       "      <th>population</th>\n",
       "      <th>meteor_sighting</th>\n",
       "      <th>id</th>\n",
       "    </tr>\n",
       "  </thead>\n",
       "  <tbody>\n",
       "    <tr>\n",
       "      <th>31016</th>\n",
       "      <td>0.002426</td>\n",
       "      <td>0.001254</td>\n",
       "      <td>0.001665</td>\n",
       "      <td>0.004245</td>\n",
       "      <td>1.000000</td>\n",
       "      <td>1.000000</td>\n",
       "      <td>1.0</td>\n",
       "      <td>0.234455</td>\n",
       "      <td>0.0</td>\n",
       "      <td>49590</td>\n",
       "    </tr>\n",
       "    <tr>\n",
       "      <th>15579</th>\n",
       "      <td>0.012057</td>\n",
       "      <td>0.007172</td>\n",
       "      <td>0.004733</td>\n",
       "      <td>0.029299</td>\n",
       "      <td>0.117374</td>\n",
       "      <td>0.444444</td>\n",
       "      <td>0.4</td>\n",
       "      <td>0.022246</td>\n",
       "      <td>0.0</td>\n",
       "      <td>24911</td>\n",
       "    </tr>\n",
       "    <tr>\n",
       "      <th>24431</th>\n",
       "      <td>0.002897</td>\n",
       "      <td>0.003469</td>\n",
       "      <td>0.001027</td>\n",
       "      <td>0.003525</td>\n",
       "      <td>0.283553</td>\n",
       "      <td>0.333333</td>\n",
       "      <td>0.3</td>\n",
       "      <td>0.674320</td>\n",
       "      <td>0.0</td>\n",
       "      <td>39410</td>\n",
       "    </tr>\n",
       "    <tr>\n",
       "      <th>37897</th>\n",
       "      <td>0.001314</td>\n",
       "      <td>0.002113</td>\n",
       "      <td>0.000176</td>\n",
       "      <td>0.000263</td>\n",
       "      <td>0.000488</td>\n",
       "      <td>0.111111</td>\n",
       "      <td>0.0</td>\n",
       "      <td>0.150943</td>\n",
       "      <td>0.0</td>\n",
       "      <td>60246</td>\n",
       "    </tr>\n",
       "    <tr>\n",
       "      <th>13218</th>\n",
       "      <td>0.004450</td>\n",
       "      <td>0.002402</td>\n",
       "      <td>0.000327</td>\n",
       "      <td>0.006152</td>\n",
       "      <td>0.263543</td>\n",
       "      <td>0.444444</td>\n",
       "      <td>0.4</td>\n",
       "      <td>0.224301</td>\n",
       "      <td>0.0</td>\n",
       "      <td>20956</td>\n",
       "    </tr>\n",
       "  </tbody>\n",
       "</table>\n",
       "</div>"
      ],
      "text/plain": [
       "       closest_LARGE_airport_distance  closest_MEDIUM_airport_distance  \\\n",
       "31016                        0.002426                         0.001254   \n",
       "15579                        0.012057                         0.007172   \n",
       "24431                        0.002897                         0.003469   \n",
       "37897                        0.001314                         0.002113   \n",
       "13218                        0.004450                         0.002402   \n",
       "\n",
       "       closest_SMALL_airport_distance  closest_metro_distance  \\\n",
       "31016                        0.001665                0.004245   \n",
       "15579                        0.004733                0.029299   \n",
       "24431                        0.001027                0.003525   \n",
       "37897                        0.000176                0.000263   \n",
       "13218                        0.000327                0.006152   \n",
       "\n",
       "       closest_metro_pop  closest_metro_m4  closest_metro_m6  population  \\\n",
       "31016           1.000000          1.000000               1.0    0.234455   \n",
       "15579           0.117374          0.444444               0.4    0.022246   \n",
       "24431           0.283553          0.333333               0.3    0.674320   \n",
       "37897           0.000488          0.111111               0.0    0.150943   \n",
       "13218           0.263543          0.444444               0.4    0.224301   \n",
       "\n",
       "       meteor_sighting     id  \n",
       "31016              0.0  49590  \n",
       "15579              0.0  24911  \n",
       "24431              0.0  39410  \n",
       "37897              0.0  60246  \n",
       "13218              0.0  20956  "
      ]
     },
     "execution_count": 4,
     "metadata": {},
     "output_type": "execute_result"
    }
   ],
   "source": [
    "df.sample(5)"
   ]
  },
  {
   "cell_type": "code",
   "execution_count": 5,
   "metadata": {},
   "outputs": [
    {
     "data": {
      "text/plain": [
       "['closest_LARGE_airport_distance',\n",
       " 'closest_MEDIUM_airport_distance',\n",
       " 'closest_SMALL_airport_distance',\n",
       " 'closest_metro_distance',\n",
       " 'closest_metro_pop',\n",
       " 'closest_metro_m4',\n",
       " 'closest_metro_m6',\n",
       " 'population',\n",
       " 'meteor_sighting',\n",
       " 'id']"
      ]
     },
     "execution_count": 5,
     "metadata": {},
     "output_type": "execute_result"
    }
   ],
   "source": [
    "list(df.columns.values)"
   ]
  },
  {
   "cell_type": "code",
   "execution_count": 6,
   "metadata": {},
   "outputs": [],
   "source": [
    "ftrs = ['closest_LARGE_airport_distance', 'closest_MEDIUM_airport_distance', 'closest_SMALL_airport_distance', 'closest_metro_distance', 'closest_metro_pop', 'closest_metro_m4', 'closest_metro_m6', 'population', 'meteor_sighting']"
   ]
  },
  {
   "cell_type": "code",
   "execution_count": 7,
   "metadata": {},
   "outputs": [
    {
     "data": {
      "text/html": [
       "<div>\n",
       "<table border=\"1\" class=\"dataframe\">\n",
       "  <thead>\n",
       "    <tr style=\"text-align: right;\">\n",
       "      <th></th>\n",
       "      <th>closest_LARGE_airport_distance</th>\n",
       "      <th>closest_MEDIUM_airport_distance</th>\n",
       "      <th>closest_SMALL_airport_distance</th>\n",
       "      <th>closest_metro_distance</th>\n",
       "      <th>closest_metro_pop</th>\n",
       "      <th>closest_metro_m4</th>\n",
       "      <th>closest_metro_m6</th>\n",
       "      <th>population</th>\n",
       "      <th>meteor_sighting</th>\n",
       "    </tr>\n",
       "  </thead>\n",
       "  <tbody>\n",
       "    <tr>\n",
       "      <th>23278</th>\n",
       "      <td>0.002556</td>\n",
       "      <td>0.002970</td>\n",
       "      <td>0.000918</td>\n",
       "      <td>0.001870</td>\n",
       "      <td>0.126891</td>\n",
       "      <td>0.444444</td>\n",
       "      <td>0.4</td>\n",
       "      <td>0.079917</td>\n",
       "      <td>0.0</td>\n",
       "    </tr>\n",
       "    <tr>\n",
       "      <th>19751</th>\n",
       "      <td>0.000222</td>\n",
       "      <td>0.004134</td>\n",
       "      <td>0.000553</td>\n",
       "      <td>0.000560</td>\n",
       "      <td>0.070766</td>\n",
       "      <td>0.222222</td>\n",
       "      <td>0.1</td>\n",
       "      <td>0.172375</td>\n",
       "      <td>0.0</td>\n",
       "    </tr>\n",
       "    <tr>\n",
       "      <th>37412</th>\n",
       "      <td>0.004009</td>\n",
       "      <td>0.000526</td>\n",
       "      <td>0.001917</td>\n",
       "      <td>0.010970</td>\n",
       "      <td>0.045632</td>\n",
       "      <td>0.111111</td>\n",
       "      <td>0.0</td>\n",
       "      <td>0.254456</td>\n",
       "      <td>0.0</td>\n",
       "    </tr>\n",
       "    <tr>\n",
       "      <th>37532</th>\n",
       "      <td>0.000826</td>\n",
       "      <td>0.008646</td>\n",
       "      <td>0.000797</td>\n",
       "      <td>0.004918</td>\n",
       "      <td>0.281113</td>\n",
       "      <td>0.666667</td>\n",
       "      <td>0.6</td>\n",
       "      <td>1.000000</td>\n",
       "      <td>1.0</td>\n",
       "    </tr>\n",
       "    <tr>\n",
       "      <th>2928</th>\n",
       "      <td>0.003099</td>\n",
       "      <td>0.002513</td>\n",
       "      <td>0.000888</td>\n",
       "      <td>0.002546</td>\n",
       "      <td>0.160078</td>\n",
       "      <td>0.222222</td>\n",
       "      <td>0.2</td>\n",
       "      <td>0.156514</td>\n",
       "      <td>0.0</td>\n",
       "    </tr>\n",
       "  </tbody>\n",
       "</table>\n",
       "</div>"
      ],
      "text/plain": [
       "       closest_LARGE_airport_distance  closest_MEDIUM_airport_distance  \\\n",
       "23278                        0.002556                         0.002970   \n",
       "19751                        0.000222                         0.004134   \n",
       "37412                        0.004009                         0.000526   \n",
       "37532                        0.000826                         0.008646   \n",
       "2928                         0.003099                         0.002513   \n",
       "\n",
       "       closest_SMALL_airport_distance  closest_metro_distance  \\\n",
       "23278                        0.000918                0.001870   \n",
       "19751                        0.000553                0.000560   \n",
       "37412                        0.001917                0.010970   \n",
       "37532                        0.000797                0.004918   \n",
       "2928                         0.000888                0.002546   \n",
       "\n",
       "       closest_metro_pop  closest_metro_m4  closest_metro_m6  population  \\\n",
       "23278           0.126891          0.444444               0.4    0.079917   \n",
       "19751           0.070766          0.222222               0.1    0.172375   \n",
       "37412           0.045632          0.111111               0.0    0.254456   \n",
       "37532           0.281113          0.666667               0.6    1.000000   \n",
       "2928            0.160078          0.222222               0.2    0.156514   \n",
       "\n",
       "       meteor_sighting  \n",
       "23278              0.0  \n",
       "19751              0.0  \n",
       "37412              0.0  \n",
       "37532              1.0  \n",
       "2928               0.0  "
      ]
     },
     "execution_count": 7,
     "metadata": {},
     "output_type": "execute_result"
    }
   ],
   "source": [
    "df[ftrs].sample(5)"
   ]
  },
  {
   "cell_type": "code",
   "execution_count": 8,
   "metadata": {},
   "outputs": [
    {
     "data": {
      "text/plain": [
       "(38439, 21)"
      ]
     },
     "execution_count": 8,
     "metadata": {},
     "output_type": "execute_result"
    }
   ],
   "source": [
    "df.shape"
   ]
  },
  {
   "cell_type": "code",
   "execution_count": 9,
   "metadata": {},
   "outputs": [],
   "source": [
    "cs = cosine_similarity(df[ftrs])"
   ]
  },
  {
   "cell_type": "code",
   "execution_count": 10,
   "metadata": {},
   "outputs": [
    {
     "data": {
      "text/plain": [
       "(38439, 38439)"
      ]
     },
     "execution_count": 10,
     "metadata": {},
     "output_type": "execute_result"
    }
   ],
   "source": [
    "cs.shape"
   ]
  },
  {
   "cell_type": "code",
   "execution_count": null,
   "metadata": {},
   "outputs": [],
   "source": [
    "np.save('cs_np', cs)"
   ]
  },
  {
   "cell_type": "code",
   "execution_count": 12,
   "metadata": {},
   "outputs": [],
   "source": [
    "cs_df = pd.DataFrame(cs)"
   ]
  },
  {
   "cell_type": "code",
   "execution_count": null,
   "metadata": {},
   "outputs": [],
   "source": [
    "# cs_df.to_pickle('data/pickle_files/cs_df.pkl')\n",
    "cs_df = pd.read_pickle('data/pickle_files/cs_df.pkl')"
   ]
  },
  {
   "cell_type": "code",
   "execution_count": 17,
   "metadata": {},
   "outputs": [
    {
     "data": {
      "text/html": [
       "<div>\n",
       "<table border=\"1\" class=\"dataframe\">\n",
       "  <thead>\n",
       "    <tr style=\"text-align: right;\">\n",
       "      <th></th>\n",
       "      <th>0</th>\n",
       "      <th>1</th>\n",
       "      <th>2</th>\n",
       "      <th>3</th>\n",
       "      <th>4</th>\n",
       "      <th>5</th>\n",
       "      <th>6</th>\n",
       "      <th>7</th>\n",
       "      <th>8</th>\n",
       "      <th>9</th>\n",
       "      <th>...</th>\n",
       "      <th>38429</th>\n",
       "      <th>38430</th>\n",
       "      <th>38431</th>\n",
       "      <th>38432</th>\n",
       "      <th>38433</th>\n",
       "      <th>38434</th>\n",
       "      <th>38435</th>\n",
       "      <th>38436</th>\n",
       "      <th>38437</th>\n",
       "      <th>38438</th>\n",
       "    </tr>\n",
       "  </thead>\n",
       "  <tbody>\n",
       "    <tr>\n",
       "      <th>0</th>\n",
       "      <td>1.000000</td>\n",
       "      <td>0.926565</td>\n",
       "      <td>0.993863</td>\n",
       "      <td>0.983793</td>\n",
       "      <td>0.993863</td>\n",
       "      <td>0.982301</td>\n",
       "      <td>0.979641</td>\n",
       "      <td>0.976747</td>\n",
       "      <td>0.993863</td>\n",
       "      <td>0.999725</td>\n",
       "      <td>...</td>\n",
       "      <td>0.986838</td>\n",
       "      <td>0.958556</td>\n",
       "      <td>0.809450</td>\n",
       "      <td>0.928317</td>\n",
       "      <td>0.878694</td>\n",
       "      <td>0.966989</td>\n",
       "      <td>0.985384</td>\n",
       "      <td>0.984822</td>\n",
       "      <td>0.986185</td>\n",
       "      <td>0.960721</td>\n",
       "    </tr>\n",
       "    <tr>\n",
       "      <th>1</th>\n",
       "      <td>0.926565</td>\n",
       "      <td>1.000000</td>\n",
       "      <td>0.962485</td>\n",
       "      <td>0.978992</td>\n",
       "      <td>0.962485</td>\n",
       "      <td>0.839711</td>\n",
       "      <td>0.832188</td>\n",
       "      <td>0.985661</td>\n",
       "      <td>0.962485</td>\n",
       "      <td>0.935137</td>\n",
       "      <td>...</td>\n",
       "      <td>0.975195</td>\n",
       "      <td>0.995327</td>\n",
       "      <td>0.970870</td>\n",
       "      <td>0.999989</td>\n",
       "      <td>0.993729</td>\n",
       "      <td>0.991824</td>\n",
       "      <td>0.977095</td>\n",
       "      <td>0.847217</td>\n",
       "      <td>0.976071</td>\n",
       "      <td>0.994554</td>\n",
       "    </tr>\n",
       "    <tr>\n",
       "      <th>2</th>\n",
       "      <td>0.993863</td>\n",
       "      <td>0.962485</td>\n",
       "      <td>1.000000</td>\n",
       "      <td>0.997590</td>\n",
       "      <td>1.000000</td>\n",
       "      <td>0.955554</td>\n",
       "      <td>0.951422</td>\n",
       "      <td>0.994468</td>\n",
       "      <td>1.000000</td>\n",
       "      <td>0.996186</td>\n",
       "      <td>...</td>\n",
       "      <td>0.998670</td>\n",
       "      <td>0.984188</td>\n",
       "      <td>0.869435</td>\n",
       "      <td>0.963746</td>\n",
       "      <td>0.926108</td>\n",
       "      <td>0.989241</td>\n",
       "      <td>0.998180</td>\n",
       "      <td>0.959579</td>\n",
       "      <td>0.998456</td>\n",
       "      <td>0.985523</td>\n",
       "    </tr>\n",
       "    <tr>\n",
       "      <th>3</th>\n",
       "      <td>0.983793</td>\n",
       "      <td>0.978992</td>\n",
       "      <td>0.997590</td>\n",
       "      <td>1.000000</td>\n",
       "      <td>0.997590</td>\n",
       "      <td>0.932795</td>\n",
       "      <td>0.927767</td>\n",
       "      <td>0.999360</td>\n",
       "      <td>0.997590</td>\n",
       "      <td>0.987730</td>\n",
       "      <td>...</td>\n",
       "      <td>0.999841</td>\n",
       "      <td>0.994106</td>\n",
       "      <td>0.901619</td>\n",
       "      <td>0.979936</td>\n",
       "      <td>0.950052</td>\n",
       "      <td>0.997008</td>\n",
       "      <td>0.999959</td>\n",
       "      <td>0.937739</td>\n",
       "      <td>0.999904</td>\n",
       "      <td>0.994911</td>\n",
       "    </tr>\n",
       "    <tr>\n",
       "      <th>4</th>\n",
       "      <td>0.993863</td>\n",
       "      <td>0.962485</td>\n",
       "      <td>1.000000</td>\n",
       "      <td>0.997590</td>\n",
       "      <td>1.000000</td>\n",
       "      <td>0.955554</td>\n",
       "      <td>0.951422</td>\n",
       "      <td>0.994468</td>\n",
       "      <td>1.000000</td>\n",
       "      <td>0.996186</td>\n",
       "      <td>...</td>\n",
       "      <td>0.998670</td>\n",
       "      <td>0.984188</td>\n",
       "      <td>0.869435</td>\n",
       "      <td>0.963746</td>\n",
       "      <td>0.926108</td>\n",
       "      <td>0.989241</td>\n",
       "      <td>0.998180</td>\n",
       "      <td>0.959579</td>\n",
       "      <td>0.998456</td>\n",
       "      <td>0.985523</td>\n",
       "    </tr>\n",
       "  </tbody>\n",
       "</table>\n",
       "<p>5 rows × 38439 columns</p>\n",
       "</div>"
      ],
      "text/plain": [
       "      0         1         2         3         4         5         6      \\\n",
       "0  1.000000  0.926565  0.993863  0.983793  0.993863  0.982301  0.979641   \n",
       "1  0.926565  1.000000  0.962485  0.978992  0.962485  0.839711  0.832188   \n",
       "2  0.993863  0.962485  1.000000  0.997590  1.000000  0.955554  0.951422   \n",
       "3  0.983793  0.978992  0.997590  1.000000  0.997590  0.932795  0.927767   \n",
       "4  0.993863  0.962485  1.000000  0.997590  1.000000  0.955554  0.951422   \n",
       "\n",
       "      7         8         9        ...        38429     38430     38431  \\\n",
       "0  0.976747  0.993863  0.999725    ...     0.986838  0.958556  0.809450   \n",
       "1  0.985661  0.962485  0.935137    ...     0.975195  0.995327  0.970870   \n",
       "2  0.994468  1.000000  0.996186    ...     0.998670  0.984188  0.869435   \n",
       "3  0.999360  0.997590  0.987730    ...     0.999841  0.994106  0.901619   \n",
       "4  0.994468  1.000000  0.996186    ...     0.998670  0.984188  0.869435   \n",
       "\n",
       "      38432     38433     38434     38435     38436     38437     38438  \n",
       "0  0.928317  0.878694  0.966989  0.985384  0.984822  0.986185  0.960721  \n",
       "1  0.999989  0.993729  0.991824  0.977095  0.847217  0.976071  0.994554  \n",
       "2  0.963746  0.926108  0.989241  0.998180  0.959579  0.998456  0.985523  \n",
       "3  0.979936  0.950052  0.997008  0.999959  0.937739  0.999904  0.994911  \n",
       "4  0.963746  0.926108  0.989241  0.998180  0.959579  0.998456  0.985523  \n",
       "\n",
       "[5 rows x 38439 columns]"
      ]
     },
     "execution_count": 17,
     "metadata": {},
     "output_type": "execute_result"
    }
   ],
   "source": [
    "cs_df.head()"
   ]
  },
  {
   "cell_type": "code",
   "execution_count": 19,
   "metadata": {},
   "outputs": [
    {
     "data": {
      "text/plain": [
       "RangeIndex(start=0, stop=38439, step=1)"
      ]
     },
     "execution_count": 19,
     "metadata": {},
     "output_type": "execute_result"
    }
   ],
   "source": [
    "cs_df.columns"
   ]
  },
  {
   "cell_type": "code",
   "execution_count": 24,
   "metadata": {},
   "outputs": [
    {
     "data": {
      "text/plain": [
       "38439"
      ]
     },
     "execution_count": 24,
     "metadata": {},
     "output_type": "execute_result"
    }
   ],
   "source": [
    "len([str(i) for i in df['id'].tolist()])"
   ]
  },
  {
   "cell_type": "code",
   "execution_count": 25,
   "metadata": {},
   "outputs": [],
   "source": [
    "cs_df['id'] = df['id']"
   ]
  },
  {
   "cell_type": "code",
   "execution_count": 26,
   "metadata": {},
   "outputs": [
    {
     "data": {
      "text/html": [
       "<div>\n",
       "<table border=\"1\" class=\"dataframe\">\n",
       "  <thead>\n",
       "    <tr style=\"text-align: right;\">\n",
       "      <th></th>\n",
       "      <th>0</th>\n",
       "      <th>1</th>\n",
       "      <th>2</th>\n",
       "      <th>3</th>\n",
       "      <th>4</th>\n",
       "      <th>5</th>\n",
       "      <th>6</th>\n",
       "      <th>7</th>\n",
       "      <th>8</th>\n",
       "      <th>9</th>\n",
       "      <th>...</th>\n",
       "      <th>38430</th>\n",
       "      <th>38431</th>\n",
       "      <th>38432</th>\n",
       "      <th>38433</th>\n",
       "      <th>38434</th>\n",
       "      <th>38435</th>\n",
       "      <th>38436</th>\n",
       "      <th>38437</th>\n",
       "      <th>38438</th>\n",
       "      <th>id</th>\n",
       "    </tr>\n",
       "  </thead>\n",
       "  <tbody>\n",
       "    <tr>\n",
       "      <th>0</th>\n",
       "      <td>1.000000</td>\n",
       "      <td>0.926565</td>\n",
       "      <td>0.993863</td>\n",
       "      <td>0.983793</td>\n",
       "      <td>0.993863</td>\n",
       "      <td>0.982301</td>\n",
       "      <td>0.979641</td>\n",
       "      <td>0.976747</td>\n",
       "      <td>0.993863</td>\n",
       "      <td>0.999725</td>\n",
       "      <td>...</td>\n",
       "      <td>0.958556</td>\n",
       "      <td>0.809450</td>\n",
       "      <td>0.928317</td>\n",
       "      <td>0.878694</td>\n",
       "      <td>0.966989</td>\n",
       "      <td>0.985384</td>\n",
       "      <td>0.984822</td>\n",
       "      <td>0.986185</td>\n",
       "      <td>0.960721</td>\n",
       "      <td>0</td>\n",
       "    </tr>\n",
       "    <tr>\n",
       "      <th>1</th>\n",
       "      <td>0.926565</td>\n",
       "      <td>1.000000</td>\n",
       "      <td>0.962485</td>\n",
       "      <td>0.978992</td>\n",
       "      <td>0.962485</td>\n",
       "      <td>0.839711</td>\n",
       "      <td>0.832188</td>\n",
       "      <td>0.985661</td>\n",
       "      <td>0.962485</td>\n",
       "      <td>0.935137</td>\n",
       "      <td>...</td>\n",
       "      <td>0.995327</td>\n",
       "      <td>0.970870</td>\n",
       "      <td>0.999989</td>\n",
       "      <td>0.993729</td>\n",
       "      <td>0.991824</td>\n",
       "      <td>0.977095</td>\n",
       "      <td>0.847217</td>\n",
       "      <td>0.976071</td>\n",
       "      <td>0.994554</td>\n",
       "      <td>1</td>\n",
       "    </tr>\n",
       "    <tr>\n",
       "      <th>2</th>\n",
       "      <td>0.993863</td>\n",
       "      <td>0.962485</td>\n",
       "      <td>1.000000</td>\n",
       "      <td>0.997590</td>\n",
       "      <td>1.000000</td>\n",
       "      <td>0.955554</td>\n",
       "      <td>0.951422</td>\n",
       "      <td>0.994468</td>\n",
       "      <td>1.000000</td>\n",
       "      <td>0.996186</td>\n",
       "      <td>...</td>\n",
       "      <td>0.984188</td>\n",
       "      <td>0.869435</td>\n",
       "      <td>0.963746</td>\n",
       "      <td>0.926108</td>\n",
       "      <td>0.989241</td>\n",
       "      <td>0.998180</td>\n",
       "      <td>0.959579</td>\n",
       "      <td>0.998456</td>\n",
       "      <td>0.985523</td>\n",
       "      <td>2</td>\n",
       "    </tr>\n",
       "    <tr>\n",
       "      <th>3</th>\n",
       "      <td>0.983793</td>\n",
       "      <td>0.978992</td>\n",
       "      <td>0.997590</td>\n",
       "      <td>1.000000</td>\n",
       "      <td>0.997590</td>\n",
       "      <td>0.932795</td>\n",
       "      <td>0.927767</td>\n",
       "      <td>0.999360</td>\n",
       "      <td>0.997590</td>\n",
       "      <td>0.987730</td>\n",
       "      <td>...</td>\n",
       "      <td>0.994106</td>\n",
       "      <td>0.901619</td>\n",
       "      <td>0.979936</td>\n",
       "      <td>0.950052</td>\n",
       "      <td>0.997008</td>\n",
       "      <td>0.999959</td>\n",
       "      <td>0.937739</td>\n",
       "      <td>0.999904</td>\n",
       "      <td>0.994911</td>\n",
       "      <td>3</td>\n",
       "    </tr>\n",
       "    <tr>\n",
       "      <th>4</th>\n",
       "      <td>0.993863</td>\n",
       "      <td>0.962485</td>\n",
       "      <td>1.000000</td>\n",
       "      <td>0.997590</td>\n",
       "      <td>1.000000</td>\n",
       "      <td>0.955554</td>\n",
       "      <td>0.951422</td>\n",
       "      <td>0.994468</td>\n",
       "      <td>1.000000</td>\n",
       "      <td>0.996186</td>\n",
       "      <td>...</td>\n",
       "      <td>0.984188</td>\n",
       "      <td>0.869435</td>\n",
       "      <td>0.963746</td>\n",
       "      <td>0.926108</td>\n",
       "      <td>0.989241</td>\n",
       "      <td>0.998180</td>\n",
       "      <td>0.959579</td>\n",
       "      <td>0.998456</td>\n",
       "      <td>0.985523</td>\n",
       "      <td>4</td>\n",
       "    </tr>\n",
       "  </tbody>\n",
       "</table>\n",
       "<p>5 rows × 38440 columns</p>\n",
       "</div>"
      ],
      "text/plain": [
       "          0         1         2         3         4         5         6  \\\n",
       "0  1.000000  0.926565  0.993863  0.983793  0.993863  0.982301  0.979641   \n",
       "1  0.926565  1.000000  0.962485  0.978992  0.962485  0.839711  0.832188   \n",
       "2  0.993863  0.962485  1.000000  0.997590  1.000000  0.955554  0.951422   \n",
       "3  0.983793  0.978992  0.997590  1.000000  0.997590  0.932795  0.927767   \n",
       "4  0.993863  0.962485  1.000000  0.997590  1.000000  0.955554  0.951422   \n",
       "\n",
       "          7         8         9 ...     38430     38431     38432     38433  \\\n",
       "0  0.976747  0.993863  0.999725 ...  0.958556  0.809450  0.928317  0.878694   \n",
       "1  0.985661  0.962485  0.935137 ...  0.995327  0.970870  0.999989  0.993729   \n",
       "2  0.994468  1.000000  0.996186 ...  0.984188  0.869435  0.963746  0.926108   \n",
       "3  0.999360  0.997590  0.987730 ...  0.994106  0.901619  0.979936  0.950052   \n",
       "4  0.994468  1.000000  0.996186 ...  0.984188  0.869435  0.963746  0.926108   \n",
       "\n",
       "      38434     38435     38436     38437     38438  id  \n",
       "0  0.966989  0.985384  0.984822  0.986185  0.960721   0  \n",
       "1  0.991824  0.977095  0.847217  0.976071  0.994554   1  \n",
       "2  0.989241  0.998180  0.959579  0.998456  0.985523   2  \n",
       "3  0.997008  0.999959  0.937739  0.999904  0.994911   3  \n",
       "4  0.989241  0.998180  0.959579  0.998456  0.985523   4  \n",
       "\n",
       "[5 rows x 38440 columns]"
      ]
     },
     "execution_count": 26,
     "metadata": {},
     "output_type": "execute_result"
    }
   ],
   "source": [
    "cs_df.head()"
   ]
  },
  {
   "cell_type": "code",
   "execution_count": null,
   "metadata": {},
   "outputs": [],
   "source": [
    "cs_df.drop(['id'], axis=1)"
   ]
  },
  {
   "cell_type": "code",
   "execution_count": null,
   "metadata": {},
   "outputs": [],
   "source": []
  },
  {
   "cell_type": "code",
   "execution_count": 22,
   "metadata": {},
   "outputs": [
    {
     "data": {
      "text/plain": [
       "array([[ 1.        ,  0.7293783 ,  0.76477067,  0.76811401,  0.81718968],\n",
       "       [ 0.7293783 ,  1.        ,  0.97621941,  0.95976151,  0.50827145],\n",
       "       [ 0.76477067,  0.97621941,  1.        ,  0.90829266,  0.47972864],\n",
       "       [ 0.76811401,  0.95976151,  0.90829266,  1.        ,  0.52660279],\n",
       "       [ 0.81718968,  0.50827145,  0.47972864,  0.52660279,  1.        ]])"
      ]
     },
     "execution_count": 22,
     "metadata": {},
     "output_type": "execute_result"
    }
   ],
   "source": [
    "cosine_similarity(df[ftrs].sample(5))"
   ]
  },
  {
   "cell_type": "code",
   "execution_count": 38,
   "metadata": {},
   "outputs": [],
   "source": [
    "a = cosine_similarity(df[ftrs].head(10))"
   ]
  },
  {
   "cell_type": "code",
   "execution_count": 39,
   "metadata": {},
   "outputs": [
    {
     "data": {
      "text/plain": [
       "array([[ 1.        ,  0.96380275,  0.94938845,  0.94428189,  0.94855711,\n",
       "         0.91867571,  0.88627418,  0.94735306,  0.94884437,  0.9554522 ],\n",
       "       [ 0.96380275,  1.        ,  0.93894433,  0.92296898,  0.93930523,\n",
       "         0.8715627 ,  0.83196015,  0.95386134,  0.93927758,  0.92945223],\n",
       "       [ 0.94938845,  0.93894433,  1.        ,  0.94611032,  0.99959834,\n",
       "         0.89732549,  0.82524214,  0.99673022,  0.99977893,  0.99733241],\n",
       "       [ 0.94428189,  0.92296898,  0.94611032,  1.        ,  0.94612839,\n",
       "         0.98844702,  0.70009171,  0.95585409,  0.94619196,  0.95614003],\n",
       "       [ 0.94855711,  0.93930523,  0.99959834,  0.94612839,  1.        ,\n",
       "         0.8961565 ,  0.82559951,  0.99704493,  0.99997282,  0.99755104],\n",
       "       [ 0.91867571,  0.8715627 ,  0.89732549,  0.98844702,  0.8961565 ,\n",
       "         1.        ,  0.64666031,  0.90498152,  0.89651976,  0.91519892],\n",
       "       [ 0.88627418,  0.83196015,  0.82524214,  0.70009171,  0.82559951,\n",
       "         0.64666031,  1.        ,  0.8009964 ,  0.82557129,  0.82501039],\n",
       "       [ 0.94735306,  0.95386134,  0.99673022,  0.95585409,  0.99704493,\n",
       "         0.90498152,  0.8009964 ,  1.        ,  0.99703633,  0.99229832],\n",
       "       [ 0.94884437,  0.93927758,  0.99977893,  0.94619196,  0.99997282,\n",
       "         0.89651976,  0.82557129,  0.99703633,  1.        ,  0.99757135],\n",
       "       [ 0.9554522 ,  0.92945223,  0.99733241,  0.95614003,  0.99755104,\n",
       "         0.91519892,  0.82501039,  0.99229832,  0.99757135,  1.        ]])"
      ]
     },
     "execution_count": 39,
     "metadata": {},
     "output_type": "execute_result"
    }
   ],
   "source": [
    "a"
   ]
  },
  {
   "cell_type": "code",
   "execution_count": 40,
   "metadata": {},
   "outputs": [
    {
     "data": {
      "text/plain": [
       "<matplotlib.image.AxesImage at 0x11440dc50>"
      ]
     },
     "execution_count": 40,
     "metadata": {},
     "output_type": "execute_result"
    },
    {
     "data": {
      "image/png": "[encoded data removed]",
      "text/plain": [
       "<matplotlib.figure.Figure at 0x113e87210>"
      ]
     },
     "metadata": {},
     "output_type": "display_data"
    }
   ],
   "source": [
    "plt.imshow(a, cmap='hot', interpolation='nearest')"
   ]
  },
  {
   "cell_type": "code",
   "execution_count": 16,
   "metadata": {},
   "outputs": [],
   "source": [
    "plt.show()"
   ]
  },
  {
   "cell_type": "code",
   "execution_count": null,
   "metadata": {},
   "outputs": [],
   "source": []
  },
  {
   "cell_type": "code",
   "execution_count": null,
   "metadata": {},
   "outputs": [],
   "source": []
  },
  {
   "cell_type": "code",
   "execution_count": null,
   "metadata": {},
   "outputs": [],
   "source": []
  },
  {
   "cell_type": "code",
   "execution_count": null,
   "metadata": {},
   "outputs": [],
   "source": []
  },
  {
   "cell_type": "code",
   "execution_count": 124,
   "metadata": {},
   "outputs": [],
   "source": [
    "from matplotlib import pyplot as plt\n",
    "from scipy.cluster.hierarchy import dendrogram, linkage\n",
    "import numpy as np\n",
    "from matplotlib import rcParams\n",
    "rcParams.update({'figure.autolayout': True})"
   ]
  },
  {
   "cell_type": "code",
   "execution_count": 11,
   "metadata": {},
   "outputs": [
    {
     "name": "stdout",
     "output_type": "stream",
     "text": [
      "(150, 2)\n"
     ]
    },
    {
     "data": {
      "image/png": "[encoded data removed]",
      "text/plain": [
       "<matplotlib.figure.Figure at 0x10ecc4dd0>"
      ]
     },
     "metadata": {},
     "output_type": "display_data"
    }
   ],
   "source": [
    "np.random.seed(4711)  # for repeatability of this tutorial\n",
    "a = np.random.multivariate_normal([10, 0], [[3, 1], [1, 4]], size=[100,])\n",
    "b = np.random.multivariate_normal([0, 20], [[3, 1], [1, 4]], size=[50,])\n",
    "X = np.concatenate((a, b),)\n",
    "print X.shape  # 150 samples with 2 dimensions\n",
    "plt.scatter(X[:,0], X[:,1])\n",
    "plt.show()"
   ]
  },
  {
   "cell_type": "code",
   "execution_count": 7,
   "metadata": {},
   "outputs": [
    {
     "data": {
      "text/plain": [
       "(150, 2)"
      ]
     },
     "execution_count": 7,
     "metadata": {},
     "output_type": "execute_result"
    }
   ],
   "source": [
    "X.shape"
   ]
  },
  {
   "cell_type": "code",
   "execution_count": 151,
   "metadata": {},
   "outputs": [],
   "source": [
    "df_sample = df.sample(1000)"
   ]
  },
  {
   "cell_type": "code",
   "execution_count": 152,
   "metadata": {},
   "outputs": [],
   "source": [
    "# df_sample"
   ]
  },
  {
   "cell_type": "code",
   "execution_count": 161,
   "metadata": {},
   "outputs": [],
   "source": [
    "# df_sample.to_pickle('sample.pkl')"
   ]
  },
  {
   "cell_type": "code",
   "execution_count": 154,
   "metadata": {},
   "outputs": [],
   "source": [
    "a = cosine_similarity(df_sample[ftrs])"
   ]
  },
  {
   "cell_type": "code",
   "execution_count": 155,
   "metadata": {},
   "outputs": [],
   "source": [
    "# a"
   ]
  },
  {
   "cell_type": "code",
   "execution_count": 156,
   "metadata": {},
   "outputs": [],
   "source": [
    "Z = linkage(a, 'ward')\n",
    "# Z = linkage(a)"
   ]
  },
  {
   "cell_type": "code",
   "execution_count": 157,
   "metadata": {},
   "outputs": [
    {
     "data": {
      "text/plain": [
       "(999, 4)"
      ]
     },
     "execution_count": 157,
     "metadata": {},
     "output_type": "execute_result"
    }
   ],
   "source": [
    "Z.shape"
   ]
  },
  {
   "cell_type": "code",
   "execution_count": 158,
   "metadata": {},
   "outputs": [
    {
     "data": {
      "text/plain": [
       "<matplotlib.figure.Figure at 0x113947510>"
      ]
     },
     "metadata": {},
     "output_type": "display_data"
    }
   ],
   "source": [
    "fig = plt.figure()"
   ]
  },
  {
   "cell_type": "code",
   "execution_count": 160,
   "metadata": {},
   "outputs": [
    {
     "data": {
      "image/png": "[encoded data removed]",
      "text/plain": [
       "<matplotlib.figure.Figure at 0x113e3a150>"
      ]
     },
     "metadata": {},
     "output_type": "display_data"
    }
   ],
   "source": [
    "dn = dendrogram(Z)\n",
    "plt.tight_layout()\n",
    "plt.setp(plt.gca().get_xticklabels(), fontsize=0.75, rotation='vertical')\n",
    "plt.savefig('scipy-dendrogram.svg')"
   ]
  },
  {
   "cell_type": "code",
   "execution_count": 85,
   "metadata": {},
   "outputs": [
    {
     "data": {
      "text/plain": [
       "dict"
      ]
     },
     "execution_count": 85,
     "metadata": {},
     "output_type": "execute_result"
    }
   ],
   "source": [
    "type(dn)"
   ]
  },
  {
   "cell_type": "code",
   "execution_count": 84,
   "metadata": {},
   "outputs": [],
   "source": [
    "plt.show()"
   ]
  },
  {
   "cell_type": "code",
   "execution_count": 18,
   "metadata": {},
   "outputs": [
    {
     "data": {
      "text/plain": [
       "['ivl', 'dcoord', 'leaves', 'color_list', 'icoord']"
      ]
     },
     "execution_count": 18,
     "metadata": {},
     "output_type": "execute_result"
    }
   ],
   "source": [
    "dn.keys()"
   ]
  },
  {
   "cell_type": "code",
   "execution_count": null,
   "metadata": {},
   "outputs": [],
   "source": []
  }
 ],
 "metadata": {
  "kernelspec": {
   "display_name": "Python 2",
   "language": "python",
   "name": "python2"
  },
  "language_info": {
   "codemirror_mode": {
    "name": "ipython",
    "version": 2
   },
   "file_extension": ".py",
   "mimetype": "text/x-python",
   "name": "python",
   "nbconvert_exporter": "python",
   "pygments_lexer": "ipython2",
   "version": "2.7.14"
  }
 },
 "nbformat": 4,
 "nbformat_minor": 2
}
