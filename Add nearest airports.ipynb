{
 "cells": [
  {
   "cell_type": "code",
   "execution_count": 2,
   "metadata": {},
   "outputs": [],
   "source": [
    "import pandas as pd\n",
    "import datapackage\n",
    "import time\n",
    "import json\n",
    "import geopy.distance\n",
    "import time"
   ]
  },
  {
   "cell_type": "code",
   "execution_count": 3,
   "metadata": {},
   "outputs": [],
   "source": [
    "import sys\n",
    "stdout = sys.stdout\n",
    "reload(sys)\n",
    "sys.setdefaultencoding('utf-8')\n",
    "sys.stdout = stdout"
   ]
  },
  {
   "cell_type": "markdown",
   "metadata": {},
   "source": [
    "### Read json into dataframe"
   ]
  },
  {
   "cell_type": "code",
   "execution_count": null,
   "metadata": {},
   "outputs": [],
   "source": [
    "df = pd.read_json('data/ufo_awesome.json',lines=True)"
   ]
  },
  {
   "cell_type": "code",
   "execution_count": 4,
   "metadata": {},
   "outputs": [
    {
     "data": {
      "text/html": [
       "<div>\n",
       "<table border=\"1\" class=\"dataframe\">\n",
       "  <thead>\n",
       "    <tr style=\"text-align: right;\">\n",
       "      <th></th>\n",
       "      <th>description</th>\n",
       "      <th>duration</th>\n",
       "      <th>location</th>\n",
       "      <th>reported_at</th>\n",
       "      <th>shape</th>\n",
       "      <th>sighted_at</th>\n",
       "    </tr>\n",
       "  </thead>\n",
       "  <tbody>\n",
       "    <tr>\n",
       "      <th>0</th>\n",
       "      <td>Man repts. witnessing &amp;quot;flash, followed by...</td>\n",
       "      <td></td>\n",
       "      <td>Iowa City, IA</td>\n",
       "      <td>19951009</td>\n",
       "      <td></td>\n",
       "      <td>19951009</td>\n",
       "    </tr>\n",
       "    <tr>\n",
       "      <th>1</th>\n",
       "      <td>Man  on Hwy 43 SW of Milwaukee sees large, bri...</td>\n",
       "      <td>2 min.</td>\n",
       "      <td>Milwaukee, WI</td>\n",
       "      <td>19951011</td>\n",
       "      <td></td>\n",
       "      <td>19951010</td>\n",
       "    </tr>\n",
       "    <tr>\n",
       "      <th>2</th>\n",
       "      <td>Telephoned Report:CA woman visiting daughter w...</td>\n",
       "      <td></td>\n",
       "      <td>Shelton, WA</td>\n",
       "      <td>19950103</td>\n",
       "      <td></td>\n",
       "      <td>19950101</td>\n",
       "    </tr>\n",
       "    <tr>\n",
       "      <th>3</th>\n",
       "      <td>Man repts. son&amp;apos;s bizarre sighting of smal...</td>\n",
       "      <td>2 min.</td>\n",
       "      <td>Columbia, MO</td>\n",
       "      <td>19950510</td>\n",
       "      <td></td>\n",
       "      <td>19950510</td>\n",
       "    </tr>\n",
       "    <tr>\n",
       "      <th>4</th>\n",
       "      <td>Anonymous caller repts. sighting 4 ufo&amp;apos;s ...</td>\n",
       "      <td></td>\n",
       "      <td>Seattle, WA</td>\n",
       "      <td>19950614</td>\n",
       "      <td></td>\n",
       "      <td>19950611</td>\n",
       "    </tr>\n",
       "  </tbody>\n",
       "</table>\n",
       "</div>"
      ],
      "text/plain": [
       "                                         description duration        location  \\\n",
       "0  Man repts. witnessing &quot;flash, followed by...            Iowa City, IA   \n",
       "1  Man  on Hwy 43 SW of Milwaukee sees large, bri...   2 min.   Milwaukee, WI   \n",
       "2  Telephoned Report:CA woman visiting daughter w...              Shelton, WA   \n",
       "3  Man repts. son&apos;s bizarre sighting of smal...   2 min.    Columbia, MO   \n",
       "4  Anonymous caller repts. sighting 4 ufo&apos;s ...              Seattle, WA   \n",
       "\n",
       "   reported_at shape  sighted_at  \n",
       "0     19951009          19951009  \n",
       "1     19951011          19951010  \n",
       "2     19950103          19950101  \n",
       "3     19950510          19950510  \n",
       "4     19950614          19950611  "
      ]
     },
     "execution_count": 4,
     "metadata": {},
     "output_type": "execute_result"
    }
   ],
   "source": [
    "df.head()"
   ]
  },
  {
   "cell_type": "markdown",
   "metadata": {},
   "source": [
    "### Get lat/long of location & convert epoch time to date in original data"
   ]
  },
  {
   "cell_type": "markdown",
   "metadata": {},
   "source": [
    "#### Example of how to use geopy"
   ]
  },
  {
   "cell_type": "code",
   "execution_count": 10,
   "metadata": {},
   "outputs": [],
   "source": [
    "from geopy.geocoders import Nominatim"
   ]
  },
  {
   "cell_type": "code",
   "execution_count": 11,
   "metadata": {},
   "outputs": [],
   "source": [
    "geolocator = Nominatim()"
   ]
  },
  {
   "cell_type": "code",
   "execution_count": 12,
   "metadata": {},
   "outputs": [
    {
     "data": {
      "text/plain": [
       "Location((43.0349931, -87.922497, 0.0))"
      ]
     },
     "execution_count": 12,
     "metadata": {},
     "output_type": "execute_result"
    }
   ],
   "source": [
    "geolocator.geocode(\"Milwaukee, WI\")"
   ]
  },
  {
   "cell_type": "markdown",
   "metadata": {},
   "source": [
    "#### since Sachin already got all the location long/lat we read in the cached file now"
   ]
  },
  {
   "cell_type": "code",
   "execution_count": 13,
   "metadata": {},
   "outputs": [],
   "source": [
    "location_dict = json.load(open(\"cached_location/location_cache.txt\"))"
   ]
  },
  {
   "cell_type": "code",
   "execution_count": 14,
   "metadata": {},
   "outputs": [
    {
     "data": {
      "text/plain": [
       "[41.6612561, -91.5299106, u'Iowa City', u'Iowa', u'us']"
      ]
     },
     "execution_count": 14,
     "metadata": {},
     "output_type": "execute_result"
    }
   ],
   "source": [
    "location_dict[' Iowa City, IA']"
   ]
  },
  {
   "cell_type": "markdown",
   "metadata": {},
   "source": [
    "#### Add new columns to original data"
   ]
  },
  {
   "cell_type": "code",
   "execution_count": 15,
   "metadata": {},
   "outputs": [],
   "source": [
    "# temporarily set the following columns to NA for easy error lookup later\n",
    "df['reported_at_date'] = \"NA\"\n",
    "df['sighted_at_date'] = \"NA\"\n",
    "df['geocoded_latitude'] = \"NA\"\n",
    "df['geocoded_longitude'] = \"NA\""
   ]
  },
  {
   "cell_type": "code",
   "execution_count": 16,
   "metadata": {},
   "outputs": [
    {
     "data": {
      "text/html": [
       "<div>\n",
       "<table border=\"1\" class=\"dataframe\">\n",
       "  <thead>\n",
       "    <tr style=\"text-align: right;\">\n",
       "      <th></th>\n",
       "      <th>description</th>\n",
       "      <th>duration</th>\n",
       "      <th>location</th>\n",
       "      <th>reported_at</th>\n",
       "      <th>shape</th>\n",
       "      <th>sighted_at</th>\n",
       "      <th>reported_at_date</th>\n",
       "      <th>sighted_at_date</th>\n",
       "      <th>geocoded_latitude</th>\n",
       "      <th>geocoded_longitude</th>\n",
       "    </tr>\n",
       "  </thead>\n",
       "  <tbody>\n",
       "    <tr>\n",
       "      <th>0</th>\n",
       "      <td>Man repts. witnessing &amp;quot;flash, followed by...</td>\n",
       "      <td></td>\n",
       "      <td>Iowa City, IA</td>\n",
       "      <td>19951009</td>\n",
       "      <td></td>\n",
       "      <td>19951009</td>\n",
       "      <td>NA</td>\n",
       "      <td>NA</td>\n",
       "      <td>NA</td>\n",
       "      <td>NA</td>\n",
       "    </tr>\n",
       "    <tr>\n",
       "      <th>1</th>\n",
       "      <td>Man  on Hwy 43 SW of Milwaukee sees large, bri...</td>\n",
       "      <td>2 min.</td>\n",
       "      <td>Milwaukee, WI</td>\n",
       "      <td>19951011</td>\n",
       "      <td></td>\n",
       "      <td>19951010</td>\n",
       "      <td>NA</td>\n",
       "      <td>NA</td>\n",
       "      <td>NA</td>\n",
       "      <td>NA</td>\n",
       "    </tr>\n",
       "  </tbody>\n",
       "</table>\n",
       "</div>"
      ],
      "text/plain": [
       "                                         description duration        location  \\\n",
       "0  Man repts. witnessing &quot;flash, followed by...            Iowa City, IA   \n",
       "1  Man  on Hwy 43 SW of Milwaukee sees large, bri...   2 min.   Milwaukee, WI   \n",
       "\n",
       "   reported_at shape  sighted_at reported_at_date sighted_at_date  \\\n",
       "0     19951009          19951009               NA              NA   \n",
       "1     19951011          19951010               NA              NA   \n",
       "\n",
       "  geocoded_latitude geocoded_longitude  \n",
       "0                NA                 NA  \n",
       "1                NA                 NA  "
      ]
     },
     "execution_count": 16,
     "metadata": {},
     "output_type": "execute_result"
    }
   ],
   "source": [
    "df.head(2)"
   ]
  },
  {
   "cell_type": "markdown",
   "metadata": {},
   "source": [
    "#### Go through each row in original data"
   ]
  },
  {
   "cell_type": "code",
   "execution_count": null,
   "metadata": {},
   "outputs": [],
   "source": [
    "# read from cache\n",
    "read_cache = True\n",
    "\n",
    "for index,row in df.iterrows():\n",
    "#     print row['location']\n",
    "#     print row['reported_at']\n",
    "#     print row['sighted_at']\n",
    "    reported_at_date = time.strftime('%Y-%m-%d %H:%M:%S', time.localtime(row['reported_at']))\n",
    "    df.ix[index, 'reported_at_date'] = reported_at_date\n",
    "    \n",
    "    sighted_at_date = time.strftime('%Y-%m-%d %H:%M:%S', time.localtime(row['sighted_at']))\n",
    "    df.ix[index, 'sighted_at_date'] = sighted_at_date\n",
    "    \n",
    "    if not read_cache:\n",
    "        geocoded_location = geolocator.geocode(row['location'])\n",
    "        if geocoded_location:\n",
    "            df.ix[index, 'geocoded_latitude'] = geocoded_location.latitude\n",
    "            df.ix[index, 'geocoded_longitude'] = geocoded_location.longitude\n",
    "    else:\n",
    "        if row['location'] in location_dict:\n",
    "            # [41.6612561, -91.5299106, u'Iowa City', u'Iowa', u'us']\n",
    "            latitude,longitude,city,state,country = location_dict[row['location']]\n",
    "            df.ix[index, 'geocoded_latitude'] = latitude\n",
    "            df.ix[index, 'geocoded_longitude'] = longitude\n",
    "#     print index"
   ]
  },
  {
   "cell_type": "markdown",
   "metadata": {},
   "source": [
    "#### Pickling df now that each row has longitude/latitude"
   ]
  },
  {
   "cell_type": "code",
   "execution_count": null,
   "metadata": {},
   "outputs": [],
   "source": [
    "# df.to_pickle('data/data_with_long_lat.pkl')"
   ]
  },
  {
   "cell_type": "markdown",
   "metadata": {},
   "source": [
    "#### if you want to get the df from the pickle file"
   ]
  },
  {
   "cell_type": "code",
   "execution_count": 18,
   "metadata": {},
   "outputs": [],
   "source": [
    "# df = pd.read_pickle('data/data_with_long_lat.pkl')"
   ]
  },
  {
   "cell_type": "code",
   "execution_count": 20,
   "metadata": {},
   "outputs": [
    {
     "data": {
      "text/html": [
       "<div>\n",
       "<table border=\"1\" class=\"dataframe\">\n",
       "  <thead>\n",
       "    <tr style=\"text-align: right;\">\n",
       "      <th></th>\n",
       "      <th>description</th>\n",
       "      <th>duration</th>\n",
       "      <th>location</th>\n",
       "      <th>reported_at</th>\n",
       "      <th>shape</th>\n",
       "      <th>sighted_at</th>\n",
       "      <th>reported_at_date</th>\n",
       "      <th>sighted_at_date</th>\n",
       "      <th>geocoded_latitude</th>\n",
       "      <th>geocoded_longitude</th>\n",
       "    </tr>\n",
       "  </thead>\n",
       "  <tbody>\n",
       "    <tr>\n",
       "      <th>0</th>\n",
       "      <td>Man repts. witnessing &amp;quot;flash, followed by...</td>\n",
       "      <td></td>\n",
       "      <td>Iowa City, IA</td>\n",
       "      <td>19951009</td>\n",
       "      <td></td>\n",
       "      <td>19951009</td>\n",
       "      <td>1970-08-19 14:56:49</td>\n",
       "      <td>1970-08-19 14:56:49</td>\n",
       "      <td>41.6613</td>\n",
       "      <td>-91.5299</td>\n",
       "    </tr>\n",
       "  </tbody>\n",
       "</table>\n",
       "</div>"
      ],
      "text/plain": [
       "                                         description duration        location  \\\n",
       "0  Man repts. witnessing &quot;flash, followed by...            Iowa City, IA   \n",
       "\n",
       "   reported_at shape  sighted_at     reported_at_date      sighted_at_date  \\\n",
       "0     19951009          19951009  1970-08-19 14:56:49  1970-08-19 14:56:49   \n",
       "\n",
       "  geocoded_latitude geocoded_longitude  \n",
       "0           41.6613           -91.5299  "
      ]
     },
     "execution_count": 20,
     "metadata": {},
     "output_type": "execute_result"
    }
   ],
   "source": [
    "df.head(1)"
   ]
  },
  {
   "cell_type": "markdown",
   "metadata": {},
   "source": [
    "## Join airport data with df"
   ]
  },
  {
   "cell_type": "markdown",
   "metadata": {},
   "source": [
    "### Read in ONLY US airport codes"
   ]
  },
  {
   "cell_type": "code",
   "execution_count": 176,
   "metadata": {},
   "outputs": [],
   "source": [
    "# https://datahub.io/core/airport-codes#pandas\n",
    "data_url = 'https://datahub.io/core/airport-codes/datapackage.json'\n",
    "\n",
    "package = datapackage.Package(data_url)\n",
    "\n",
    "resources = package.resources\n",
    "for resource in resources:\n",
    "    if resource.tabular:\n",
    "        airport_df = pd.read_csv(resource.descriptor['path'])\n",
    "        airport_df = airport_df[airport_df.iso_country == \"US\"]"
   ]
  },
  {
   "cell_type": "code",
   "execution_count": 177,
   "metadata": {},
   "outputs": [
    {
     "data": {
      "text/html": [
       "<div>\n",
       "<table border=\"1\" class=\"dataframe\">\n",
       "  <thead>\n",
       "    <tr style=\"text-align: right;\">\n",
       "      <th></th>\n",
       "      <th>id</th>\n",
       "      <th>ident</th>\n",
       "      <th>type</th>\n",
       "      <th>name</th>\n",
       "      <th>latitude_deg</th>\n",
       "      <th>longitude_deg</th>\n",
       "      <th>elevation_ft</th>\n",
       "      <th>continent</th>\n",
       "      <th>iso_country</th>\n",
       "      <th>iso_region</th>\n",
       "      <th>municipality</th>\n",
       "      <th>scheduled_service</th>\n",
       "      <th>gps_code</th>\n",
       "      <th>iata_code</th>\n",
       "      <th>local_code</th>\n",
       "      <th>home_link</th>\n",
       "      <th>wikipedia_link</th>\n",
       "      <th>keywords</th>\n",
       "    </tr>\n",
       "  </thead>\n",
       "  <tbody>\n",
       "    <tr>\n",
       "      <th>0</th>\n",
       "      <td>6523</td>\n",
       "      <td>00A</td>\n",
       "      <td>heliport</td>\n",
       "      <td>Total Rf Heliport</td>\n",
       "      <td>40.070801</td>\n",
       "      <td>-74.933601</td>\n",
       "      <td>11.0</td>\n",
       "      <td>NaN</td>\n",
       "      <td>US</td>\n",
       "      <td>US-PA</td>\n",
       "      <td>Bensalem</td>\n",
       "      <td>no</td>\n",
       "      <td>00A</td>\n",
       "      <td>NaN</td>\n",
       "      <td>00A</td>\n",
       "      <td>NaN</td>\n",
       "      <td>NaN</td>\n",
       "      <td>NaN</td>\n",
       "    </tr>\n",
       "    <tr>\n",
       "      <th>1</th>\n",
       "      <td>323361</td>\n",
       "      <td>00AA</td>\n",
       "      <td>small_airport</td>\n",
       "      <td>Aero B Ranch Airport</td>\n",
       "      <td>38.704022</td>\n",
       "      <td>-101.473911</td>\n",
       "      <td>3435.0</td>\n",
       "      <td>NaN</td>\n",
       "      <td>US</td>\n",
       "      <td>US-KS</td>\n",
       "      <td>Leoti</td>\n",
       "      <td>no</td>\n",
       "      <td>00AA</td>\n",
       "      <td>NaN</td>\n",
       "      <td>00AA</td>\n",
       "      <td>NaN</td>\n",
       "      <td>NaN</td>\n",
       "      <td>NaN</td>\n",
       "    </tr>\n",
       "    <tr>\n",
       "      <th>2</th>\n",
       "      <td>6524</td>\n",
       "      <td>00AK</td>\n",
       "      <td>small_airport</td>\n",
       "      <td>Lowell Field</td>\n",
       "      <td>59.949200</td>\n",
       "      <td>-151.695999</td>\n",
       "      <td>450.0</td>\n",
       "      <td>NaN</td>\n",
       "      <td>US</td>\n",
       "      <td>US-AK</td>\n",
       "      <td>Anchor Point</td>\n",
       "      <td>no</td>\n",
       "      <td>00AK</td>\n",
       "      <td>NaN</td>\n",
       "      <td>00AK</td>\n",
       "      <td>NaN</td>\n",
       "      <td>NaN</td>\n",
       "      <td>NaN</td>\n",
       "    </tr>\n",
       "    <tr>\n",
       "      <th>3</th>\n",
       "      <td>6525</td>\n",
       "      <td>00AL</td>\n",
       "      <td>small_airport</td>\n",
       "      <td>Epps Airpark</td>\n",
       "      <td>34.864799</td>\n",
       "      <td>-86.770302</td>\n",
       "      <td>820.0</td>\n",
       "      <td>NaN</td>\n",
       "      <td>US</td>\n",
       "      <td>US-AL</td>\n",
       "      <td>Harvest</td>\n",
       "      <td>no</td>\n",
       "      <td>00AL</td>\n",
       "      <td>NaN</td>\n",
       "      <td>00AL</td>\n",
       "      <td>NaN</td>\n",
       "      <td>NaN</td>\n",
       "      <td>NaN</td>\n",
       "    </tr>\n",
       "    <tr>\n",
       "      <th>4</th>\n",
       "      <td>6526</td>\n",
       "      <td>00AR</td>\n",
       "      <td>closed</td>\n",
       "      <td>Newport Hospital &amp; Clinic Heliport</td>\n",
       "      <td>35.608700</td>\n",
       "      <td>-91.254898</td>\n",
       "      <td>237.0</td>\n",
       "      <td>NaN</td>\n",
       "      <td>US</td>\n",
       "      <td>US-AR</td>\n",
       "      <td>Newport</td>\n",
       "      <td>no</td>\n",
       "      <td>NaN</td>\n",
       "      <td>NaN</td>\n",
       "      <td>NaN</td>\n",
       "      <td>NaN</td>\n",
       "      <td>NaN</td>\n",
       "      <td>00AR</td>\n",
       "    </tr>\n",
       "  </tbody>\n",
       "</table>\n",
       "</div>"
      ],
      "text/plain": [
       "       id ident           type                                name  \\\n",
       "0    6523   00A       heliport                   Total Rf Heliport   \n",
       "1  323361  00AA  small_airport                Aero B Ranch Airport   \n",
       "2    6524  00AK  small_airport                        Lowell Field   \n",
       "3    6525  00AL  small_airport                        Epps Airpark   \n",
       "4    6526  00AR         closed  Newport Hospital & Clinic Heliport   \n",
       "\n",
       "   latitude_deg  longitude_deg  elevation_ft continent iso_country iso_region  \\\n",
       "0     40.070801     -74.933601          11.0       NaN          US      US-PA   \n",
       "1     38.704022    -101.473911        3435.0       NaN          US      US-KS   \n",
       "2     59.949200    -151.695999         450.0       NaN          US      US-AK   \n",
       "3     34.864799     -86.770302         820.0       NaN          US      US-AL   \n",
       "4     35.608700     -91.254898         237.0       NaN          US      US-AR   \n",
       "\n",
       "   municipality scheduled_service gps_code iata_code local_code home_link  \\\n",
       "0      Bensalem                no      00A       NaN        00A       NaN   \n",
       "1         Leoti                no     00AA       NaN       00AA       NaN   \n",
       "2  Anchor Point                no     00AK       NaN       00AK       NaN   \n",
       "3       Harvest                no     00AL       NaN       00AL       NaN   \n",
       "4       Newport                no      NaN       NaN        NaN       NaN   \n",
       "\n",
       "  wikipedia_link keywords  \n",
       "0            NaN      NaN  \n",
       "1            NaN      NaN  \n",
       "2            NaN      NaN  \n",
       "3            NaN      NaN  \n",
       "4            NaN     00AR  "
      ]
     },
     "execution_count": 177,
     "metadata": {},
     "output_type": "execute_result"
    }
   ],
   "source": [
    "airport_df.head(5)"
   ]
  },
  {
   "cell_type": "code",
   "execution_count": 178,
   "metadata": {},
   "outputs": [
    {
     "data": {
      "text/plain": [
       "(22389, 18)"
      ]
     },
     "execution_count": 178,
     "metadata": {},
     "output_type": "execute_result"
    }
   ],
   "source": [
    "airport_df.shape"
   ]
  },
  {
   "cell_type": "markdown",
   "metadata": {},
   "source": [
    "#### unique airport types"
   ]
  },
  {
   "cell_type": "code",
   "execution_count": 179,
   "metadata": {},
   "outputs": [
    {
     "data": {
      "text/plain": [
       "array(['heliport', 'small_airport', 'closed', 'seaplane_base',\n",
       "       'balloonport', 'medium_airport', 'large_airport'], dtype=object)"
      ]
     },
     "execution_count": 179,
     "metadata": {},
     "output_type": "execute_result"
    }
   ],
   "source": [
    "airport_df.type.unique()"
   ]
  },
  {
   "cell_type": "markdown",
   "metadata": {},
   "source": [
    "#### There are 172 large airports"
   ]
  },
  {
   "cell_type": "code",
   "execution_count": 181,
   "metadata": {},
   "outputs": [
    {
     "data": {
      "text/plain": [
       "(172, 18)"
      ]
     },
     "execution_count": 181,
     "metadata": {},
     "output_type": "execute_result"
    }
   ],
   "source": [
    "airport_df[airport_df.type == 'large_airport'].shape"
   ]
  },
  {
   "cell_type": "code",
   "execution_count": 182,
   "metadata": {},
   "outputs": [],
   "source": [
    "large_airport_df = airport_df[airport_df.type == 'large_airport']"
   ]
  },
  {
   "cell_type": "code",
   "execution_count": 183,
   "metadata": {},
   "outputs": [
    {
     "data": {
      "text/plain": [
       "(172, 18)"
      ]
     },
     "execution_count": 183,
     "metadata": {},
     "output_type": "execute_result"
    }
   ],
   "source": [
    "large_airport_df.shape"
   ]
  },
  {
   "cell_type": "code",
   "execution_count": 184,
   "metadata": {},
   "outputs": [
    {
     "data": {
      "text/html": [
       "<div>\n",
       "<table border=\"1\" class=\"dataframe\">\n",
       "  <thead>\n",
       "    <tr style=\"text-align: right;\">\n",
       "      <th></th>\n",
       "      <th>id</th>\n",
       "      <th>ident</th>\n",
       "      <th>type</th>\n",
       "      <th>name</th>\n",
       "      <th>latitude_deg</th>\n",
       "      <th>longitude_deg</th>\n",
       "      <th>elevation_ft</th>\n",
       "      <th>continent</th>\n",
       "      <th>iso_country</th>\n",
       "      <th>iso_region</th>\n",
       "      <th>municipality</th>\n",
       "      <th>scheduled_service</th>\n",
       "      <th>gps_code</th>\n",
       "      <th>iata_code</th>\n",
       "      <th>local_code</th>\n",
       "      <th>home_link</th>\n",
       "      <th>wikipedia_link</th>\n",
       "      <th>keywords</th>\n",
       "    </tr>\n",
       "  </thead>\n",
       "  <tbody>\n",
       "    <tr>\n",
       "      <th>25647</th>\n",
       "      <td>16091</td>\n",
       "      <td>KABQ</td>\n",
       "      <td>large_airport</td>\n",
       "      <td>Albuquerque International Sunport Airport</td>\n",
       "      <td>35.040199</td>\n",
       "      <td>-106.609001</td>\n",
       "      <td>5355.0</td>\n",
       "      <td>NaN</td>\n",
       "      <td>US</td>\n",
       "      <td>US-NM</td>\n",
       "      <td>Albuquerque</td>\n",
       "      <td>yes</td>\n",
       "      <td>KABQ</td>\n",
       "      <td>ABQ</td>\n",
       "      <td>ABQ</td>\n",
       "      <td>http://www.abqsunport.com/</td>\n",
       "      <td>http://en.wikipedia.org/wiki/Albuquerque_Inter...</td>\n",
       "      <td>NaN</td>\n",
       "    </tr>\n",
       "    <tr>\n",
       "      <th>25666</th>\n",
       "      <td>3364</td>\n",
       "      <td>KADW</td>\n",
       "      <td>large_airport</td>\n",
       "      <td>Andrews Air Force Base</td>\n",
       "      <td>38.810799</td>\n",
       "      <td>-76.866997</td>\n",
       "      <td>280.0</td>\n",
       "      <td>NaN</td>\n",
       "      <td>US</td>\n",
       "      <td>US-MD</td>\n",
       "      <td>Camp Springs</td>\n",
       "      <td>no</td>\n",
       "      <td>KADW</td>\n",
       "      <td>ADW</td>\n",
       "      <td>ADW</td>\n",
       "      <td>http://www.jba.af.mil/</td>\n",
       "      <td>http://en.wikipedia.org/wiki/Joint_Base_Andrews</td>\n",
       "      <td>NaN</td>\n",
       "    </tr>\n",
       "    <tr>\n",
       "      <th>25679</th>\n",
       "      <td>3366</td>\n",
       "      <td>KAFW</td>\n",
       "      <td>large_airport</td>\n",
       "      <td>Fort Worth Alliance Airport</td>\n",
       "      <td>32.987598</td>\n",
       "      <td>-97.318802</td>\n",
       "      <td>722.0</td>\n",
       "      <td>NaN</td>\n",
       "      <td>US</td>\n",
       "      <td>US-TX</td>\n",
       "      <td>Fort Worth</td>\n",
       "      <td>no</td>\n",
       "      <td>KAFW</td>\n",
       "      <td>AFW</td>\n",
       "      <td>AFW</td>\n",
       "      <td>http://www.allianceairport.com/</td>\n",
       "      <td>http://en.wikipedia.org/wiki/Fort_Worth_Allian...</td>\n",
       "      <td>NaN</td>\n",
       "    </tr>\n",
       "  </tbody>\n",
       "</table>\n",
       "</div>"
      ],
      "text/plain": [
       "          id ident           type                                       name  \\\n",
       "25647  16091  KABQ  large_airport  Albuquerque International Sunport Airport   \n",
       "25666   3364  KADW  large_airport                     Andrews Air Force Base   \n",
       "25679   3366  KAFW  large_airport                Fort Worth Alliance Airport   \n",
       "\n",
       "       latitude_deg  longitude_deg  elevation_ft continent iso_country  \\\n",
       "25647     35.040199    -106.609001        5355.0       NaN          US   \n",
       "25666     38.810799     -76.866997         280.0       NaN          US   \n",
       "25679     32.987598     -97.318802         722.0       NaN          US   \n",
       "\n",
       "      iso_region  municipality scheduled_service gps_code iata_code  \\\n",
       "25647      US-NM   Albuquerque               yes     KABQ       ABQ   \n",
       "25666      US-MD  Camp Springs                no     KADW       ADW   \n",
       "25679      US-TX    Fort Worth                no     KAFW       AFW   \n",
       "\n",
       "      local_code                        home_link  \\\n",
       "25647        ABQ       http://www.abqsunport.com/   \n",
       "25666        ADW           http://www.jba.af.mil/   \n",
       "25679        AFW  http://www.allianceairport.com/   \n",
       "\n",
       "                                          wikipedia_link keywords  \n",
       "25647  http://en.wikipedia.org/wiki/Albuquerque_Inter...      NaN  \n",
       "25666    http://en.wikipedia.org/wiki/Joint_Base_Andrews      NaN  \n",
       "25679  http://en.wikipedia.org/wiki/Fort_Worth_Allian...      NaN  "
      ]
     },
     "execution_count": 184,
     "metadata": {},
     "output_type": "execute_result"
    }
   ],
   "source": [
    "large_airport_df.head(3)"
   ]
  },
  {
   "cell_type": "markdown",
   "metadata": {},
   "source": [
    "#### 687 medium airports"
   ]
  },
  {
   "cell_type": "code",
   "execution_count": 186,
   "metadata": {},
   "outputs": [
    {
     "data": {
      "text/plain": [
       "(687, 18)"
      ]
     },
     "execution_count": 186,
     "metadata": {},
     "output_type": "execute_result"
    }
   ],
   "source": [
    "airport_df[airport_df.type == 'medium_airport'].shape"
   ]
  },
  {
   "cell_type": "code",
   "execution_count": 187,
   "metadata": {},
   "outputs": [],
   "source": [
    "medium_airport_df = airport_df[airport_df.type == 'medium_airport']"
   ]
  },
  {
   "cell_type": "code",
   "execution_count": 188,
   "metadata": {},
   "outputs": [
    {
     "data": {
      "text/plain": [
       "(687, 18)"
      ]
     },
     "execution_count": 188,
     "metadata": {},
     "output_type": "execute_result"
    }
   ],
   "source": [
    "medium_airport_df.shape"
   ]
  },
  {
   "cell_type": "markdown",
   "metadata": {},
   "source": [
    "#### 13865 small airports"
   ]
  },
  {
   "cell_type": "code",
   "execution_count": 190,
   "metadata": {},
   "outputs": [
    {
     "data": {
      "text/plain": [
       "(13865, 18)"
      ]
     },
     "execution_count": 190,
     "metadata": {},
     "output_type": "execute_result"
    }
   ],
   "source": [
    "airport_df[airport_df.type == 'small_airport'].shape"
   ]
  },
  {
   "cell_type": "code",
   "execution_count": 191,
   "metadata": {},
   "outputs": [],
   "source": [
    "small_airport_df = airport_df[airport_df.type == 'small_airport']"
   ]
  },
  {
   "cell_type": "code",
   "execution_count": 192,
   "metadata": {},
   "outputs": [
    {
     "data": {
      "text/plain": [
       "(13865, 18)"
      ]
     },
     "execution_count": 192,
     "metadata": {},
     "output_type": "execute_result"
    }
   ],
   "source": [
    "small_airport_df.shape"
   ]
  },
  {
   "cell_type": "markdown",
   "metadata": {},
   "source": [
    "#### 858 closed airports -- could be interesting to see if there is any correlation here"
   ]
  },
  {
   "cell_type": "code",
   "execution_count": 193,
   "metadata": {},
   "outputs": [
    {
     "data": {
      "text/plain": [
       "(858, 18)"
      ]
     },
     "execution_count": 193,
     "metadata": {},
     "output_type": "execute_result"
    }
   ],
   "source": [
    "airport_df[airport_df.type == 'closed'].shape"
   ]
  },
  {
   "cell_type": "code",
   "execution_count": 206,
   "metadata": {},
   "outputs": [],
   "source": [
    "closed_airport_df = airport_df[airport_df.type == 'closed']"
   ]
  },
  {
   "cell_type": "code",
   "execution_count": 207,
   "metadata": {},
   "outputs": [
    {
     "data": {
      "text/plain": [
       "(858, 18)"
      ]
     },
     "execution_count": 207,
     "metadata": {},
     "output_type": "execute_result"
    }
   ],
   "source": [
    "closed_airport_df.shape"
   ]
  },
  {
   "cell_type": "markdown",
   "metadata": {},
   "source": [
    "#### NOT USING: distance function that takes in 2 coordinates --> returns distance in miles"
   ]
  },
  {
   "cell_type": "code",
   "execution_count": 39,
   "metadata": {},
   "outputs": [],
   "source": [
    "def distance(c1, c2):\n",
    "    # great_circle is less accurate than vincenty but is faster\n",
    "    return geopy.distance.great_circle(c1, c2).miles"
   ]
  },
  {
   "cell_type": "code",
   "execution_count": 40,
   "metadata": {},
   "outputs": [
    {
     "data": {
      "text/plain": [
       "3.780708989414044"
      ]
     },
     "execution_count": 40,
     "metadata": {},
     "output_type": "execute_result"
    }
   ],
   "source": [
    "distance((41.6613,-91.5299), (41.680318, -91.598565))"
   ]
  },
  {
   "cell_type": "markdown",
   "metadata": {},
   "source": [
    "### haversine distance "
   ]
  },
  {
   "cell_type": "code",
   "execution_count": 47,
   "metadata": {},
   "outputs": [],
   "source": [
    "# https://stackoverflow.com/questions/43577086/pandas-calculate-haversine-distance-within-each-group-of-rows/43577275#43577275\n",
    "# https://stackoverflow.com/questions/29545704/fast-haversine-approximation-python-pandas/29546836#29546836\n",
    "import numpy as np\n",
    "\n",
    "# haversine distance\n",
    "def distance_np(c1, c2):\n",
    "    \"\"\"\n",
    "    Calculate the great circle distance between two points\n",
    "    on the earth (specified in decimal degrees)\n",
    "\n",
    "    All args must be of equal length.    \n",
    "\n",
    "    \"\"\"\n",
    "    lon1, lat1 = c1 \n",
    "    lon2, lat2 = c2\n",
    "    \n",
    "    lon2_,lat2_ = lon2,lat2\n",
    "    \n",
    "    lon1, lat1, lon2, lat2 = map(np.radians, [lon1, lat1, lon2, lat2])\n",
    "\n",
    "    dlon = lon2 - lon1\n",
    "    dlat = lat2 - lat1\n",
    "\n",
    "    a = np.sin(dlat/2.0)**2 + np.cos(lat1) * np.cos(lat2) * np.sin(dlon/2.0)**2\n",
    "\n",
    "    c = 2 * np.arcsin(np.sqrt(a))\n",
    "    km = 6367 * c\n",
    "    miles = km/1.609344\n",
    "    return miles"
   ]
  },
  {
   "cell_type": "code",
   "execution_count": 48,
   "metadata": {},
   "outputs": [],
   "source": [
    "large_airport_lat_long_df = airport_df[airport_df.type == 'large_airport'][['latitude_deg', 'longitude_deg']]"
   ]
  },
  {
   "cell_type": "code",
   "execution_count": null,
   "metadata": {},
   "outputs": [],
   "source": [
    "distance_np((41.6613,-91.5299),(large_airport_lat_long_df['latitude_deg'],large_airport_lat_long_df['longitude_deg'])).tolist()"
   ]
  },
  {
   "cell_type": "code",
   "execution_count": 46,
   "metadata": {},
   "outputs": [
    {
     "data": {
      "text/plain": [
       "12.49873655937495"
      ]
     },
     "execution_count": 46,
     "metadata": {},
     "output_type": "execute_result"
    }
   ],
   "source": [
    "min(distance_np((41.6613,-91.5299),(large_airport_lat_long_df['latitude_deg'],large_airport_lat_long_df['longitude_deg'])).tolist())"
   ]
  },
  {
   "cell_type": "markdown",
   "metadata": {},
   "source": [
    "#### differences between different distance metrics\n",
    "It is clear that vincenty is most precise, but haversine is great for quick computation"
   ]
  },
  {
   "cell_type": "code",
   "execution_count": 50,
   "metadata": {},
   "outputs": [
    {
     "data": {
      "text/plain": [
       "3.780708989414044"
      ]
     },
     "execution_count": 50,
     "metadata": {},
     "output_type": "execute_result"
    }
   ],
   "source": [
    "# great circle distance\n",
    "distance((41.6613,-91.5299), (41.680318, -91.598565))"
   ]
  },
  {
   "cell_type": "code",
   "execution_count": 51,
   "metadata": {},
   "outputs": [
    {
     "data": {
      "text/plain": [
       "4.7414498663059712"
      ]
     },
     "execution_count": 51,
     "metadata": {},
     "output_type": "execute_result"
    }
   ],
   "source": [
    "distance_np((41.6613,-91.5299), (41.680318, -91.598565))"
   ]
  },
  {
   "cell_type": "code",
   "execution_count": 52,
   "metadata": {},
   "outputs": [
    {
     "data": {
      "text/plain": [
       "3.787775939330663"
      ]
     },
     "execution_count": 52,
     "metadata": {},
     "output_type": "execute_result"
    }
   ],
   "source": [
    "geopy.distance.vincenty((41.6613,-91.5299), (41.680318, -91.598565)).miles"
   ]
  },
  {
   "cell_type": "markdown",
   "metadata": {},
   "source": [
    "--------------------"
   ]
  },
  {
   "cell_type": "markdown",
   "metadata": {},
   "source": [
    "### NOT USING: function to get closest latitude and longitude given a list of lat/long and a target lat/long"
   ]
  },
  {
   "cell_type": "code",
   "execution_count": null,
   "metadata": {},
   "outputs": [],
   "source": [
    "def closest(data, v):\n",
    "    return min(data, key=lambda p: distance((v['latitude_deg'],v['longitude_deg']),(p['latitude_deg'],p['longitude_deg'])))"
   ]
  },
  {
   "cell_type": "code",
   "execution_count": null,
   "metadata": {},
   "outputs": [],
   "source": [
    "tempDataList = [{'latitude_deg': 39.7612992, 'longitude_deg': -86.1519681}, \n",
    "                {'latitude_deg': 39.762241,  'longitude_deg': -86.158436 }, \n",
    "                {'latitude_deg': 39.7622292, 'longitude_deg': -86.1578917}]\n",
    "\n",
    "v = {'latitude_deg': 39.7622290, 'longitude_deg': -86.1519750}"
   ]
  },
  {
   "cell_type": "code",
   "execution_count": null,
   "metadata": {},
   "outputs": [],
   "source": [
    "closest(tempDataList, v)"
   ]
  },
  {
   "cell_type": "markdown",
   "metadata": {},
   "source": [
    "--------------"
   ]
  },
  {
   "cell_type": "markdown",
   "metadata": {},
   "source": [
    "## add distance&name to closest large airport"
   ]
  },
  {
   "cell_type": "code",
   "execution_count": 214,
   "metadata": {},
   "outputs": [],
   "source": [
    "# maintain a copy of the df before adding new columns\n",
    "df = pd.read_pickle('data/data_with_long_lat.pkl')"
   ]
  },
  {
   "cell_type": "markdown",
   "metadata": {},
   "source": [
    "#### remove all rows without a coordinate"
   ]
  },
  {
   "cell_type": "code",
   "execution_count": 215,
   "metadata": {},
   "outputs": [],
   "source": [
    "df = df[df.geocoded_latitude != \"NA\"]"
   ]
  },
  {
   "cell_type": "markdown",
   "metadata": {},
   "source": [
    "----------"
   ]
  },
  {
   "cell_type": "code",
   "execution_count": 216,
   "metadata": {},
   "outputs": [],
   "source": [
    "df['closest_LARGE_airport_name'] = ''\n",
    "df['closest_LARGE_airport_distance'] = float(\"inf\")\n",
    "\n",
    "df['closest_MEDIUM_airport_name'] = ''\n",
    "df['closest_MEDIUM_airport_distance'] = float(\"inf\")\n",
    "\n",
    "df['closest_SMALL_airport_name'] = ''\n",
    "df['closest_SMALL_airport_distance'] = float(\"inf\")"
   ]
  },
  {
   "cell_type": "code",
   "execution_count": 217,
   "metadata": {},
   "outputs": [
    {
     "data": {
      "text/html": [
       "<div>\n",
       "<table border=\"1\" class=\"dataframe\">\n",
       "  <thead>\n",
       "    <tr style=\"text-align: right;\">\n",
       "      <th></th>\n",
       "      <th>description</th>\n",
       "      <th>duration</th>\n",
       "      <th>location</th>\n",
       "      <th>reported_at</th>\n",
       "      <th>shape</th>\n",
       "      <th>sighted_at</th>\n",
       "      <th>reported_at_date</th>\n",
       "      <th>sighted_at_date</th>\n",
       "      <th>geocoded_latitude</th>\n",
       "      <th>geocoded_longitude</th>\n",
       "      <th>closest_LARGE_airport_name</th>\n",
       "      <th>closest_LARGE_airport_distance</th>\n",
       "      <th>closest_MEDIUM_airport_name</th>\n",
       "      <th>closest_MEDIUM_airport_distance</th>\n",
       "      <th>closest_SMALL_airport_name</th>\n",
       "      <th>closest_SMALL_airport_distance</th>\n",
       "    </tr>\n",
       "  </thead>\n",
       "  <tbody>\n",
       "    <tr>\n",
       "      <th>0</th>\n",
       "      <td>Man repts. witnessing &amp;quot;flash, followed by...</td>\n",
       "      <td></td>\n",
       "      <td>Iowa City, IA</td>\n",
       "      <td>19951009</td>\n",
       "      <td></td>\n",
       "      <td>19951009</td>\n",
       "      <td>1970-08-19 14:56:49</td>\n",
       "      <td>1970-08-19 14:56:49</td>\n",
       "      <td>41.6613</td>\n",
       "      <td>-91.5299</td>\n",
       "      <td></td>\n",
       "      <td>inf</td>\n",
       "      <td></td>\n",
       "      <td>inf</td>\n",
       "      <td></td>\n",
       "      <td>inf</td>\n",
       "    </tr>\n",
       "  </tbody>\n",
       "</table>\n",
       "</div>"
      ],
      "text/plain": [
       "                                         description duration        location  \\\n",
       "0  Man repts. witnessing &quot;flash, followed by...            Iowa City, IA   \n",
       "\n",
       "   reported_at shape  sighted_at     reported_at_date      sighted_at_date  \\\n",
       "0     19951009          19951009  1970-08-19 14:56:49  1970-08-19 14:56:49   \n",
       "\n",
       "  geocoded_latitude geocoded_longitude closest_LARGE_airport_name  \\\n",
       "0           41.6613           -91.5299                              \n",
       "\n",
       "   closest_LARGE_airport_distance closest_MEDIUM_airport_name  \\\n",
       "0                             inf                               \n",
       "\n",
       "   closest_MEDIUM_airport_distance closest_SMALL_airport_name  \\\n",
       "0                              inf                              \n",
       "\n",
       "   closest_SMALL_airport_distance  \n",
       "0                             inf  "
      ]
     },
     "execution_count": 217,
     "metadata": {},
     "output_type": "execute_result"
    }
   ],
   "source": [
    "df.head(1)"
   ]
  },
  {
   "cell_type": "markdown",
   "metadata": {},
   "source": [
    "#### The following takes ~53 minutes to run -- read the resulting df from pickle (data/df_nearest_airports.pkl) instead of running"
   ]
  },
  {
   "cell_type": "code",
   "execution_count": null,
   "metadata": {},
   "outputs": [],
   "source": [
    "t0 = time.time()\n",
    "\n",
    "large_airport_df = airport_df[airport_df.type == 'large_airport']\n",
    "large_airport_df['distance_from_target'] = float(\"inf\")\n",
    "\n",
    "medium_airport_df = airport_df[airport_df.type == 'medium_airport']\n",
    "medium_airport_df['distance_from_target'] = float(\"inf\")\n",
    "\n",
    "small_airport_df = airport_df[airport_df.type == 'small_airport']\n",
    "small_airport_df['distance_from_target'] = float(\"inf\")\n",
    "\n",
    "closed_airport_df = airport_df[airport_df.type == 'closed']\n",
    "closed_airport_df['distance_from_target'] = float(\"inf\")\n",
    "\n",
    "for index,row in df.iterrows():\n",
    "    longitude = row['geocoded_longitude']\n",
    "    latitude = row['geocoded_latitude']\n",
    "\n",
    "    # skip rows without coordinates\n",
    "    if longitude == \"NA\" or latitude == \"NA\":\n",
    "        continue\n",
    "    \n",
    "    large_airport_with_distance_df = large_airport_df.assign(distance_from_target = distance_np((latitude,longitude),(large_airport_df['latitude_deg'],large_airport_df['longitude_deg'])))\n",
    "    smallest_distance_row = large_airport_with_distance_df.nsmallest(1, 'distance_from_target').head(1).squeeze()\n",
    "    closest_LARGE_airport_name = smallest_distance_row['name']\n",
    "    closest_LARGE_airport_distance = smallest_distance_row['distance_from_target']\n",
    "    df.ix[index, 'closest_LARGE_airport_name'] = closest_LARGE_airport_name\n",
    "    df.ix[index, 'closest_LARGE_airport_distance'] = closest_LARGE_airport_distance\n",
    "    \n",
    "    medium_airport_with_distance_df = medium_airport_df.assign(distance_from_target = distance_np((latitude,longitude),(medium_airport_df['latitude_deg'],medium_airport_df['longitude_deg'])))\n",
    "    smallest_distance_row = medium_airport_with_distance_df.nsmallest(1, 'distance_from_target').head(1).squeeze()\n",
    "    closest_MEDIUM_airport_name = smallest_distance_row['name']\n",
    "    closest_MEDIUM_airport_distance = smallest_distance_row['distance_from_target']\n",
    "    df.ix[index, 'closest_MEDIUM_airport_name'] = closest_MEDIUM_airport_name\n",
    "    df.ix[index, 'closest_MEDIUM_airport_distance'] = closest_MEDIUM_airport_distance\n",
    "    \n",
    "    small_airport_with_distance_df = small_airport_df.assign(distance_from_target = distance_np((latitude,longitude),(small_airport_df['latitude_deg'],small_airport_df['longitude_deg'])))\n",
    "    smallest_distance_row = small_airport_with_distance_df.nsmallest(1, 'distance_from_target').head(1).squeeze()\n",
    "    closest_SMALL_airport_name = smallest_distance_row['name']\n",
    "    closest_SMALL_airport_distance = smallest_distance_row['distance_from_target']\n",
    "    df.ix[index, 'closest_SMALL_airport_name'] = closest_SMALL_airport_name\n",
    "    df.ix[index, 'closest_SMALL_airport_distance'] = closest_SMALL_airport_distance\n",
    "    \n",
    "    closed_airport_with_distance_df = closed_airport_df.assign(distance_from_target = distance_np((latitude,longitude),(closed_airport_df['latitude_deg'],closed_airport_df['longitude_deg'])))\n",
    "    smallest_distance_row = closed_airport_with_distance_df.nsmallest(1, 'distance_from_target').head(1).squeeze()\n",
    "    closest_CLOSED_airport_name = smallest_distance_row['name']\n",
    "    closest_CLOSED_airport_distance = smallest_distance_row['distance_from_target']\n",
    "    df.ix[index, 'closest_CLOSED_airport_name'] = closest_CLOSED_airport_name\n",
    "    df.ix[index, 'closest_CLOSED_airport_distance'] = closest_CLOSED_airport_distance\n",
    "    \n",
    "    print index\n",
    "t1 = time.time()\n",
    "print t1-t0"
   ]
  },
  {
   "cell_type": "code",
   "execution_count": 230,
   "metadata": {},
   "outputs": [
    {
     "data": {
      "text/html": [
       "<div>\n",
       "<table border=\"1\" class=\"dataframe\">\n",
       "  <thead>\n",
       "    <tr style=\"text-align: right;\">\n",
       "      <th></th>\n",
       "      <th>description</th>\n",
       "      <th>duration</th>\n",
       "      <th>location</th>\n",
       "      <th>reported_at</th>\n",
       "      <th>shape</th>\n",
       "      <th>sighted_at</th>\n",
       "      <th>reported_at_date</th>\n",
       "      <th>sighted_at_date</th>\n",
       "      <th>geocoded_latitude</th>\n",
       "      <th>geocoded_longitude</th>\n",
       "      <th>closest_LARGE_airport_name</th>\n",
       "      <th>closest_LARGE_airport_distance</th>\n",
       "      <th>closest_MEDIUM_airport_name</th>\n",
       "      <th>closest_MEDIUM_airport_distance</th>\n",
       "      <th>closest_SMALL_airport_name</th>\n",
       "      <th>closest_SMALL_airport_distance</th>\n",
       "      <th>closest_CLOSED_airport_name</th>\n",
       "      <th>closest_CLOSED_airport_distance</th>\n",
       "    </tr>\n",
       "  </thead>\n",
       "  <tbody>\n",
       "    <tr>\n",
       "      <th>0</th>\n",
       "      <td>Man repts. witnessing &amp;quot;flash, followed by...</td>\n",
       "      <td></td>\n",
       "      <td>Iowa City, IA</td>\n",
       "      <td>19951009</td>\n",
       "      <td></td>\n",
       "      <td>19951009</td>\n",
       "      <td>1970-08-19 14:56:49</td>\n",
       "      <td>1970-08-19 14:56:49</td>\n",
       "      <td>41.6613</td>\n",
       "      <td>-91.5299</td>\n",
       "      <td>The Eastern Iowa Airport</td>\n",
       "      <td>12.498008</td>\n",
       "      <td>Chippewa Valley Regional Airport</td>\n",
       "      <td>6.616011</td>\n",
       "      <td>Marion Airport</td>\n",
       "      <td>0.683006</td>\n",
       "      <td>Pete's Patch Airport</td>\n",
       "      <td>3.912630</td>\n",
       "    </tr>\n",
       "    <tr>\n",
       "      <th>1</th>\n",
       "      <td>Man  on Hwy 43 SW of Milwaukee sees large, bri...</td>\n",
       "      <td>2 min.</td>\n",
       "      <td>Milwaukee, WI</td>\n",
       "      <td>19951011</td>\n",
       "      <td></td>\n",
       "      <td>19951010</td>\n",
       "      <td>1970-08-19 14:56:51</td>\n",
       "      <td>1970-08-19 14:56:50</td>\n",
       "      <td>43.035</td>\n",
       "      <td>-87.9225</td>\n",
       "      <td>General Mitchell International Airport</td>\n",
       "      <td>1.801887</td>\n",
       "      <td>Kenosha Regional Airport</td>\n",
       "      <td>1.157715</td>\n",
       "      <td>Herbert C. Maas Airport</td>\n",
       "      <td>1.716202</td>\n",
       "      <td>General Mitchell Intl Heliport</td>\n",
       "      <td>1.552094</td>\n",
       "    </tr>\n",
       "    <tr>\n",
       "      <th>2</th>\n",
       "      <td>Telephoned Report:CA woman visiting daughter w...</td>\n",
       "      <td></td>\n",
       "      <td>Shelton, WA</td>\n",
       "      <td>19950103</td>\n",
       "      <td></td>\n",
       "      <td>19950101</td>\n",
       "      <td>1970-08-19 14:41:43</td>\n",
       "      <td>1970-08-19 14:41:41</td>\n",
       "      <td>47.2151</td>\n",
       "      <td>-123.101</td>\n",
       "      <td>McChord Air Force Base</td>\n",
       "      <td>43.233065</td>\n",
       "      <td>Olympia Regional Airport</td>\n",
       "      <td>16.484896</td>\n",
       "      <td>Sanderson Field</td>\n",
       "      <td>3.339607</td>\n",
       "      <td>Teufel's Farm Strip</td>\n",
       "      <td>64.820703</td>\n",
       "    </tr>\n",
       "    <tr>\n",
       "      <th>3</th>\n",
       "      <td>Man repts. son&amp;apos;s bizarre sighting of smal...</td>\n",
       "      <td>2 min.</td>\n",
       "      <td>Columbia, MO</td>\n",
       "      <td>19950510</td>\n",
       "      <td></td>\n",
       "      <td>19950510</td>\n",
       "      <td>1970-08-19 14:48:30</td>\n",
       "      <td>1970-08-19 14:48:30</td>\n",
       "      <td>38.9519</td>\n",
       "      <td>-92.3337</td>\n",
       "      <td>Bill &amp; Hillary Clinton National Airport/Adams ...</td>\n",
       "      <td>13.834501</td>\n",
       "      <td>Columbia Regional Airport</td>\n",
       "      <td>7.889876</td>\n",
       "      <td>Willhite Airport</td>\n",
       "      <td>3.120229</td>\n",
       "      <td>Iowa Army Natl Guard Heliport</td>\n",
       "      <td>11.244884</td>\n",
       "    </tr>\n",
       "    <tr>\n",
       "      <th>4</th>\n",
       "      <td>Anonymous caller repts. sighting 4 ufo&amp;apos;s ...</td>\n",
       "      <td></td>\n",
       "      <td>Seattle, WA</td>\n",
       "      <td>19950614</td>\n",
       "      <td></td>\n",
       "      <td>19950611</td>\n",
       "      <td>1970-08-19 14:50:14</td>\n",
       "      <td>1970-08-19 14:50:11</td>\n",
       "      <td>47.6038</td>\n",
       "      <td>-122.33</td>\n",
       "      <td>Boeing Field King County International Airport</td>\n",
       "      <td>3.343976</td>\n",
       "      <td>Snohomish County (Paine Field) Airport</td>\n",
       "      <td>11.644950</td>\n",
       "      <td>Renton Municipal Airport</td>\n",
       "      <td>8.871067</td>\n",
       "      <td>Blaine Municipal Airport</td>\n",
       "      <td>58.478816</td>\n",
       "    </tr>\n",
       "  </tbody>\n",
       "</table>\n",
       "</div>"
      ],
      "text/plain": [
       "                                         description duration        location  \\\n",
       "0  Man repts. witnessing &quot;flash, followed by...            Iowa City, IA   \n",
       "1  Man  on Hwy 43 SW of Milwaukee sees large, bri...   2 min.   Milwaukee, WI   \n",
       "2  Telephoned Report:CA woman visiting daughter w...              Shelton, WA   \n",
       "3  Man repts. son&apos;s bizarre sighting of smal...   2 min.    Columbia, MO   \n",
       "4  Anonymous caller repts. sighting 4 ufo&apos;s ...              Seattle, WA   \n",
       "\n",
       "   reported_at shape  sighted_at     reported_at_date      sighted_at_date  \\\n",
       "0     19951009          19951009  1970-08-19 14:56:49  1970-08-19 14:56:49   \n",
       "1     19951011          19951010  1970-08-19 14:56:51  1970-08-19 14:56:50   \n",
       "2     19950103          19950101  1970-08-19 14:41:43  1970-08-19 14:41:41   \n",
       "3     19950510          19950510  1970-08-19 14:48:30  1970-08-19 14:48:30   \n",
       "4     19950614          19950611  1970-08-19 14:50:14  1970-08-19 14:50:11   \n",
       "\n",
       "  geocoded_latitude geocoded_longitude  \\\n",
       "0           41.6613           -91.5299   \n",
       "1            43.035           -87.9225   \n",
       "2           47.2151           -123.101   \n",
       "3           38.9519           -92.3337   \n",
       "4           47.6038            -122.33   \n",
       "\n",
       "                          closest_LARGE_airport_name  \\\n",
       "0                           The Eastern Iowa Airport   \n",
       "1             General Mitchell International Airport   \n",
       "2                             McChord Air Force Base   \n",
       "3  Bill & Hillary Clinton National Airport/Adams ...   \n",
       "4     Boeing Field King County International Airport   \n",
       "\n",
       "   closest_LARGE_airport_distance             closest_MEDIUM_airport_name  \\\n",
       "0                       12.498008        Chippewa Valley Regional Airport   \n",
       "1                        1.801887                Kenosha Regional Airport   \n",
       "2                       43.233065                Olympia Regional Airport   \n",
       "3                       13.834501               Columbia Regional Airport   \n",
       "4                        3.343976  Snohomish County (Paine Field) Airport   \n",
       "\n",
       "   closest_MEDIUM_airport_distance closest_SMALL_airport_name  \\\n",
       "0                         6.616011             Marion Airport   \n",
       "1                         1.157715    Herbert C. Maas Airport   \n",
       "2                        16.484896            Sanderson Field   \n",
       "3                         7.889876           Willhite Airport   \n",
       "4                        11.644950   Renton Municipal Airport   \n",
       "\n",
       "   closest_SMALL_airport_distance     closest_CLOSED_airport_name  \\\n",
       "0                        0.683006            Pete's Patch Airport   \n",
       "1                        1.716202  General Mitchell Intl Heliport   \n",
       "2                        3.339607             Teufel's Farm Strip   \n",
       "3                        3.120229   Iowa Army Natl Guard Heliport   \n",
       "4                        8.871067        Blaine Municipal Airport   \n",
       "\n",
       "   closest_CLOSED_airport_distance  \n",
       "0                         3.912630  \n",
       "1                         1.552094  \n",
       "2                        64.820703  \n",
       "3                        11.244884  \n",
       "4                        58.478816  "
      ]
     },
     "execution_count": 230,
     "metadata": {},
     "output_type": "execute_result"
    }
   ],
   "source": [
    "df.head(5)"
   ]
  },
  {
   "cell_type": "markdown",
   "metadata": {},
   "source": [
    "#### save df to pickle"
   ]
  },
  {
   "cell_type": "code",
   "execution_count": 44,
   "metadata": {},
   "outputs": [],
   "source": [
    "df.to_pickle('data/df_nearest_airports.pkl')"
   ]
  },
  {
   "cell_type": "code",
   "execution_count": 45,
   "metadata": {},
   "outputs": [],
   "source": [
    "df.to_csv('data/df_nearest_airports.csv',encoding='utf-8')"
   ]
  },
  {
   "cell_type": "code",
   "execution_count": null,
   "metadata": {},
   "outputs": [],
   "source": []
  },
  {
   "cell_type": "code",
   "execution_count": 16,
   "metadata": {},
   "outputs": [],
   "source": [
    "df = pd.read_pickle('data/df_nearest_airports.pkl')"
   ]
  },
  {
   "cell_type": "markdown",
   "metadata": {},
   "source": [
    "-------"
   ]
  },
  {
   "cell_type": "code",
   "execution_count": 30,
   "metadata": {},
   "outputs": [
    {
     "data": {
      "text/html": [
       "<div>\n",
       "<table border=\"1\" class=\"dataframe\">\n",
       "  <thead>\n",
       "    <tr style=\"text-align: right;\">\n",
       "      <th></th>\n",
       "      <th>description</th>\n",
       "      <th>duration</th>\n",
       "      <th>location</th>\n",
       "      <th>reported_at</th>\n",
       "      <th>shape</th>\n",
       "      <th>sighted_at</th>\n",
       "      <th>reported_at_date</th>\n",
       "      <th>sighted_at_date</th>\n",
       "      <th>geocoded_latitude</th>\n",
       "      <th>geocoded_longitude</th>\n",
       "      <th>closest_LARGE_airport_name</th>\n",
       "      <th>closest_LARGE_airport_distance</th>\n",
       "      <th>closest_MEDIUM_airport_name</th>\n",
       "      <th>closest_MEDIUM_airport_distance</th>\n",
       "      <th>closest_SMALL_airport_name</th>\n",
       "      <th>closest_SMALL_airport_distance</th>\n",
       "      <th>closest_CLOSED_airport_name</th>\n",
       "      <th>closest_CLOSED_airport_distance</th>\n",
       "      <th>closest_airport_distance</th>\n",
       "      <th>closest_airport_name</th>\n",
       "    </tr>\n",
       "  </thead>\n",
       "  <tbody>\n",
       "    <tr>\n",
       "      <th>0</th>\n",
       "      <td>Man repts. witnessing &amp;quot;flash, followed by...</td>\n",
       "      <td></td>\n",
       "      <td>Iowa City, IA</td>\n",
       "      <td>19951009</td>\n",
       "      <td></td>\n",
       "      <td>19951009</td>\n",
       "      <td>1970-08-19 14:56:49</td>\n",
       "      <td>1970-08-19 14:56:49</td>\n",
       "      <td>41.6613</td>\n",
       "      <td>-91.5299</td>\n",
       "      <td>The Eastern Iowa Airport</td>\n",
       "      <td>12.498008</td>\n",
       "      <td>Chippewa Valley Regional Airport</td>\n",
       "      <td>6.616011</td>\n",
       "      <td>Marion Airport</td>\n",
       "      <td>0.683006</td>\n",
       "      <td>Pete's Patch Airport</td>\n",
       "      <td>3.912630</td>\n",
       "      <td>0.683006</td>\n",
       "      <td>Marion Airport</td>\n",
       "    </tr>\n",
       "    <tr>\n",
       "      <th>1</th>\n",
       "      <td>Man  on Hwy 43 SW of Milwaukee sees large, bri...</td>\n",
       "      <td>2 min.</td>\n",
       "      <td>Milwaukee, WI</td>\n",
       "      <td>19951011</td>\n",
       "      <td></td>\n",
       "      <td>19951010</td>\n",
       "      <td>1970-08-19 14:56:51</td>\n",
       "      <td>1970-08-19 14:56:50</td>\n",
       "      <td>43.035</td>\n",
       "      <td>-87.9225</td>\n",
       "      <td>General Mitchell International Airport</td>\n",
       "      <td>1.801887</td>\n",
       "      <td>Kenosha Regional Airport</td>\n",
       "      <td>1.157715</td>\n",
       "      <td>Herbert C. Maas Airport</td>\n",
       "      <td>1.716202</td>\n",
       "      <td>General Mitchell Intl Heliport</td>\n",
       "      <td>1.552094</td>\n",
       "      <td>1.157715</td>\n",
       "      <td>Kenosha Regional Airport</td>\n",
       "    </tr>\n",
       "    <tr>\n",
       "      <th>2</th>\n",
       "      <td>Telephoned Report:CA woman visiting daughter w...</td>\n",
       "      <td></td>\n",
       "      <td>Shelton, WA</td>\n",
       "      <td>19950103</td>\n",
       "      <td></td>\n",
       "      <td>19950101</td>\n",
       "      <td>1970-08-19 14:41:43</td>\n",
       "      <td>1970-08-19 14:41:41</td>\n",
       "      <td>47.2151</td>\n",
       "      <td>-123.101</td>\n",
       "      <td>McChord Air Force Base</td>\n",
       "      <td>43.233065</td>\n",
       "      <td>Olympia Regional Airport</td>\n",
       "      <td>16.484896</td>\n",
       "      <td>Sanderson Field</td>\n",
       "      <td>3.339607</td>\n",
       "      <td>Teufel's Farm Strip</td>\n",
       "      <td>64.820703</td>\n",
       "      <td>3.339607</td>\n",
       "      <td>Sanderson Field</td>\n",
       "    </tr>\n",
       "    <tr>\n",
       "      <th>3</th>\n",
       "      <td>Man repts. son&amp;apos;s bizarre sighting of smal...</td>\n",
       "      <td>2 min.</td>\n",
       "      <td>Columbia, MO</td>\n",
       "      <td>19950510</td>\n",
       "      <td></td>\n",
       "      <td>19950510</td>\n",
       "      <td>1970-08-19 14:48:30</td>\n",
       "      <td>1970-08-19 14:48:30</td>\n",
       "      <td>38.9519</td>\n",
       "      <td>-92.3337</td>\n",
       "      <td>Bill &amp; Hillary Clinton National Airport/Adams ...</td>\n",
       "      <td>13.834501</td>\n",
       "      <td>Columbia Regional Airport</td>\n",
       "      <td>7.889876</td>\n",
       "      <td>Willhite Airport</td>\n",
       "      <td>3.120229</td>\n",
       "      <td>Iowa Army Natl Guard Heliport</td>\n",
       "      <td>11.244884</td>\n",
       "      <td>3.120229</td>\n",
       "      <td>Willhite Airport</td>\n",
       "    </tr>\n",
       "    <tr>\n",
       "      <th>4</th>\n",
       "      <td>Anonymous caller repts. sighting 4 ufo&amp;apos;s ...</td>\n",
       "      <td></td>\n",
       "      <td>Seattle, WA</td>\n",
       "      <td>19950614</td>\n",
       "      <td></td>\n",
       "      <td>19950611</td>\n",
       "      <td>1970-08-19 14:50:14</td>\n",
       "      <td>1970-08-19 14:50:11</td>\n",
       "      <td>47.6038</td>\n",
       "      <td>-122.33</td>\n",
       "      <td>Boeing Field King County International Airport</td>\n",
       "      <td>3.343976</td>\n",
       "      <td>Snohomish County (Paine Field) Airport</td>\n",
       "      <td>11.644950</td>\n",
       "      <td>Renton Municipal Airport</td>\n",
       "      <td>8.871067</td>\n",
       "      <td>Blaine Municipal Airport</td>\n",
       "      <td>58.478816</td>\n",
       "      <td>3.343976</td>\n",
       "      <td>Boeing Field King County International Airport</td>\n",
       "    </tr>\n",
       "  </tbody>\n",
       "</table>\n",
       "</div>"
      ],
      "text/plain": [
       "                                         description duration        location  \\\n",
       "0  Man repts. witnessing &quot;flash, followed by...            Iowa City, IA   \n",
       "1  Man  on Hwy 43 SW of Milwaukee sees large, bri...   2 min.   Milwaukee, WI   \n",
       "2  Telephoned Report:CA woman visiting daughter w...              Shelton, WA   \n",
       "3  Man repts. son&apos;s bizarre sighting of smal...   2 min.    Columbia, MO   \n",
       "4  Anonymous caller repts. sighting 4 ufo&apos;s ...              Seattle, WA   \n",
       "\n",
       "   reported_at shape  sighted_at     reported_at_date      sighted_at_date  \\\n",
       "0     19951009          19951009  1970-08-19 14:56:49  1970-08-19 14:56:49   \n",
       "1     19951011          19951010  1970-08-19 14:56:51  1970-08-19 14:56:50   \n",
       "2     19950103          19950101  1970-08-19 14:41:43  1970-08-19 14:41:41   \n",
       "3     19950510          19950510  1970-08-19 14:48:30  1970-08-19 14:48:30   \n",
       "4     19950614          19950611  1970-08-19 14:50:14  1970-08-19 14:50:11   \n",
       "\n",
       "  geocoded_latitude geocoded_longitude  \\\n",
       "0           41.6613           -91.5299   \n",
       "1            43.035           -87.9225   \n",
       "2           47.2151           -123.101   \n",
       "3           38.9519           -92.3337   \n",
       "4           47.6038            -122.33   \n",
       "\n",
       "                          closest_LARGE_airport_name  \\\n",
       "0                           The Eastern Iowa Airport   \n",
       "1             General Mitchell International Airport   \n",
       "2                             McChord Air Force Base   \n",
       "3  Bill & Hillary Clinton National Airport/Adams ...   \n",
       "4     Boeing Field King County International Airport   \n",
       "\n",
       "   closest_LARGE_airport_distance             closest_MEDIUM_airport_name  \\\n",
       "0                       12.498008        Chippewa Valley Regional Airport   \n",
       "1                        1.801887                Kenosha Regional Airport   \n",
       "2                       43.233065                Olympia Regional Airport   \n",
       "3                       13.834501               Columbia Regional Airport   \n",
       "4                        3.343976  Snohomish County (Paine Field) Airport   \n",
       "\n",
       "   closest_MEDIUM_airport_distance closest_SMALL_airport_name  \\\n",
       "0                         6.616011             Marion Airport   \n",
       "1                         1.157715    Herbert C. Maas Airport   \n",
       "2                        16.484896            Sanderson Field   \n",
       "3                         7.889876           Willhite Airport   \n",
       "4                        11.644950   Renton Municipal Airport   \n",
       "\n",
       "   closest_SMALL_airport_distance     closest_CLOSED_airport_name  \\\n",
       "0                        0.683006            Pete's Patch Airport   \n",
       "1                        1.716202  General Mitchell Intl Heliport   \n",
       "2                        3.339607             Teufel's Farm Strip   \n",
       "3                        3.120229   Iowa Army Natl Guard Heliport   \n",
       "4                        8.871067        Blaine Municipal Airport   \n",
       "\n",
       "   closest_CLOSED_airport_distance  closest_airport_distance  \\\n",
       "0                         3.912630                  0.683006   \n",
       "1                         1.552094                  1.157715   \n",
       "2                        64.820703                  3.339607   \n",
       "3                        11.244884                  3.120229   \n",
       "4                        58.478816                  3.343976   \n",
       "\n",
       "                             closest_airport_name  \n",
       "0                                  Marion Airport  \n",
       "1                        Kenosha Regional Airport  \n",
       "2                                 Sanderson Field  \n",
       "3                                Willhite Airport  \n",
       "4  Boeing Field King County International Airport  "
      ]
     },
     "execution_count": 30,
     "metadata": {},
     "output_type": "execute_result"
    }
   ],
   "source": [
    "df.head()"
   ]
  },
  {
   "cell_type": "code",
   "execution_count": 18,
   "metadata": {},
   "outputs": [],
   "source": [
    "df['closest_airport_distance'] = df.loc[:, ['closest_LARGE_airport_distance', 'closest_MEDIUM_airport_distance', 'closest_SMALL_airport_distance']].min(axis=1)"
   ]
  },
  {
   "cell_type": "code",
   "execution_count": 26,
   "metadata": {},
   "outputs": [],
   "source": [
    "df['closest_airport_name'] = \"\"\n",
    "for index,row in df.iterrows():\n",
    "    closest_airport = row['closest_airport_distance']\n",
    "    \n",
    "    if closest_airport == row['closest_LARGE_airport_distance']:\n",
    "        df.ix[index, 'closest_airport_name'] = row['closest_LARGE_airport_name']\n",
    "    elif closest_airport == row['closest_MEDIUM_airport_distance']:\n",
    "        df.ix[index, 'closest_airport_name'] = row['closest_MEDIUM_airport_name']\n",
    "    else:\n",
    "        df.ix[index, 'closest_airport_name'] = row['closest_SMALL_airport_name']"
   ]
  },
  {
   "cell_type": "markdown",
   "metadata": {},
   "source": [
    "------"
   ]
  },
  {
   "cell_type": "code",
   "execution_count": 47,
   "metadata": {},
   "outputs": [
    {
     "data": {
      "text/plain": [
       "[41.6612561, -91.5299106, u'Iowa City', u'Iowa', u'us']"
      ]
     },
     "execution_count": 47,
     "metadata": {},
     "output_type": "execute_result"
    }
   ],
   "source": [
    "location_dict = json.load(open(\"cached_location/location_cache.txt\"))\n",
    "\n",
    "location_dict[' Iowa City, IA']"
   ]
  },
  {
   "cell_type": "markdown",
   "metadata": {},
   "source": [
    "#### add city and state as columns"
   ]
  },
  {
   "cell_type": "code",
   "execution_count": 48,
   "metadata": {},
   "outputs": [],
   "source": [
    "df = pd.read_pickle('data/df_nearest_airports.pkl')"
   ]
  },
  {
   "cell_type": "code",
   "execution_count": 50,
   "metadata": {},
   "outputs": [
    {
     "data": {
      "text/html": [
       "<div>\n",
       "<table border=\"1\" class=\"dataframe\">\n",
       "  <thead>\n",
       "    <tr style=\"text-align: right;\">\n",
       "      <th></th>\n",
       "      <th>description</th>\n",
       "      <th>duration</th>\n",
       "      <th>location</th>\n",
       "      <th>reported_at</th>\n",
       "      <th>shape</th>\n",
       "      <th>sighted_at</th>\n",
       "      <th>geocoded_latitude</th>\n",
       "      <th>geocoded_longitude</th>\n",
       "      <th>closest_LARGE_airport_name</th>\n",
       "      <th>closest_LARGE_airport_distance</th>\n",
       "      <th>closest_MEDIUM_airport_name</th>\n",
       "      <th>closest_MEDIUM_airport_distance</th>\n",
       "      <th>closest_SMALL_airport_name</th>\n",
       "      <th>closest_SMALL_airport_distance</th>\n",
       "      <th>closest_CLOSED_airport_name</th>\n",
       "      <th>closest_CLOSED_airport_distance</th>\n",
       "      <th>closest_airport_distance</th>\n",
       "      <th>closest_airport_name</th>\n",
       "    </tr>\n",
       "  </thead>\n",
       "  <tbody>\n",
       "    <tr>\n",
       "      <th>0</th>\n",
       "      <td>Man repts. witnessing &amp;quot;flash, followed by...</td>\n",
       "      <td></td>\n",
       "      <td>Iowa City, IA</td>\n",
       "      <td>19951009</td>\n",
       "      <td></td>\n",
       "      <td>19951009</td>\n",
       "      <td>41.6613</td>\n",
       "      <td>-91.5299</td>\n",
       "      <td>The Eastern Iowa Airport</td>\n",
       "      <td>12.498008</td>\n",
       "      <td>Chippewa Valley Regional Airport</td>\n",
       "      <td>6.616011</td>\n",
       "      <td>Marion Airport</td>\n",
       "      <td>0.683006</td>\n",
       "      <td>Pete's Patch Airport</td>\n",
       "      <td>3.91263</td>\n",
       "      <td>0.683006</td>\n",
       "      <td>Marion Airport</td>\n",
       "    </tr>\n",
       "  </tbody>\n",
       "</table>\n",
       "</div>"
      ],
      "text/plain": [
       "                                         description duration        location  \\\n",
       "0  Man repts. witnessing &quot;flash, followed by...            Iowa City, IA   \n",
       "\n",
       "   reported_at shape  sighted_at geocoded_latitude geocoded_longitude  \\\n",
       "0     19951009          19951009           41.6613           -91.5299   \n",
       "\n",
       "  closest_LARGE_airport_name  closest_LARGE_airport_distance  \\\n",
       "0   The Eastern Iowa Airport                       12.498008   \n",
       "\n",
       "        closest_MEDIUM_airport_name  closest_MEDIUM_airport_distance  \\\n",
       "0  Chippewa Valley Regional Airport                         6.616011   \n",
       "\n",
       "  closest_SMALL_airport_name  closest_SMALL_airport_distance  \\\n",
       "0             Marion Airport                        0.683006   \n",
       "\n",
       "  closest_CLOSED_airport_name  closest_CLOSED_airport_distance  \\\n",
       "0        Pete's Patch Airport                          3.91263   \n",
       "\n",
       "   closest_airport_distance closest_airport_name  \n",
       "0                  0.683006       Marion Airport  "
      ]
     },
     "execution_count": 50,
     "metadata": {},
     "output_type": "execute_result"
    }
   ],
   "source": [
    "df.head(1)"
   ]
  },
  {
   "cell_type": "code",
   "execution_count": 51,
   "metadata": {},
   "outputs": [],
   "source": [
    "df['city'] = \"\"\n",
    "df['state'] = \"\"\n",
    "for index,row in df.iterrows():\n",
    "    location = row['location']\n",
    "    lat,lon,city,state,country = location_dict[location]\n",
    "    df.ix[index, 'city'] = city\n",
    "    df.ix[index, 'state'] = state"
   ]
  },
  {
   "cell_type": "code",
   "execution_count": 52,
   "metadata": {},
   "outputs": [
    {
     "data": {
      "text/html": [
       "<div>\n",
       "<table border=\"1\" class=\"dataframe\">\n",
       "  <thead>\n",
       "    <tr style=\"text-align: right;\">\n",
       "      <th></th>\n",
       "      <th>description</th>\n",
       "      <th>duration</th>\n",
       "      <th>location</th>\n",
       "      <th>reported_at</th>\n",
       "      <th>shape</th>\n",
       "      <th>sighted_at</th>\n",
       "      <th>geocoded_latitude</th>\n",
       "      <th>geocoded_longitude</th>\n",
       "      <th>closest_LARGE_airport_name</th>\n",
       "      <th>closest_LARGE_airport_distance</th>\n",
       "      <th>closest_MEDIUM_airport_name</th>\n",
       "      <th>closest_MEDIUM_airport_distance</th>\n",
       "      <th>closest_SMALL_airport_name</th>\n",
       "      <th>closest_SMALL_airport_distance</th>\n",
       "      <th>closest_CLOSED_airport_name</th>\n",
       "      <th>closest_CLOSED_airport_distance</th>\n",
       "      <th>closest_airport_distance</th>\n",
       "      <th>closest_airport_name</th>\n",
       "      <th>city</th>\n",
       "      <th>state</th>\n",
       "    </tr>\n",
       "  </thead>\n",
       "  <tbody>\n",
       "    <tr>\n",
       "      <th>0</th>\n",
       "      <td>Man repts. witnessing &amp;quot;flash, followed by...</td>\n",
       "      <td></td>\n",
       "      <td>Iowa City, IA</td>\n",
       "      <td>19951009</td>\n",
       "      <td></td>\n",
       "      <td>19951009</td>\n",
       "      <td>41.6613</td>\n",
       "      <td>-91.5299</td>\n",
       "      <td>The Eastern Iowa Airport</td>\n",
       "      <td>12.498008</td>\n",
       "      <td>Chippewa Valley Regional Airport</td>\n",
       "      <td>6.616011</td>\n",
       "      <td>Marion Airport</td>\n",
       "      <td>0.683006</td>\n",
       "      <td>Pete's Patch Airport</td>\n",
       "      <td>3.912630</td>\n",
       "      <td>0.683006</td>\n",
       "      <td>Marion Airport</td>\n",
       "      <td>Iowa City</td>\n",
       "      <td>Iowa</td>\n",
       "    </tr>\n",
       "    <tr>\n",
       "      <th>1</th>\n",
       "      <td>Man  on Hwy 43 SW of Milwaukee sees large, bri...</td>\n",
       "      <td>2 min.</td>\n",
       "      <td>Milwaukee, WI</td>\n",
       "      <td>19951011</td>\n",
       "      <td></td>\n",
       "      <td>19951010</td>\n",
       "      <td>43.035</td>\n",
       "      <td>-87.9225</td>\n",
       "      <td>General Mitchell International Airport</td>\n",
       "      <td>1.801887</td>\n",
       "      <td>Kenosha Regional Airport</td>\n",
       "      <td>1.157715</td>\n",
       "      <td>Herbert C. Maas Airport</td>\n",
       "      <td>1.716202</td>\n",
       "      <td>General Mitchell Intl Heliport</td>\n",
       "      <td>1.552094</td>\n",
       "      <td>1.157715</td>\n",
       "      <td>Kenosha Regional Airport</td>\n",
       "      <td>Milwaukee</td>\n",
       "      <td>Wisconsin</td>\n",
       "    </tr>\n",
       "    <tr>\n",
       "      <th>2</th>\n",
       "      <td>Telephoned Report:CA woman visiting daughter w...</td>\n",
       "      <td></td>\n",
       "      <td>Shelton, WA</td>\n",
       "      <td>19950103</td>\n",
       "      <td></td>\n",
       "      <td>19950101</td>\n",
       "      <td>47.2151</td>\n",
       "      <td>-123.101</td>\n",
       "      <td>McChord Air Force Base</td>\n",
       "      <td>43.233065</td>\n",
       "      <td>Olympia Regional Airport</td>\n",
       "      <td>16.484896</td>\n",
       "      <td>Sanderson Field</td>\n",
       "      <td>3.339607</td>\n",
       "      <td>Teufel's Farm Strip</td>\n",
       "      <td>64.820703</td>\n",
       "      <td>3.339607</td>\n",
       "      <td>Sanderson Field</td>\n",
       "      <td>Shelton</td>\n",
       "      <td>Washington</td>\n",
       "    </tr>\n",
       "    <tr>\n",
       "      <th>3</th>\n",
       "      <td>Man repts. son&amp;apos;s bizarre sighting of smal...</td>\n",
       "      <td>2 min.</td>\n",
       "      <td>Columbia, MO</td>\n",
       "      <td>19950510</td>\n",
       "      <td></td>\n",
       "      <td>19950510</td>\n",
       "      <td>38.9519</td>\n",
       "      <td>-92.3337</td>\n",
       "      <td>Bill &amp; Hillary Clinton National Airport/Adams ...</td>\n",
       "      <td>13.834501</td>\n",
       "      <td>Columbia Regional Airport</td>\n",
       "      <td>7.889876</td>\n",
       "      <td>Willhite Airport</td>\n",
       "      <td>3.120229</td>\n",
       "      <td>Iowa Army Natl Guard Heliport</td>\n",
       "      <td>11.244884</td>\n",
       "      <td>3.120229</td>\n",
       "      <td>Willhite Airport</td>\n",
       "      <td>Columbia</td>\n",
       "      <td>Missouri</td>\n",
       "    </tr>\n",
       "    <tr>\n",
       "      <th>4</th>\n",
       "      <td>Anonymous caller repts. sighting 4 ufo&amp;apos;s ...</td>\n",
       "      <td></td>\n",
       "      <td>Seattle, WA</td>\n",
       "      <td>19950614</td>\n",
       "      <td></td>\n",
       "      <td>19950611</td>\n",
       "      <td>47.6038</td>\n",
       "      <td>-122.33</td>\n",
       "      <td>Boeing Field King County International Airport</td>\n",
       "      <td>3.343976</td>\n",
       "      <td>Snohomish County (Paine Field) Airport</td>\n",
       "      <td>11.644950</td>\n",
       "      <td>Renton Municipal Airport</td>\n",
       "      <td>8.871067</td>\n",
       "      <td>Blaine Municipal Airport</td>\n",
       "      <td>58.478816</td>\n",
       "      <td>3.343976</td>\n",
       "      <td>Boeing Field King County International Airport</td>\n",
       "      <td>Seattle</td>\n",
       "      <td>Washington</td>\n",
       "    </tr>\n",
       "  </tbody>\n",
       "</table>\n",
       "</div>"
      ],
      "text/plain": [
       "                                         description duration        location  \\\n",
       "0  Man repts. witnessing &quot;flash, followed by...            Iowa City, IA   \n",
       "1  Man  on Hwy 43 SW of Milwaukee sees large, bri...   2 min.   Milwaukee, WI   \n",
       "2  Telephoned Report:CA woman visiting daughter w...              Shelton, WA   \n",
       "3  Man repts. son&apos;s bizarre sighting of smal...   2 min.    Columbia, MO   \n",
       "4  Anonymous caller repts. sighting 4 ufo&apos;s ...              Seattle, WA   \n",
       "\n",
       "   reported_at shape  sighted_at geocoded_latitude geocoded_longitude  \\\n",
       "0     19951009          19951009           41.6613           -91.5299   \n",
       "1     19951011          19951010            43.035           -87.9225   \n",
       "2     19950103          19950101           47.2151           -123.101   \n",
       "3     19950510          19950510           38.9519           -92.3337   \n",
       "4     19950614          19950611           47.6038            -122.33   \n",
       "\n",
       "                          closest_LARGE_airport_name  \\\n",
       "0                           The Eastern Iowa Airport   \n",
       "1             General Mitchell International Airport   \n",
       "2                             McChord Air Force Base   \n",
       "3  Bill & Hillary Clinton National Airport/Adams ...   \n",
       "4     Boeing Field King County International Airport   \n",
       "\n",
       "   closest_LARGE_airport_distance             closest_MEDIUM_airport_name  \\\n",
       "0                       12.498008        Chippewa Valley Regional Airport   \n",
       "1                        1.801887                Kenosha Regional Airport   \n",
       "2                       43.233065                Olympia Regional Airport   \n",
       "3                       13.834501               Columbia Regional Airport   \n",
       "4                        3.343976  Snohomish County (Paine Field) Airport   \n",
       "\n",
       "   closest_MEDIUM_airport_distance closest_SMALL_airport_name  \\\n",
       "0                         6.616011             Marion Airport   \n",
       "1                         1.157715    Herbert C. Maas Airport   \n",
       "2                        16.484896            Sanderson Field   \n",
       "3                         7.889876           Willhite Airport   \n",
       "4                        11.644950   Renton Municipal Airport   \n",
       "\n",
       "   closest_SMALL_airport_distance     closest_CLOSED_airport_name  \\\n",
       "0                        0.683006            Pete's Patch Airport   \n",
       "1                        1.716202  General Mitchell Intl Heliport   \n",
       "2                        3.339607             Teufel's Farm Strip   \n",
       "3                        3.120229   Iowa Army Natl Guard Heliport   \n",
       "4                        8.871067        Blaine Municipal Airport   \n",
       "\n",
       "   closest_CLOSED_airport_distance  closest_airport_distance  \\\n",
       "0                         3.912630                  0.683006   \n",
       "1                         1.552094                  1.157715   \n",
       "2                        64.820703                  3.339607   \n",
       "3                        11.244884                  3.120229   \n",
       "4                        58.478816                  3.343976   \n",
       "\n",
       "                             closest_airport_name       city       state  \n",
       "0                                  Marion Airport  Iowa City        Iowa  \n",
       "1                        Kenosha Regional Airport  Milwaukee   Wisconsin  \n",
       "2                                 Sanderson Field    Shelton  Washington  \n",
       "3                                Willhite Airport   Columbia    Missouri  \n",
       "4  Boeing Field King County International Airport    Seattle  Washington  "
      ]
     },
     "execution_count": 52,
     "metadata": {},
     "output_type": "execute_result"
    }
   ],
   "source": [
    "df.head()"
   ]
  },
  {
   "cell_type": "code",
   "execution_count": null,
   "metadata": {},
   "outputs": [],
   "source": []
  }
 ],
 "metadata": {
  "kernelspec": {
   "display_name": "Python 2",
   "language": "python",
   "name": "python2"
  },
  "language_info": {
   "codemirror_mode": {
    "name": "ipython",
    "version": 2
   },
   "file_extension": ".py",
   "mimetype": "text/x-python",
   "name": "python",
   "nbconvert_exporter": "python",
   "pygments_lexer": "ipython2",
   "version": "2.7.14"
  }
 },
 "nbformat": 4,
 "nbformat_minor": 2
}
