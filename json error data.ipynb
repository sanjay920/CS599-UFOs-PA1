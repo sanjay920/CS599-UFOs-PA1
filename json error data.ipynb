{
 "cells": [
  {
   "cell_type": "code",
   "execution_count": 2,
   "metadata": {},
   "outputs": [],
   "source": [
    "import pandas as pd\n",
    "import json"
   ]
  },
  {
   "cell_type": "code",
   "execution_count": 43,
   "metadata": {},
   "outputs": [
    {
     "name": "stdout",
     "output_type": "stream",
     "text": [
      "{\"sighted_at\": \"19730522\", \"reported_at\": \"20100731\", \"location\": \" Atlantic Ocean (USCG Cutter \"Spencer\"),\", \"shape\": \"\", \"duration\": \"\", \"description\": \"UFO sighting aboard Coast Guard Cutter SpencerAs per your phone call earlier today, I will restate what we experienced while aboard the Coast Guard Cutter Spencer WHEC-36, (commissioned in 1936 and decommissioned in 1974.  There is a new Spencer in service, but this is not the one I was aboard.  My ship was a 327 ft Cutter.  It can be viewed if you google Coast Guard Cutter Spencer WHEC-36.  I have tried to the best of my ability to recall the date, but since we stood so many Ocean Stations, it is hard to remember which of those this occured.  The conditions were warm, seas calm, and sighting occured during the night.  There were 140 mean aboard the Spencer, and a large number of my fellow crewmen witnessed what I did.  Officers and enlisted men saw what I saw.  I remember a ((specialty deleted)) had some state-of-the-art photo equipment.  I think he had an Olympus camera with telephoto lens.  He was at least one crewmen photographing this UFO.  We were in the middile of the Atlantic, all running ligh! ts on as usual.  I remember someone saying come on deck, there&apos;s a UFO.  The UFO had bright lights that changed color.  It was if the UFO was checking us out.  A ship with all its running lights on would be easily seen from above in the Atantic.  I was ((specialty deleted)).  Some names I remember were fellow ((specialties deleted)).  ((name #1 deleted)), ((name #2 deleted)) and ((name #3 deleted)).  I can&apos;t be sure they were aboard for this Duty, but I&apos;m sure at least one was.  I can not remember the others.  The UFO would come down hovering above us.  We could see what I would describe as portholes.  I rotated as it hovered.  The lights changed color.  Then it would go up in a second becoming very small.  Then it seemed to show off, as if it knew we were watching it.  It would accelerate across the sky in a split second while doing right angles.  Many photos of this craft were taken with telephoto lens.  I remember I couldn&apos;t wait to see the photos after they were developed.  I never saw them.  The show lasted about an hour.  Messages of this sighting were sent to Washington, DC.!  When we were relieved from Ocean Station Duty, we headed back to Governor&apos;s Island, Yankee Pier, where was our home port.  We were not expecting the reception that we received.  As we were docking, I saw quite a few &quot;Men In Black&quot; waiting to board our ship.  Usually after docking, if you did not have duty, we were granted liberty of usually 72 hours.  No one was allowed to leave the ship.  We were all interrogated one by one by these &quot;Men In Black&quot;.  We were told to sign an affidavit, stating we saw nothing.  We were warned that if we mention this to anyone, we would be gone.  We were told not to go to any news media, and try and tell this story.  If we did, we would be prosecuted by the govenment.  I found out later that my friend, the ((specialty deleted)) had all of his photo equipment, pictures, and developing equipment confiscated.  He was not reimbursed for any of his expensive equipment, it was simply taken from him.  I will end the story here, to be brief as possible.  Please give me a call at ((number deleted)) my home phone after recieving this, so I know you received it.  Please keep this confidential as possible.  I&apos;m sure you will.  I will research the Internent and my old photos, to see if I can get some crewmember names.Thank you,((NUFORC Note:  Witness indicates that the date of the sighting in the early 1970&apos;s is approximate.  We spoke via telephone with this witness, and he seemed to us to be an exceptionally good observer, and reporter of fact.  PD))((ADDENDUM #1 FROM WITNESS))Ref:  UFO sighting CGC Spencer.I await further correspondence.I have obtained quite a few names and their ranks of men who served aboard the CGC Spencer.  I have tried to contact as many as possible by leaving my email at a web site devoted to those who served aboard the CGC Spencer.  No one has responded as yet, but this is one of those sites where you post comments on a board.  If you would like to check the site out its www.fred&apos;splace.org  then at the right site click on CGC Cutters M thru Z, then Spencer, then during the 70&apos;s. I am not sure if I sent you an email address, so you may contact me at ((name deleted))   I appreciate your confidentiality of all info supplied.  Do you have a time frame needed before going on the air again?   I have agreed to be on your program.Thank You!((END ADDENDUM #1))((BEGIN ADDENDUM #2))I have roughly 30 names of my shipmates, as well as, the captain and 1st Lt of Operations&apos; names.  I will not enter their names in this box as instructed.  I will await further correspondence.  Are you still planning to have me as a guest on the radio?  Thank You((END ADDENDUM #2))\"}\n",
      "\n"
     ]
    }
   ],
   "source": [
    "# read json file\n",
    "with open('data/ufo_awesome.json') as data_file:\n",
    "#     data = json.load(data_file)\n",
    "    data = []\n",
    "    errors = 0\n",
    "    for line in data_file:\n",
    "        try:\n",
    "            data.append(json.loads(line))\n",
    "        except ValueError:\n",
    "            errors += 1\n",
    "#             error_line = line\n",
    "            print line\n",
    "            b"
   ]
  },
  {
   "cell_type": "code",
   "execution_count": 44,
   "metadata": {},
   "outputs": [
    {
     "data": {
      "text/plain": [
       "1"
      ]
     },
     "execution_count": 44,
     "metadata": {},
     "output_type": "execute_result"
    }
   ],
   "source": [
    "errors"
   ]
  },
  {
   "cell_type": "code",
   "execution_count": 45,
   "metadata": {},
   "outputs": [
    {
     "ename": "ValueError",
     "evalue": "Expecting , delimiter: line 1 column 98 (char 97)",
     "output_type": "error",
     "traceback": [
      "\u001b[0;31m---------------------------------------------------------------------------\u001b[0m",
      "\u001b[0;31mValueError\u001b[0m                                Traceback (most recent call last)",
      "\u001b[0;32m<ipython-input-45-c7171ab445e8>\u001b[0m in \u001b[0;36m<module>\u001b[0;34m()\u001b[0m\n\u001b[0;32m----> 1\u001b[0;31m \u001b[0mjson\u001b[0m\u001b[0;34m.\u001b[0m\u001b[0mloads\u001b[0m\u001b[0;34m(\u001b[0m\u001b[0mline\u001b[0m\u001b[0;34m)\u001b[0m\u001b[0;34m\u001b[0m\u001b[0m\n\u001b[0m",
      "\u001b[0;32m/usr/local/Cellar/python/2.7.14_2/Frameworks/Python.framework/Versions/2.7/lib/python2.7/json/__init__.pyc\u001b[0m in \u001b[0;36mloads\u001b[0;34m(s, encoding, cls, object_hook, parse_float, parse_int, parse_constant, object_pairs_hook, **kw)\u001b[0m\n\u001b[1;32m    337\u001b[0m             \u001b[0mparse_int\u001b[0m \u001b[0;32mis\u001b[0m \u001b[0mNone\u001b[0m \u001b[0;32mand\u001b[0m \u001b[0mparse_float\u001b[0m \u001b[0;32mis\u001b[0m \u001b[0mNone\u001b[0m \u001b[0;32mand\u001b[0m\u001b[0;34m\u001b[0m\u001b[0m\n\u001b[1;32m    338\u001b[0m             parse_constant is None and object_pairs_hook is None and not kw):\n\u001b[0;32m--> 339\u001b[0;31m         \u001b[0;32mreturn\u001b[0m \u001b[0m_default_decoder\u001b[0m\u001b[0;34m.\u001b[0m\u001b[0mdecode\u001b[0m\u001b[0;34m(\u001b[0m\u001b[0ms\u001b[0m\u001b[0;34m)\u001b[0m\u001b[0;34m\u001b[0m\u001b[0m\n\u001b[0m\u001b[1;32m    340\u001b[0m     \u001b[0;32mif\u001b[0m \u001b[0mcls\u001b[0m \u001b[0;32mis\u001b[0m \u001b[0mNone\u001b[0m\u001b[0;34m:\u001b[0m\u001b[0;34m\u001b[0m\u001b[0m\n\u001b[1;32m    341\u001b[0m         \u001b[0mcls\u001b[0m \u001b[0;34m=\u001b[0m \u001b[0mJSONDecoder\u001b[0m\u001b[0;34m\u001b[0m\u001b[0m\n",
      "\u001b[0;32m/usr/local/Cellar/python/2.7.14_2/Frameworks/Python.framework/Versions/2.7/lib/python2.7/json/decoder.pyc\u001b[0m in \u001b[0;36mdecode\u001b[0;34m(self, s, _w)\u001b[0m\n\u001b[1;32m    362\u001b[0m \u001b[0;34m\u001b[0m\u001b[0m\n\u001b[1;32m    363\u001b[0m         \"\"\"\n\u001b[0;32m--> 364\u001b[0;31m         \u001b[0mobj\u001b[0m\u001b[0;34m,\u001b[0m \u001b[0mend\u001b[0m \u001b[0;34m=\u001b[0m \u001b[0mself\u001b[0m\u001b[0;34m.\u001b[0m\u001b[0mraw_decode\u001b[0m\u001b[0;34m(\u001b[0m\u001b[0ms\u001b[0m\u001b[0;34m,\u001b[0m \u001b[0midx\u001b[0m\u001b[0;34m=\u001b[0m\u001b[0m_w\u001b[0m\u001b[0;34m(\u001b[0m\u001b[0ms\u001b[0m\u001b[0;34m,\u001b[0m \u001b[0;36m0\u001b[0m\u001b[0;34m)\u001b[0m\u001b[0;34m.\u001b[0m\u001b[0mend\u001b[0m\u001b[0;34m(\u001b[0m\u001b[0;34m)\u001b[0m\u001b[0;34m)\u001b[0m\u001b[0;34m\u001b[0m\u001b[0m\n\u001b[0m\u001b[1;32m    365\u001b[0m         \u001b[0mend\u001b[0m \u001b[0;34m=\u001b[0m \u001b[0m_w\u001b[0m\u001b[0;34m(\u001b[0m\u001b[0ms\u001b[0m\u001b[0;34m,\u001b[0m \u001b[0mend\u001b[0m\u001b[0;34m)\u001b[0m\u001b[0;34m.\u001b[0m\u001b[0mend\u001b[0m\u001b[0;34m(\u001b[0m\u001b[0;34m)\u001b[0m\u001b[0;34m\u001b[0m\u001b[0m\n\u001b[1;32m    366\u001b[0m         \u001b[0;32mif\u001b[0m \u001b[0mend\u001b[0m \u001b[0;34m!=\u001b[0m \u001b[0mlen\u001b[0m\u001b[0;34m(\u001b[0m\u001b[0ms\u001b[0m\u001b[0;34m)\u001b[0m\u001b[0;34m:\u001b[0m\u001b[0;34m\u001b[0m\u001b[0m\n",
      "\u001b[0;32m/usr/local/Cellar/python/2.7.14_2/Frameworks/Python.framework/Versions/2.7/lib/python2.7/json/decoder.pyc\u001b[0m in \u001b[0;36mraw_decode\u001b[0;34m(self, s, idx)\u001b[0m\n\u001b[1;32m    378\u001b[0m         \"\"\"\n\u001b[1;32m    379\u001b[0m         \u001b[0;32mtry\u001b[0m\u001b[0;34m:\u001b[0m\u001b[0;34m\u001b[0m\u001b[0m\n\u001b[0;32m--> 380\u001b[0;31m             \u001b[0mobj\u001b[0m\u001b[0;34m,\u001b[0m \u001b[0mend\u001b[0m \u001b[0;34m=\u001b[0m \u001b[0mself\u001b[0m\u001b[0;34m.\u001b[0m\u001b[0mscan_once\u001b[0m\u001b[0;34m(\u001b[0m\u001b[0ms\u001b[0m\u001b[0;34m,\u001b[0m \u001b[0midx\u001b[0m\u001b[0;34m)\u001b[0m\u001b[0;34m\u001b[0m\u001b[0m\n\u001b[0m\u001b[1;32m    381\u001b[0m         \u001b[0;32mexcept\u001b[0m \u001b[0mStopIteration\u001b[0m\u001b[0;34m:\u001b[0m\u001b[0;34m\u001b[0m\u001b[0m\n\u001b[1;32m    382\u001b[0m             \u001b[0;32mraise\u001b[0m \u001b[0mValueError\u001b[0m\u001b[0;34m(\u001b[0m\u001b[0;34m\"No JSON object could be decoded\"\u001b[0m\u001b[0;34m)\u001b[0m\u001b[0;34m\u001b[0m\u001b[0m\n",
      "\u001b[0;31mValueError\u001b[0m: Expecting , delimiter: line 1 column 98 (char 97)"
     ]
    }
   ],
   "source": [
    "json.loads(line)"
   ]
  },
  {
   "cell_type": "code",
   "execution_count": 37,
   "metadata": {},
   "outputs": [
    {
     "ename": "SyntaxError",
     "evalue": "invalid syntax (<ipython-input-37-7c515a6bb254>, line 1)",
     "output_type": "error",
     "traceback": [
      "\u001b[0;36m  File \u001b[0;32m\"<ipython-input-37-7c515a6bb254>\"\u001b[0;36m, line \u001b[0;32m1\u001b[0m\n\u001b[0;31m    json.loads(\"{\"sighted_at\": \"20050530\", \"reported_at\": \"20050607\", \"location\": \" Knoxville/Alcoa, TN\", \"shape\": \" chevron\", \"duration\": \"10\"\", \"description\": \"Shallow Boomerang sighted in E. TN.While traveling to work going south on u.s. 129, at 22:50 hrs., I noticed a large, blood red, light in the east.  While continuing to observe, I also noticed a strobing red light next to the large blood red light.  THese lights were on the nose of the craft, and on each wingtip were smaller white lights.  On the wingtip opposite of the strobing red light, one of the wht lights was also strobing.The craft was approximately 200&apos;-250&apos; in altitude, and approximately 100&apos; from wingtip to wingtip.THe craft was moving sort of like a hummingbird, or bumblebee, (I later handled a mag. lev. globe @ Walgreen&apos;s which was very reminiscent of the movement of said craft).I rolled down my window to listen for noise, which was difficult to detect over hwy. noise, and heard nothing from the craft, but noticed two smaller planes approaching from aproximately from the s.e..THe craft was hovering, and seemed to keep it&apos;s nose toward my vehicle, tho this may have been an illusion created by the shape and length of Alcoa Hwy. (u.s. 129).I also noticed a feeling of electricity in the air, and mild interference on the radio in my car.This craft dissapeared suddenly, while I had looked away for a second to check the road.  I looked back in my rearviews, and it was just gone.((NUFORC Note:  Witness indicates that date of the incident is approximate.  PD))\"}\")\u001b[0m\n\u001b[0m                           ^\u001b[0m\n\u001b[0;31mSyntaxError\u001b[0m\u001b[0;31m:\u001b[0m invalid syntax\n"
     ]
    }
   ],
   "source": []
  },
  {
   "cell_type": "code",
   "execution_count": null,
   "metadata": {},
   "outputs": [],
   "source": []
  }
 ],
 "metadata": {
  "kernelspec": {
   "display_name": "Python 2",
   "language": "python",
   "name": "python2"
  },
  "language_info": {
   "codemirror_mode": {
    "name": "ipython",
    "version": 2
   },
   "file_extension": ".py",
   "mimetype": "text/x-python",
   "name": "python",
   "nbconvert_exporter": "python",
   "pygments_lexer": "ipython2",
   "version": "2.7.14"
  }
 },
 "nbformat": 4,
 "nbformat_minor": 2
}
